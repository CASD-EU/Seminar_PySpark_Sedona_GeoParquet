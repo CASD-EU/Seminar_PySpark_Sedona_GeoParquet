{
 "cells": [
  {
   "metadata": {
    "collapsed": true
   },
   "cell_type": "markdown",
   "source": [
    "# GeoParquet, parquet for geospatial data\n",
    "\n",
    "In this tutorial, we will learn what are the parquet and geoparquet file format.\n",
    "\n",
    "## 1. What is apache parquet?\n",
    "\n",
    "**Apache Parquet** is a `columnar storage file format` widely used in big data analytics (Spark, Hive, Dask, DuckDB). Unlike row-based file format, parquet stored values from the same column sequentially. This makes column scans fast and compresses better.\n",
    "\n",
    "For example, row based storage will save data like:\n",
    "```csv\n",
    "id, name, age\n",
    "1, Alice, 34\n",
    "2, Bob, 45\n",
    "3, Carol, 29\n",
    "```\n",
    "\n",
    "And, column based storage will save data like:\n",
    "```csv\n",
    "id: [1, 2, 3]\n",
    "name: [Alice, Bob, Carol]\n",
    "age: [34, 45, 29]\n",
    "```\n",
    "\n",
    "Compare to row based format, `columnar storage file format (parquet)` has the below advantages are:\n",
    "- Column encoding is possible: the encoding such as `dictionary`, `run-length encoding (RLE)`, `bit-packing` can improve storage and lecture speed.\n",
    "- Better compression: values are similar in the same column, so it compresses much better than row formats.\n",
    "- Better data loading performance: `projection pushdown`(reads only required column), `predicate pushdown`(reads only relevant chunks if filter conditions match).\n",
    "- The Schema and metadata are embedded and customizable.\n",
    "- Data partition is supported: works well in distributed systems, and efficient for large-scale analytical queries (data warehouses, data lakes).\n",
    "\n",
    "\n",
    "The disadvantages are:\n",
    "- Not Ideal for datasets(<1MB): metadata and encoding may cost you more than the actual data\n",
    "- Not human-readable: Parquet is a binary format. You need tools (e.g. Pandas, DuckDB, etc.) to read and debug.\n",
    "Complexity\n",
    "- Write Cost: Writing is more CPU-intensive (encoding + compression). Insert or update a row may require to rewrite the whole parquet file.\n",
    "\n",
    "> Parquet is a file format designed for large-scale data analytics with the pattern Write Once Read Many(worm). It's not ideal for small, transactional workloads(e.g. need update data every second).\n",
    "\n",
    "## 2. What is GeoParquet?\n",
    "\n",
    "**GeoParquet** is an extension of `Apache Parquet` designed for storing `geospatial vector data` (points, lines, polygons) in a columnar, compressed, efficient format.\n",
    "\n",
    "The official website of the GeoParquet project is [here](https://geoparquet.org/)\n",
    "\n",
    "To be able to store `geospatial vector data`, **GeoParquet** adds the below concepts in the metadata of the parquet:\n",
    "- which column is geometry column\n",
    "- how geometries data is encoded(e.g. WKB, GeoArrow, etc.).\n",
    "- which CRS(Coordinate Reference System) is used.\n",
    "\n",
    "For example, a typical geoparquet metadata looks like\n",
    "\n",
    "```json\n",
    "{\n",
    "  \"version\": \"1.0.0-beta.1\",\n",
    "  \"primary_column\": \"geometry\",\n",
    "  \"columns\": {\n",
    "    \"geometry\": {\n",
    "      \"encoding\": \"WKB\",\n",
    "      \"geometry_types\": [\"Polygon\", \"MultiPolygon\"],\n",
    "      \"crs\": \"EPSG:4326\"\n",
    "    }\n",
    "  }\n",
    "}\n",
    "\n",
    "```\n",
    "\n",
    "> The parquet file has one geometry column called `geometry`, it use `WKB` as geospatial data encoding. The crs is\n",
    "> `EPSG:4326`\n",
    "\n",
    "\n",
    "The advantage of geoparquet:\n",
    "\n",
    "- Much faster than GeoJSON or Shapefile for analytics.\n",
    "- Can be partitioned for big data volume. It works well with distributed engines (Spark, Dask).\n",
    "- Reduce disk usage due to columnar storage & compression.\n",
    "- Standardized metadata ensures interoperability.\n",
    "\n",
    "### 2.1 Supported tools\n",
    "\n",
    "The below tools can read geoparquet\n",
    "\n",
    "- GeoPandas (Python)\n",
    "- Sedona(Python, Java, scala)\n",
    "- DuckDB(Python, R, SQL)\n",
    "- Fiona/GDAL\n",
    "- QGIS/ArcGIS Pro\n",
    "\n",
    "## 3. Read a geoparquet file with sedona"
   ],
   "id": "5be3f87d4822090d"
  },
  {
   "metadata": {
    "ExecuteTime": {
     "end_time": "2025-08-25T13:41:28.675276Z",
     "start_time": "2025-08-25T13:41:21.399844Z"
    }
   },
   "cell_type": "code",
   "source": [
    "from sedona.spark import *\n",
    "from pyspark.sql import SparkSession, DataFrame\n",
    "from pathlib import Path\n",
    "from pyspark.sql.functions import trim, split, expr, col"
   ],
   "id": "9ea95f982c2402a2",
   "outputs": [],
   "execution_count": 1
  },
  {
   "metadata": {},
   "cell_type": "code",
   "outputs": [],
   "execution_count": null,
   "source": [
    "import os\n",
    "os.environ[\"PYSPARK_PYTHON\"]=\"python\"\n",
    "os.environ[\"PYSPARK_DRIVER_PYTHON\"]=\"python\""
   ],
   "id": "182ca5ab74b20ea"
  },
  {
   "metadata": {
    "ExecuteTime": {
     "end_time": "2025-08-25T13:41:28.691062Z",
     "start_time": "2025-08-25T13:41:28.679932Z"
    }
   },
   "cell_type": "code",
   "source": [
    "# build a sedona session offline\n",
    "project_root_dir = Path.cwd().parent\n",
    "print(project_root_dir.as_posix())"
   ],
   "id": "8b5db7b2cb2c18a3",
   "outputs": [
    {
     "name": "stdout",
     "output_type": "stream",
     "text": [
      "C:/Users/PLIU/Documents/git/Seminar_PySpark_Sedona_GeoParquet\n"
     ]
    }
   ],
   "execution_count": 2
  },
  {
   "metadata": {
    "ExecuteTime": {
     "end_time": "2025-08-25T13:42:02.609775Z",
     "start_time": "2025-08-25T13:41:28.721663Z"
    }
   },
   "cell_type": "code",
   "source": [
    "# here we choose sedona 1.7.2 for spark 3.5.* build with scala 2.12\n",
    "jar_folder = Path(f\"{project_root_dir}/jars/sedona-35-212-172\")\n",
    "jar_list = [str(jar) for jar in jar_folder.iterdir() if jar.is_file()]\n",
    "jar_path = \",\".join(jar_list)\n",
    "\n",
    "# build a sedona session (sedona = 1.7.2) offline\n",
    "spark = SparkSession.builder \\\n",
    "    .appName(\"sedona_tutorial\") \\\n",
    "    .master(\"local[*]\") \\\n",
    "    .config(\"spark.jars\", jar_path) \\\n",
    "    .getOrCreate()"
   ],
   "id": "fe7079df9b17a101",
   "outputs": [],
   "execution_count": 3
  },
  {
   "metadata": {
    "ExecuteTime": {
     "end_time": "2025-08-25T13:42:11.359620Z",
     "start_time": "2025-08-25T13:42:03.201442Z"
    }
   },
   "cell_type": "code",
   "source": [
    "# create a sedona context\n",
    "sedona = SedonaContext.create(spark)"
   ],
   "id": "604640a85f05172c",
   "outputs": [],
   "execution_count": 4
  },
  {
   "metadata": {
    "ExecuteTime": {
     "end_time": "2025-08-25T13:42:11.408734Z",
     "start_time": "2025-08-25T13:42:11.393955Z"
    }
   },
   "cell_type": "code",
   "source": [
    "sc = spark.sparkContext\n",
    "# use utf as default encoding\n",
    "sc.setSystemProperty(\"sedona.global.charset\", \"utf8\")"
   ],
   "id": "fc72f14ad03b30ab",
   "outputs": [],
   "execution_count": 5
  },
  {
   "metadata": {
    "ExecuteTime": {
     "end_time": "2025-08-25T13:48:06.094133Z",
     "start_time": "2025-08-25T13:48:05.988755Z"
    }
   },
   "cell_type": "code",
   "source": [
    "data_dir = f\"{project_root_dir}/data\"\n",
    "airports_parquet_path = f\"{data_dir}/airports.parquet\"\n",
    "\n",
    "raw_parquet_df= sedona.read.format(\"geoparquet\").load(airports_parquet_path)"
   ],
   "id": "79a88eae339b973",
   "outputs": [],
   "execution_count": 10
  },
  {
   "metadata": {
    "ExecuteTime": {
     "end_time": "2025-08-25T13:48:06.349349Z",
     "start_time": "2025-08-25T13:48:06.342226Z"
    }
   },
   "cell_type": "code",
   "source": "raw_parquet_df.printSchema()",
   "id": "dbb72b7bda4bb016",
   "outputs": [
    {
     "name": "stdout",
     "output_type": "stream",
     "text": [
      "root\n",
      " |-- geometry: geometry (nullable = true)\n",
      " |-- scalerank: string (nullable = true)\n",
      " |-- featurecla: string (nullable = true)\n",
      " |-- type: string (nullable = true)\n",
      " |-- name: string (nullable = true)\n",
      " |-- abbrev: string (nullable = true)\n",
      " |-- location: string (nullable = true)\n",
      " |-- gps_code: string (nullable = true)\n",
      " |-- iata_code: string (nullable = true)\n",
      " |-- wikipedia: string (nullable = true)\n",
      " |-- natlscale: string (nullable = true)\n",
      "\n"
     ]
    }
   ],
   "execution_count": 11
  },
  {
   "metadata": {
    "ExecuteTime": {
     "end_time": "2025-08-25T13:48:07.913782Z",
     "start_time": "2025-08-25T13:48:06.932810Z"
    }
   },
   "cell_type": "code",
   "source": [
    "geo_airports = raw_parquet_df.select(\"geometry\",\"name\",\"iata_code\",\"gps_code\")\n",
    "geo_airports.show(1,truncate=False,vertical=True)"
   ],
   "id": "7aa6e85663e6999d",
   "outputs": [
    {
     "name": "stdout",
     "output_type": "stream",
     "text": [
      "-RECORD 0-------------------------------------------------------------------------------------------------------------------------------------------------------------------------------------------------------------------------------------------------------------------\n",
      " geometry  | POINT (113.93501638737635 22.315332828086753)                                                                                                                                                                                                                  \n",
      " name      | Hong Kong Int'l                                                                                                                                                                                                                                                \n",
      " iata_code | HKG                                                                                                                                                                                                                                                            \n",
      " gps_code  | VHHH                                                                                                                                                                                                                                                           \n",
      "only showing top 1 row\n",
      "\n"
     ]
    }
   ],
   "execution_count": 12
  },
  {
   "metadata": {},
   "cell_type": "markdown",
   "source": [
    "## 4. Write a geoparquet file\n",
    "\n",
    "Let's try to write a geoparquet file with default metadata."
   ],
   "id": "3c9c9ace0e141686"
  },
  {
   "metadata": {
    "ExecuteTime": {
     "end_time": "2025-08-25T14:25:08.545957Z",
     "start_time": "2025-08-25T14:25:08.540386Z"
    }
   },
   "cell_type": "code",
   "source": [
    "out_dir = f\"{data_dir}/tmp\"\n",
    "simple_airports_out_path = f\"{out_dir}/simple_geo_airports_parquet\""
   ],
   "id": "d1dff522d0b087b1",
   "outputs": [],
   "execution_count": 14
  },
  {
   "metadata": {
    "ExecuteTime": {
     "end_time": "2025-08-25T14:25:14.851288Z",
     "start_time": "2025-08-25T14:25:14.163665Z"
    }
   },
   "cell_type": "code",
   "source": "geo_airports.write.format(\"geoparquet\").option(\"geoparquet.version\",\"1.1.0\").save(simple_airports_out_path)",
   "id": "11165a2a2bdacb21",
   "outputs": [],
   "execution_count": 15
  },
  {
   "metadata": {
    "ExecuteTime": {
     "end_time": "2025-08-25T14:27:54.002660Z",
     "start_time": "2025-08-25T14:27:53.967280Z"
    }
   },
   "cell_type": "code",
   "source": [
    "# now let's read the metadata of the generated geoparquet file\n",
    "simple_df_metadata = sedona.read.format(\"geoparquet.metadata\").load(simple_airports_out_path)"
   ],
   "id": "673aa10b802ccaf5",
   "outputs": [],
   "execution_count": 18
  },
  {
   "metadata": {
    "ExecuteTime": {
     "end_time": "2025-08-25T14:27:54.973614Z",
     "start_time": "2025-08-25T14:27:54.961300Z"
    }
   },
   "cell_type": "code",
   "source": "simple_df_metadata.printSchema()",
   "id": "e0cad2cf3ae7ed40",
   "outputs": [
    {
     "name": "stdout",
     "output_type": "stream",
     "text": [
      "root\n",
      " |-- path: string (nullable = true)\n",
      " |-- version: string (nullable = true)\n",
      " |-- primary_column: string (nullable = true)\n",
      " |-- columns: map (nullable = true)\n",
      " |    |-- key: string\n",
      " |    |-- value: struct (valueContainsNull = true)\n",
      " |    |    |-- encoding: string (nullable = true)\n",
      " |    |    |-- geometry_types: array (nullable = true)\n",
      " |    |    |    |-- element: string (containsNull = true)\n",
      " |    |    |-- bbox: array (nullable = true)\n",
      " |    |    |    |-- element: double (containsNull = true)\n",
      " |    |    |-- crs: string (nullable = true)\n",
      " |    |    |-- covering: string (nullable = true)\n",
      "\n"
     ]
    }
   ],
   "execution_count": 19
  },
  {
   "metadata": {
    "ExecuteTime": {
     "end_time": "2025-08-25T14:28:30.032449Z",
     "start_time": "2025-08-25T14:28:29.760728Z"
    }
   },
   "cell_type": "code",
   "source": "simple_df_metadata.show(truncate=False, vertical=True)",
   "id": "ca2ae483ceb534db",
   "outputs": [
    {
     "name": "stdout",
     "output_type": "stream",
     "text": [
      "-RECORD 0--------------------------------------------------------------------------------------------------------------------------------------------------------------------------------------\n",
      " path           | file:/C:/Users/PLIU/Documents/git/Seminar_PySpark_Sedona_GeoParquet/data/tmp/simple_geo_airports_parquet/part-00000-f0b49b97-1b27-4a02-a829-bfe69fa0b248-c000.snappy.parquet \n",
      " version        | 1.1.0                                                                                                                                                                        \n",
      " primary_column | geometry                                                                                                                                                                     \n",
      " columns        | {geometry -> {WKB, [Point], [-175.135635, -53.005069825517666, 178.5600483699593, 71.289299], null, NULL}}                                                                   \n",
      "\n"
     ]
    }
   ],
   "execution_count": 20
  },
  {
   "metadata": {},
   "cell_type": "markdown",
   "source": [
    "### 4.1 Understand the geoparquet metadata\n",
    "\n",
    "The GeoParquet metadata stores the following information:\n",
    "- path: The file path\n",
    "- version: geoparquet version(different version has different metadata schema)\n",
    "- primary_column: The bbox index is calculated based on the primary column.\n",
    "- columns: a key value map which stores column metadata for each geometry column. It contains the below information for each column:\n",
    "    - geometry_type: type of geometric object like point or polygon\n",
    "    - bbox: bounding box of objects in file\n",
    "    - crs: Coordinate Reference System\n",
    "    - covering: a struct column of xmin, ymin, xmax, ymax that provides the row group statistics for GeoParquet 1.1 files"
   ],
   "id": "818edbf98086ca46"
  },
  {
   "metadata": {},
   "cell_type": "markdown",
   "source": [
    "#### 4.1.1 Bounding box (bbox) in GeoParquet\n",
    "\n",
    "The `bounding box(bbox)` metadata specifies the area covered by geometric shapes in a given file. Suppose you query points in a region not covered by the bounding box for a given file. The engine(sedona) can `skip that entire file` when executing the query because it’s known that it does not cover any relevant data.\n",
    "\n",
    "Skipping entire files of data can massively improve performance. The more data that’s skipped, the faster the query will run.\n",
    "\n",
    "Let’s look at an example of a dataset with three bounding boxes. Imagine we have a dataset with three partitions/files, and each partition/file has an associated bbox\n",
    "![bbox1](../assets/geoparquet_bbox1.png)\n",
    "\n",
    "Now, let’s apply a `spatial filter(ST_Within)` to read points within a particular area(e.g. bbox2).\n",
    "Sedona will only read the data in partition/file of bbox2, the other two files will be omitted.\n",
    "![bbox2](../assets/geoparquet_bbox2.png)"
   ],
   "id": "bd52f3eec4bc9e3"
  },
  {
   "metadata": {},
   "cell_type": "markdown",
   "source": [
    "### 4.2 Custom metadata in geo parquet\n",
    "\n",
    "As parquet allows us to insert custom metadata, so geo parquet has this ability too.\n",
    "\n",
    "The most used metadata in geo parquet is:\n",
    "  - crs coordinates for geometry column\n",
    "  - covering metadata: For each geometry column, a top-level struct column containing xmin, ymin, xmax,ymax. The `covering` field specifies a bounding box column to help accelerate spatial data retrieval\n",
    "\n",
    "\n",
    "#### 4.2.1 Integrated CRS coordinates for geometry columns\n",
    "\n",
    "The maps of the surface of the earth is in two dimensions. But, as you know, the world is actually a three-dimensional globe. So we have to use a method called a `map projection` to render it as a flat surface. We use a coordinate reference system (CRS) to show how the projected points correspond to real locations on Earth.\n",
    "\n",
    "For example, the coordinate (Latitude: 48.8566, Longitude: 2.3522) is in Paris in the `WGS84(ESPG:4326)` CRS. The same point in `EPSG:3857` (e.g. OSM) would be (X: 261845.83,Y: 6250561.88)"
   ],
   "id": "2e6e96f9f11e647e"
  },
  {
   "metadata": {
    "ExecuteTime": {
     "end_time": "2025-08-25T14:53:23.857021Z",
     "start_time": "2025-08-25T14:53:23.845396Z"
    }
   },
   "cell_type": "code",
   "source": [
    "crs_code_for_geometry =\"\"\"\n",
    "{\n",
    "    \"$schema\": \"https://proj.org/schemas/v0.7/projjson.schema.json\",\n",
    "    \"type\": \"GeographicCRS\",\n",
    "    \"name\": \"WGS 84\",\n",
    "    \"datum_ensemble\": {\n",
    "        \"name\": \"World Geodetic System 1984 ensemble\",\n",
    "        \"members\": [\n",
    "            {\n",
    "                \"name\": \"World Geodetic System 1984 (Transit)\",\n",
    "                \"id\": {\n",
    "                    \"authority\": \"EPSG\",\n",
    "                    \"code\": 1166\n",
    "                }\n",
    "            },\n",
    "            {\n",
    "                \"name\": \"World Geodetic System 1984 (G730)\",\n",
    "                \"id\": {\n",
    "                    \"authority\": \"EPSG\",\n",
    "                    \"code\": 1152\n",
    "                }\n",
    "            },\n",
    "            {\n",
    "                \"name\": \"World Geodetic System 1984 (G873)\",\n",
    "                \"id\": {\n",
    "                    \"authority\": \"EPSG\",\n",
    "                    \"code\": 1153\n",
    "                }\n",
    "            },\n",
    "            {\n",
    "                \"name\": \"World Geodetic System 1984 (G1150)\",\n",
    "                \"id\": {\n",
    "                    \"authority\": \"EPSG\",\n",
    "                    \"code\": 1154\n",
    "                }\n",
    "            },\n",
    "            {\n",
    "                \"name\": \"World Geodetic System 1984 (G1674)\",\n",
    "                \"id\": {\n",
    "                    \"authority\": \"EPSG\",\n",
    "                    \"code\": 1155\n",
    "                }\n",
    "            },\n",
    "            {\n",
    "                \"name\": \"World Geodetic System 1984 (G1762)\",\n",
    "                \"id\": {\n",
    "                    \"authority\": \"EPSG\",\n",
    "                    \"code\": 1156\n",
    "                }\n",
    "            },\n",
    "            {\n",
    "                \"name\": \"World Geodetic System 1984 (G2139)\",\n",
    "                \"id\": {\n",
    "                    \"authority\": \"EPSG\",\n",
    "                    \"code\": 1309\n",
    "                }\n",
    "            }\n",
    "        ],\n",
    "        \"ellipsoid\": {\n",
    "            \"name\": \"WGS 84\",\n",
    "            \"semi_major_axis\": 6378137,\n",
    "            \"inverse_flattening\": 298.257223563\n",
    "        },\n",
    "        \"accuracy\": \"2.0\",\n",
    "        \"id\": {\n",
    "            \"authority\": \"EPSG\",\n",
    "            \"code\": 6326\n",
    "        }\n",
    "    },\n",
    "    \"coordinate_system\": {\n",
    "        \"subtype\": \"ellipsoidal\",\n",
    "        \"axis\": [\n",
    "            {\n",
    "                \"name\": \"Geodetic latitude\",\n",
    "                \"abbreviation\": \"Lat\",\n",
    "                \"direction\": \"north\",\n",
    "                \"unit\": \"degree\"\n",
    "            },\n",
    "            {\n",
    "                \"name\": \"Geodetic longitude\",\n",
    "                \"abbreviation\": \"Lon\",\n",
    "                \"direction\": \"east\",\n",
    "                \"unit\": \"degree\"\n",
    "            }\n",
    "        ]\n",
    "    },\n",
    "    \"scope\": \"Horizontal component of 3D system.\",\n",
    "    \"area\": \"World.\",\n",
    "    \"bbox\": {\n",
    "        \"south_latitude\": -90,\n",
    "        \"west_longitude\": -180,\n",
    "        \"north_latitude\": 90,\n",
    "        \"east_longitude\": 180\n",
    "    },\n",
    "    \"id\": {\n",
    "        \"authority\": \"EPSG\",\n",
    "        \"code\": 4326\n",
    "    }\n",
    "}\"\"\""
   ],
   "id": "8d9b4bdf1a83a392",
   "outputs": [],
   "execution_count": 22
  },
  {
   "metadata": {
    "ExecuteTime": {
     "end_time": "2025-08-25T14:53:24.488239Z",
     "start_time": "2025-08-25T14:53:24.323240Z"
    }
   },
   "cell_type": "code",
   "source": [
    "geoparquet_crs_sample_path = f\"{out_dir}/geoparquet_custom_crs_sample\"\n",
    "\n",
    "\n",
    "geo_airports.write.mode(\"overwrite\").format(\"geoparquet\").option(\"geoparquet.crs.geometry\",crs_code_for_geometry).option(\"geoparquet.version\",\"1.1.0\").save(geoparquet_crs_sample_path)"
   ],
   "id": "11779fe79b9cd831",
   "outputs": [],
   "execution_count": 23
  },
  {
   "metadata": {
    "ExecuteTime": {
     "end_time": "2025-08-25T14:53:31.640432Z",
     "start_time": "2025-08-25T14:53:31.453015Z"
    }
   },
   "cell_type": "code",
   "source": [
    "geo_crs_meta = sedona.read.format(\"geoparquet.metadata\").load(geoparquet_crs_sample_path)\n",
    "\n",
    "geo_crs_meta.show(truncate=False, vertical=True)"
   ],
   "id": "13f2f224f02c559f",
   "outputs": [
    {
     "name": "stdout",
     "output_type": "stream",
     "text": [
      "-RECORD 0-------------------------------------------------------------------------------------------------------------------------------------------------------------------------------------------------------------------------------------------------------------------------------------------------------------------------------------------------------------------------------------------------------------------------------------------------------------------------------------------------------------------------------------------------------------------------------------------------------------------------------------------------------------------------------------------------------------------------------------------------------------------------------------------------------------------------------------------------------------------------------------------------------------------------------------------------------------------------------------------------------------------------------------------------------------------------------------------------------------------------------------------------------------------------------------------------------------------------------------------------------------------------------------------------------------------------------------------------------------------------------------------------------------------------------------------------------------------------------------------\n",
      " path           | file:/C:/Users/PLIU/Documents/git/Seminar_PySpark_Sedona_GeoParquet/data/tmp/geoparquet_custom_crs_sample/part-00000-3b982696-f95a-4281-b39e-1e426430ff9e-c000.snappy.parquet                                                                                                                                                                                                                                                                                                                                                                                                                                                                                                                                                                                                                                                                                                                                                                                                                                                                                                                                                                                                                                                                                                                                                                                                                                                                                                     \n",
      " version        | 1.1.0                                                                                                                                                                                                                                                                                                                                                                                                                                                                                                                                                                                                                                                                                                                                                                                                                                                                                                                                                                                                                                                                                                                                                                                                                                                                                                                                                                                                                                                                             \n",
      " primary_column | geometry                                                                                                                                                                                                                                                                                                                                                                                                                                                                                                                                                                                                                                                                                                                                                                                                                                                                                                                                                                                                                                                                                                                                                                                                                                                                                                                                                                                                                                                                          \n",
      " columns        | {geometry -> {WKB, [Point], [-175.135635, -53.005069825517666, 178.5600483699593, 71.289299], {\"$schema\":\"https://proj.org/schemas/v0.7/projjson.schema.json\",\"type\":\"GeographicCRS\",\"name\":\"WGS 84\",\"datumEnsemble\":{\"name\":\"World Geodetic System 1984 ensemble\",\"members\":[{\"name\":\"World Geodetic System 1984 (Transit)\",\"id\":{\"authority\":\"EPSG\",\"code\":1166}},{\"name\":\"World Geodetic System 1984 (G730)\",\"id\":{\"authority\":\"EPSG\",\"code\":1152}},{\"name\":\"World Geodetic System 1984 (G873)\",\"id\":{\"authority\":\"EPSG\",\"code\":1153}},{\"name\":\"World Geodetic System 1984 (G1150)\",\"id\":{\"authority\":\"EPSG\",\"code\":1154}},{\"name\":\"World Geodetic System 1984 (G1674)\",\"id\":{\"authority\":\"EPSG\",\"code\":1155}},{\"name\":\"World Geodetic System 1984 (G1762)\",\"id\":{\"authority\":\"EPSG\",\"code\":1156}},{\"name\":\"World Geodetic System 1984 (G2139)\",\"id\":{\"authority\":\"EPSG\",\"code\":1309}}],\"ellipsoid\":{\"name\":\"WGS 84\",\"semiMajorAxis\":6378137,\"inverseFlattening\":298.257223563},\"accuracy\":\"2.0\",\"id\":{\"authority\":\"EPSG\",\"code\":6326}},\"coordinateSystem\":{\"subtype\":\"ellipsoidal\",\"axis\":[{\"name\":\"Geodetic latitude\",\"abbreviation\":\"Lat\",\"direction\":\"north\",\"unit\":\"degree\"},{\"name\":\"Geodetic longitude\",\"abbreviation\":\"Lon\",\"direction\":\"east\",\"unit\":\"degree\"}]},\"scope\":\"Horizontal component of 3D system.\",\"area\":\"World.\",\"bbox\":{\"southLatitude\":-90,\"westLongitude\":-180,\"northLatitude\":90,\"eastLongitude\":180},\"id\":{\"authority\":\"EPSG\",\"code\":4326}}, NULL}} \n",
      "\n"
     ]
    }
   ],
   "execution_count": 24
  },
  {
   "metadata": {},
   "cell_type": "markdown",
   "source": [
    "#### 4.2.2 Covering metadata (Column level bbox)\n",
    "\n",
    "Since `v1.6.1`, Sedona supports writing the **covering field** to geometry column metadata. The covering field specifies a bounding box column to help accelerate spatial data retrieval.\n",
    "\n",
    "The bounding box column should be a top-level struct column containing `xmin, ymin, xmax, ymax` columns. If the DataFrame you are writing contains such columns, you can specify\n",
    "`.option(\"geoparquet.covering.<geometryColumnName>\", \"<coveringColumnName>\")` option to write covering metadata to GeoParquet files"
   ],
   "id": "effa98d4f79bb1c6"
  },
  {
   "metadata": {
    "ExecuteTime": {
     "end_time": "2025-08-25T14:57:26.938533Z",
     "start_time": "2025-08-25T14:57:26.327508Z"
    }
   },
   "cell_type": "code",
   "source": [
    "geoparquet_column_bbox_sample_path = f\"{out_dir}/geoparquet_column_bbox_sample\"\n",
    "\n",
    "\n",
    "df_with_bbox= geo_airports.withColumn(\"bbox\",  expr(\"struct(ST_XMin(geometry) AS xmin, ST_YMin(geometry) AS ymin, ST_XMax(geometry) AS xmax, ST_YMax(geometry) AS ymax)\"))\n",
    "df_with_bbox.show(5, truncate=False)"
   ],
   "id": "f8b420c27f0120c5",
   "outputs": [
    {
     "name": "stdout",
     "output_type": "stream",
     "text": [
      "+---------------------------------------------+--------------------------------------------------------------------------------------------------------------------------------------------------------------------------------------------------------+--------------------------------------------------------------------------------------------------------------------------------------------------------------------------------------------------------------------------------------------------------------+--------------------------------------------------------------------------------------------------------------------------------------------------------------------------------------------------------------------------------------------------------------+--------------------------------------------------------------------------------+\n",
      "|geometry                                     |name                                                                                                                                                                                                    |iata_code                                                                                                                                                                                                                                                     |gps_code                                                                                                                                                                                                                                                      |bbox                                                                            |\n",
      "+---------------------------------------------+--------------------------------------------------------------------------------------------------------------------------------------------------------------------------------------------------------+--------------------------------------------------------------------------------------------------------------------------------------------------------------------------------------------------------------------------------------------------------------+--------------------------------------------------------------------------------------------------------------------------------------------------------------------------------------------------------------------------------------------------------------+--------------------------------------------------------------------------------+\n",
      "|POINT (113.93501638737635 22.315332828086753)|Hong Kong Int'l                                                                                                                                                                                         |HKG                                                                                                                                                                                                                                                           |VHHH                                                                                                                                                                                                                                                          |{113.93501638737635, 22.315332828086753, 113.93501638737635, 22.315332828086753}|\n",
      "|POINT (121.23137045332327 25.076741104334637)|Taoyuan                                                                                                                                                                                                 |TPE                                                                                                                                                                                                                                                           |RCTP                                                                                                                                                                                                                                                          |{121.23137045332327, 25.076741104334637, 121.23137045332327, 25.076741104334637}|\n",
      "|POINT (4.764376932328117 52.30893238898217)  |Schiphol                                                                                                                                                                                                |AMS                                                                                                                                                                                                                                                           |EHAM                                                                                                                                                                                                                                                          |{4.764376932328117, 52.30893238898217, 4.764376932328117, 52.30893238898217}    |\n",
      "|POINT (103.98641388099333 1.3561608352812635)|Singapore Changi                                                                                                                                                                                        |SIN                                                                                                                                                                                                                                                           |WSSS                                                                                                                                                                                                                                                          |{103.98641388099333, 1.3561608352812635, 103.98641388099333, 1.3561608352812635}|\n",
      "|POINT (-0.4531566520633094 51.47099587999384)|London Heathrow                                                                                                                                                                                         |LHR                                                                                                                                                                                                                                                           |EGLL                                                                                                                                                                                                                                                          |{-0.4531566520633094, 51.47099587999384, -0.4531566520633094, 51.47099587999384}|\n",
      "+---------------------------------------------+--------------------------------------------------------------------------------------------------------------------------------------------------------------------------------------------------------+--------------------------------------------------------------------------------------------------------------------------------------------------------------------------------------------------------------------------------------------------------------+--------------------------------------------------------------------------------------------------------------------------------------------------------------------------------------------------------------------------------------------------------------+--------------------------------------------------------------------------------+\n",
      "only showing top 5 rows\n",
      "\n"
     ]
    }
   ],
   "execution_count": 25
  },
  {
   "metadata": {
    "ExecuteTime": {
     "end_time": "2025-08-25T14:58:18.174020Z",
     "start_time": "2025-08-25T14:58:17.932586Z"
    }
   },
   "cell_type": "code",
   "source": "df_with_bbox.write.format(\"geoparquet\").option(\"geoparquet.covering.geometry\", \"bbox\").save(geoparquet_column_bbox_sample_path)",
   "id": "ed78edf3f9ff21d3",
   "outputs": [],
   "execution_count": 26
  },
  {
   "metadata": {
    "ExecuteTime": {
     "end_time": "2025-08-25T14:58:48.062421Z",
     "start_time": "2025-08-25T14:58:47.827973Z"
    }
   },
   "cell_type": "code",
   "source": [
    "geo_bbox_meta = sedona.read.format(\"geoparquet.metadata\").load(geoparquet_column_bbox_sample_path)\n",
    "\n",
    "geo_bbox_meta.show(truncate=False, vertical=True)"
   ],
   "id": "cdf6db9a170b9124",
   "outputs": [
    {
     "name": "stdout",
     "output_type": "stream",
     "text": [
      "-RECORD 0----------------------------------------------------------------------------------------------------------------------------------------------------------------------------------------------------------------------\n",
      " path           | file:/C:/Users/PLIU/Documents/git/Seminar_PySpark_Sedona_GeoParquet/data/tmp/geoparquet_column_bbox_sample/part-00000-58f6c6bd-239d-4f15-9052-d1d1c2d6bf14-c000.snappy.parquet                               \n",
      " version        | 1.1.0                                                                                                                                                                                                        \n",
      " primary_column | geometry                                                                                                                                                                                                     \n",
      " columns        | {geometry -> {WKB, [Point], [-175.135635, -53.005069825517666, 178.5600483699593, 71.289299], null, {\"bbox\":{\"xmin\":[\"bbox\",\"xmin\"],\"ymin\":[\"bbox\",\"ymin\"],\"xmax\":[\"bbox\",\"xmax\"],\"ymax\":[\"bbox\",\"ymax\"]}}}} \n",
      "\n"
     ]
    }
   ],
   "execution_count": 27
  },
  {
   "metadata": {},
   "cell_type": "code",
   "outputs": [],
   "execution_count": null,
   "source": [
    "# close the spark session\n",
    "spark.stop()"
   ],
   "id": "5226e49419b96061"
  },
  {
   "metadata": {},
   "cell_type": "markdown",
   "source": [
    "# Appendix\n",
    "\n",
    "## Coordinate Reference System (CRS)\n",
    "\n",
    "The maps of the surface of the earth is in two dimensions. But, as you know, the world is actually a three-dimensional globe. So we have to use a method called a `map projection` to render it as a flat surface. We use a coordinate reference system (CRS) to show how the projected points correspond to real locations on Earth.\n",
    "\n",
    "A Coordinate Reference System (CRS) is fundamental in geospatial data and GIS (Geographic Information Systems) because it defines how spatial data is represented on the Earth's surface. Without a proper CRS, geographic data from different sources would not align correctly, leading to errors and confusion in analysis, visualization, and decision-making.\n",
    "\n",
    "## **WGC**(World Geodetic reference System)\n",
    "\n",
    "It's used globally for mapping and navigation. The most widely known version is **WGS84**, which is the standard used by GPS. It defines the shape of the Earth (ellipsoid), the datum, and the coordinate system.\n",
    "\n",
    "Key Features:\n",
    "\n",
    "  - Datum: WGS84 Datum, a global standard for latitude, longitude, and ellipsoidal height.\n",
    "  - Coordinate System: A geographic coordinate system (latitude/longitude) on the WGS84 ellipsoid.\n",
    "   - Usage: Primarily used for GPS and satellite navigation systems.\n",
    "      -\n",
    " > WGS84 is often represented as EPSG:4326 in the EPSG registry, a geographic CRS with latitude and longitude coordinates.\n",
    "\n",
    "\n",
    "## OGC(Open Geospatial Consortium)\n",
    "\n",
    "**OGC** is an international organization that sets standards for geospatial and location-based services. It doesn’t define specific CRS codes but provides frameworks and specifications for managing and using CRS in geospatial systems.\n",
    "\n",
    "The OGC CRS URNs are part of its standard for referencing coordinate systems.\n",
    "\n",
    "```text\n",
    "urn:ogc:def:crs:EPSG::4326\n",
    "```\n",
    "\n",
    "## EPSG(European Petroleum Survey Group)\n",
    "\n",
    "**EPSG** is a registry maintained by the `International Association of Oil & Gas Producers (IOGP)`. It provides a database of `standardized codes for various CRS definitions`, including geographic, projected, and vertical coordinate systems.\n",
    "\n",
    "EPSG codes are numeric identifiers for specific CRS or transformation. For example:\n",
    " - **EPSG:4326**: `WGS84` in geographic coordinates (latitude/longitude).\n",
    " - **EPSG:3857**: `WGS84` Web Mercator projection (used by most web mapping services).\n",
    "\n",
    "> Widely used in GIS software (e.g., QGIS, ArcGIS) and geospatial APIs.\n",
    "\n",
    "\n"
   ],
   "id": "d0fb8b6f4eea1944"
  },
  {
   "metadata": {},
   "cell_type": "code",
   "outputs": [],
   "execution_count": null,
   "source": "",
   "id": "157fa21c7ab3f35d"
  }
 ],
 "metadata": {
  "kernelspec": {
   "display_name": "Python 3",
   "language": "python",
   "name": "python3"
  },
  "language_info": {
   "codemirror_mode": {
    "name": "ipython",
    "version": 2
   },
   "file_extension": ".py",
   "mimetype": "text/x-python",
   "name": "python",
   "nbconvert_exporter": "python",
   "pygments_lexer": "ipython2",
   "version": "2.7.6"
  }
 },
 "nbformat": 4,
 "nbformat_minor": 5
}
