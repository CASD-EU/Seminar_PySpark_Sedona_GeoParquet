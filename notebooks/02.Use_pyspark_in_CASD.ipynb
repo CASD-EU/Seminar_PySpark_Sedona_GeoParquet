{
 "cells": [
  {
   "metadata": {},
   "cell_type": "markdown",
   "source": [
    "# Get started with spark\n",
    "\n",
    "In this tutorial, we will learn:\n",
    "- how to create a spark session\n",
    "- read a csv file\n",
    "- read a parquet file\n",
    "\n",
    "\n",
    "## 1. Create a spark session"
   ],
   "id": "b42cf971a64f18ad"
  },
  {
   "metadata": {
    "ExecuteTime": {
     "end_time": "2025-08-05T14:13:13.042796Z",
     "start_time": "2025-08-05T14:13:12.825765Z"
    }
   },
   "cell_type": "code",
   "source": "from pyspark.sql import SparkSession",
   "id": "6fbe633fa74cd51c",
   "outputs": [],
   "execution_count": 1
  },
  {
   "metadata": {
    "ExecuteTime": {
     "end_time": "2025-08-05T14:13:17.212947Z",
     "start_time": "2025-08-05T14:13:13.207945Z"
    }
   },
   "cell_type": "code",
   "source": [
    "\n",
    "# create a spark session in local mode\n",
    "spark = SparkSession.builder \\\n",
    "     .master(\"local[*]\") \\\n",
    "    .appName(\"Analyze_fr_immo_transactions\") \\\n",
    "    .getOrCreate()"
   ],
   "id": "dbcc286d4b68fd6d",
   "outputs": [],
   "execution_count": 2
  },
  {
   "metadata": {
    "ExecuteTime": {
     "end_time": "2025-08-05T14:13:17.229273Z",
     "start_time": "2025-08-05T14:13:17.226037Z"
    }
   },
   "cell_type": "code",
   "source": "data_path = \"C:/Users/PLIU/Documents/ubuntu_share/data_set/france_immobilier/transactions_sample.csv\"",
   "id": "a9bbb8161d0224eb",
   "outputs": [],
   "execution_count": 3
  },
  {
   "metadata": {
    "ExecuteTime": {
     "end_time": "2025-08-05T14:13:23.052727Z",
     "start_time": "2025-08-05T14:13:17.232499Z"
    }
   },
   "cell_type": "code",
   "source": "fr_immo_transactions_df = spark.read.csv(data_path, header=True, inferSchema=True)",
   "id": "1a381ae6fd78177",
   "outputs": [],
   "execution_count": 4
  },
  {
   "metadata": {
    "ExecuteTime": {
     "end_time": "2025-08-05T14:13:23.567827Z",
     "start_time": "2025-08-05T14:13:23.107017Z"
    }
   },
   "cell_type": "code",
   "source": "fr_immo_transactions_df.show()",
   "id": "7151e23236639a2e",
   "outputs": [
    {
     "name": "stdout",
     "output_type": "stream",
     "text": [
      "+--------------+----------------+--------+-----------+--------+--------------------+-----------+--------------------+-------------+-----+--------+-----------------+--------------------+----------------+-----------------+-------------------+--------------------------+--------------------------+---------------------+-----------------------+\n",
      "|id_transaction|date_transaction|    prix|departement|id_ville|               ville|code_postal|             adresse|type_batiment| vefa|n_pieces|surface_habitable|id_parcelle_cadastre|        latitude|        longitude|surface_dependances|surface_locaux_industriels|surface_terrains_agricoles|surface_terrains_sols|surface_terrains_nature|\n",
      "+--------------+----------------+--------+-----------+--------+--------------------+-----------+--------------------+-------------+-----+--------+-----------------+--------------------+----------------+-----------------+-------------------+--------------------------+--------------------------+---------------------+-----------------------+\n",
      "|      10160888|      2015-07-22|222500.0|         63|     247|               MUROL|      63790|         5148  COMBE|       Maison|false|       4|              123|      63247000ZO0165|45.5729726213494| 2.94997597336221|                 {}|                        {}|                        {}|               {2387}|                     {}|\n",
      "|      10319766|      2024-06-18|218640.0|         73|      15|          LES ALLUES|      73550|45 RUE DU GRAND C...|  Appartement|false|       1|               23|      73015000AB0347|45.3987396582855| 6.56760164004644|                {0}|                        {}|                        {}|                   {}|                     {}|\n",
      "|      11545562|      2020-07-23|254950.0|         77|     316|MORET-LOING-ET-OR...|      77250|1 RUE DE LA CROIX...|       Maison|false|       6|              124|      773161700B0305|48.3337616035885| 2.78083033196279|                 {}|                        {}|                        {}|                {815}|                     {}|\n",
      "|      13891173|      2022-10-03|380000.0|         94|      81|     VITRY-SUR-SEINE|      94400|11 VOIE VICTOR MASSE|       Maison|false|       3|               93|      94081000AK0189| 48.796988276575| 2.37555811653132|                 {}|                        {}|                        {}|                {208}|                     {}|\n",
      "|      11794772|      2018-07-12|258000.0|         77|     284|               MEAUX|      77100|14 RUE PIERRE BON...|       Maison|false|       5|               96|      77284000AW0090|48.9488159934431| 2.89173438180231|                 {}|                        {}|                        {}|                   {}|                     {}|\n",
      "|      12400323|      2023-09-27|141000.0|         83|     137|              TOULON|      83100|112 RUE DE L'HOPI...|  Appartement|false|       2|               37|      83137000AX0634|43.1293203317371| 5.97056084698861|                {0}|                        {}|                        {}|                   {}|                     {}|\n",
      "|       9795965|      2019-10-03| 39990.0|         63|      80|            CHAMPEIX|      63320|3 PTR PTE RUE DE ...|       Maison|false|       5|               84|      63080000AB0147|45.5877798467162| 3.12831558960102|                 {}|                        {}|                        {}|                   {}|                     {}|\n",
      "|      13512916|      2017-01-04| 58000.0|         85|      49|CHAMPAGNE-LES-MARAIS|      85450|5 RUE DES PORTES ...|       Maison|false|       4|              127|      85049000AH0116|46.3824316578682|-1.12829943731582|                 {}|                        {}|                        {}|                {363}|                     {}|\n",
      "|        395925|      2020-08-27| 66500.0|          2|      64|              BELLEU|       2200|10 RUE DE STADTHAGEN|       Maison|false|       3|               62|      02064000AB0555|49.3661606906803|  3.3382068630547|                 {}|                        {}|                        {}|                {198}|                     {}|\n",
      "|      14721755|      2023-03-28| 69000.0|        972|      29|          SCHOELCHER|      97233|     5962F RUE CAIUS|  Appartement|false|       1|               30|      972290000T0962|14.6303234095821| -61.106291498063|                 {}|                        {}|                        {}|                   {}|                     {}|\n",
      "|      14805342|      2021-10-27|135000.0|        973|       2|             CAYENNE|      97300|63 AV DU GAL CHAR...|       Maison|false|       2|               87|      97302000AH0505|4.93971660021603|-52.3287816427087|                 {}|                      {30}|                        {}|                {203}|                     {}|\n",
      "|       6461221|      2018-05-31|295000.0|         44|      66|GRANDCHAMP-DES-FO...|      44119|15 RUE EDOUARD MANET|       Maison|false|       5|              102|      44066000AL0086|47.3649844824078|-1.59937382939577|                 {}|                        {}|                        {}|                {664}|                     {}|\n",
      "|         83448|      2019-12-12|167000.0|          1|     368|SAINT-JULIEN-SUR-...|       1540|1753 RTE DES CONT...|       Maison|false|       3|               48|      01368000ZA0058|46.1957149258676| 4.93493183748207|                 {}|                        {}|             {16479,26937}|               {1710}|                     {}|\n",
      "|      11453565|      2021-04-23|130500.0|         78|     440|       MUREAUX (LES)|      78130|      7 PARC AMILCAR|  Appartement|false|       4|               78|      78440000AV0943|48.9812401758526| 1.90918455458629|                {0}|                        {}|                        {}|                   {}|                     {}|\n",
      "|       7808827|      2023-11-07|212300.0|         62|     587| MONTIGNY EN GOHELLE|      62640|    12 RUE CAMELINAT|       Maison|false|       5|              103|      62587000AL0635|50.4232370665216| 2.92674086699745|                 {}|                        {}|                        {}|                {359}|                     {}|\n",
      "|       4572010|      2019-03-15|181000.0|         35|     238|              RENNES|      35000|   5 RUE LEGRAVEREND|  Appartement|false|       3|               72|      35238000AB0731|48.1170143949587|-1.68129635393468|              {0,0}|                        {}|                        {}|                   {}|                     {}|\n",
      "|      12757057|      2019-10-18|140000.0|         84|      90|     PEYPIN-D AIGUES|      84240|    41 RUE DU PASTRE|       Maison|false|       3|               80|      840900000E0472|43.7765229972007| 5.54851132153069|                 {}|                        {}|                     {420}|                {136}|                     {}|\n",
      "|       4877903|      2017-05-02|   500.0|         35|     238|              RENNES|      35000|   8 RUE DE BERTRAND|  Appartement|false|       1|               34|      35238000BE0071|48.1135883175467|-1.67874791796079|                 {}|                        {}|                        {}|                   {}|                     {}|\n",
      "|      14282531|      2018-03-22|200000.0|         91|     432|            MORANGIS|      91420| 13B RUE DE L EGLISE|  Appartement|false|       3|               64|      914320000D0174|48.7061481006131| 2.33743462223281|              {0,0}|                        {}|                        {}|                   {}|                     {}|\n",
      "|       3646896|      2016-09-21| 53000.0|         28|     232|               MANOU|      28240|  2 CHE DES CHARMOTS|       Maison|false|       3|               54|      282320000A0171|48.5472896294203| 0.94420387275169|                 {}|                        {}|                        {}|                {530}|                     {}|\n",
      "+--------------+----------------+--------+-----------+--------+--------------------+-----------+--------------------+-------------+-----+--------+-----------------+--------------------+----------------+-----------------+-------------------+--------------------------+--------------------------+---------------------+-----------------------+\n",
      "only showing top 20 rows\n",
      "\n"
     ]
    }
   ],
   "execution_count": 5
  },
  {
   "metadata": {
    "ExecuteTime": {
     "end_time": "2025-08-05T14:13:23.932361Z",
     "start_time": "2025-08-05T14:13:23.927145Z"
    }
   },
   "cell_type": "code",
   "source": "fr_immo_transactions_df.printSchema()",
   "id": "b764b67fad6f529c",
   "outputs": [
    {
     "name": "stdout",
     "output_type": "stream",
     "text": [
      "root\n",
      " |-- id_transaction: integer (nullable = true)\n",
      " |-- date_transaction: date (nullable = true)\n",
      " |-- prix: double (nullable = true)\n",
      " |-- departement: integer (nullable = true)\n",
      " |-- id_ville: integer (nullable = true)\n",
      " |-- ville: string (nullable = true)\n",
      " |-- code_postal: integer (nullable = true)\n",
      " |-- adresse: string (nullable = true)\n",
      " |-- type_batiment: string (nullable = true)\n",
      " |-- vefa: boolean (nullable = true)\n",
      " |-- n_pieces: integer (nullable = true)\n",
      " |-- surface_habitable: integer (nullable = true)\n",
      " |-- id_parcelle_cadastre: string (nullable = true)\n",
      " |-- latitude: double (nullable = true)\n",
      " |-- longitude: double (nullable = true)\n",
      " |-- surface_dependances: string (nullable = true)\n",
      " |-- surface_locaux_industriels: string (nullable = true)\n",
      " |-- surface_terrains_agricoles: string (nullable = true)\n",
      " |-- surface_terrains_sols: string (nullable = true)\n",
      " |-- surface_terrains_nature: string (nullable = true)\n",
      "\n"
     ]
    }
   ],
   "execution_count": 6
  },
  {
   "metadata": {
    "ExecuteTime": {
     "end_time": "2025-08-05T14:13:24.026573Z",
     "start_time": "2025-08-05T14:13:23.977353Z"
    }
   },
   "cell_type": "code",
   "source": [
    "required_col = [\"id_transaction\",\"date_transaction\",\"prix\",\"departement\",\"ville\",\"code_postal\",\"adresse\",\"type_batiment\",\"vefa\",\"n_pieces\",\"surface_habitable\",\"latitude\",\"longitude\"]\n",
    "clean_fr_immo_df = fr_immo_transactions_df.select(required_col)"
   ],
   "id": "6fb940ee1aa45c3d",
   "outputs": [],
   "execution_count": 7
  },
  {
   "metadata": {
    "ExecuteTime": {
     "end_time": "2025-08-05T14:13:24.224549Z",
     "start_time": "2025-08-05T14:13:24.047107Z"
    }
   },
   "cell_type": "code",
   "source": "clean_fr_immo_df.show()",
   "id": "64bf43f61b938f74",
   "outputs": [
    {
     "name": "stdout",
     "output_type": "stream",
     "text": [
      "+--------------+----------------+--------+-----------+--------------------+-----------+--------------------+-------------+-----+--------+-----------------+----------------+-----------------+\n",
      "|id_transaction|date_transaction|    prix|departement|               ville|code_postal|             adresse|type_batiment| vefa|n_pieces|surface_habitable|        latitude|        longitude|\n",
      "+--------------+----------------+--------+-----------+--------------------+-----------+--------------------+-------------+-----+--------+-----------------+----------------+-----------------+\n",
      "|      10160888|      2015-07-22|222500.0|         63|               MUROL|      63790|         5148  COMBE|       Maison|false|       4|              123|45.5729726213494| 2.94997597336221|\n",
      "|      10319766|      2024-06-18|218640.0|         73|          LES ALLUES|      73550|45 RUE DU GRAND C...|  Appartement|false|       1|               23|45.3987396582855| 6.56760164004644|\n",
      "|      11545562|      2020-07-23|254950.0|         77|MORET-LOING-ET-OR...|      77250|1 RUE DE LA CROIX...|       Maison|false|       6|              124|48.3337616035885| 2.78083033196279|\n",
      "|      13891173|      2022-10-03|380000.0|         94|     VITRY-SUR-SEINE|      94400|11 VOIE VICTOR MASSE|       Maison|false|       3|               93| 48.796988276575| 2.37555811653132|\n",
      "|      11794772|      2018-07-12|258000.0|         77|               MEAUX|      77100|14 RUE PIERRE BON...|       Maison|false|       5|               96|48.9488159934431| 2.89173438180231|\n",
      "|      12400323|      2023-09-27|141000.0|         83|              TOULON|      83100|112 RUE DE L'HOPI...|  Appartement|false|       2|               37|43.1293203317371| 5.97056084698861|\n",
      "|       9795965|      2019-10-03| 39990.0|         63|            CHAMPEIX|      63320|3 PTR PTE RUE DE ...|       Maison|false|       5|               84|45.5877798467162| 3.12831558960102|\n",
      "|      13512916|      2017-01-04| 58000.0|         85|CHAMPAGNE-LES-MARAIS|      85450|5 RUE DES PORTES ...|       Maison|false|       4|              127|46.3824316578682|-1.12829943731582|\n",
      "|        395925|      2020-08-27| 66500.0|          2|              BELLEU|       2200|10 RUE DE STADTHAGEN|       Maison|false|       3|               62|49.3661606906803|  3.3382068630547|\n",
      "|      14721755|      2023-03-28| 69000.0|        972|          SCHOELCHER|      97233|     5962F RUE CAIUS|  Appartement|false|       1|               30|14.6303234095821| -61.106291498063|\n",
      "|      14805342|      2021-10-27|135000.0|        973|             CAYENNE|      97300|63 AV DU GAL CHAR...|       Maison|false|       2|               87|4.93971660021603|-52.3287816427087|\n",
      "|       6461221|      2018-05-31|295000.0|         44|GRANDCHAMP-DES-FO...|      44119|15 RUE EDOUARD MANET|       Maison|false|       5|              102|47.3649844824078|-1.59937382939577|\n",
      "|         83448|      2019-12-12|167000.0|          1|SAINT-JULIEN-SUR-...|       1540|1753 RTE DES CONT...|       Maison|false|       3|               48|46.1957149258676| 4.93493183748207|\n",
      "|      11453565|      2021-04-23|130500.0|         78|       MUREAUX (LES)|      78130|      7 PARC AMILCAR|  Appartement|false|       4|               78|48.9812401758526| 1.90918455458629|\n",
      "|       7808827|      2023-11-07|212300.0|         62| MONTIGNY EN GOHELLE|      62640|    12 RUE CAMELINAT|       Maison|false|       5|              103|50.4232370665216| 2.92674086699745|\n",
      "|       4572010|      2019-03-15|181000.0|         35|              RENNES|      35000|   5 RUE LEGRAVEREND|  Appartement|false|       3|               72|48.1170143949587|-1.68129635393468|\n",
      "|      12757057|      2019-10-18|140000.0|         84|     PEYPIN-D AIGUES|      84240|    41 RUE DU PASTRE|       Maison|false|       3|               80|43.7765229972007| 5.54851132153069|\n",
      "|       4877903|      2017-05-02|   500.0|         35|              RENNES|      35000|   8 RUE DE BERTRAND|  Appartement|false|       1|               34|48.1135883175467|-1.67874791796079|\n",
      "|      14282531|      2018-03-22|200000.0|         91|            MORANGIS|      91420| 13B RUE DE L EGLISE|  Appartement|false|       3|               64|48.7061481006131| 2.33743462223281|\n",
      "|       3646896|      2016-09-21| 53000.0|         28|               MANOU|      28240|  2 CHE DES CHARMOTS|       Maison|false|       3|               54|48.5472896294203| 0.94420387275169|\n",
      "+--------------+----------------+--------+-----------+--------------------+-----------+--------------------+-------------+-----+--------+-----------------+----------------+-----------------+\n",
      "only showing top 20 rows\n",
      "\n"
     ]
    }
   ],
   "execution_count": 8
  },
  {
   "metadata": {
    "ExecuteTime": {
     "end_time": "2025-08-05T14:14:49.385468Z",
     "start_time": "2025-08-05T14:14:43.474164Z"
    }
   },
   "cell_type": "code",
   "source": [
    "from ydata_profiling import ProfileReport\n",
    "\n",
    "report = ProfileReport(clean_fr_immo_df.toPandas())\n",
    "report.to_file(\"fr_immo_transactions_report.html\")"
   ],
   "id": "ee23a27368014460",
   "outputs": [
    {
     "name": "stderr",
     "output_type": "stream",
     "text": [
      "Summarize dataset:  56%|█████▌    | 10/18 [00:00<00:00, 68.00it/s, Describe variable: longitude]\n",
      "100%|██████████| 13/13 [00:00<00:00, 1003.99it/s]\n",
      "Summarize dataset:  75%|███████▌  | 15/20 [00:00<00:00, 68.00it/s, Calculate auto correlation]  C:\\Users\\PLIU\\Documents\\git\\Seminar_PySpark_Sedona_GeoParquet\\sedona_venv\\Lib\\site-packages\\ydata_profiling\\model\\pandas\\discretize_pandas.py:52: FutureWarning: Setting an item of incompatible dtype is deprecated and will raise in a future error of pandas. Value '[6 6 7 9 7 8 6 9 0 9 9 4 0 7 5 3 8 3 9 2 1 8 9 8 8 6 9 6 9 7 3 7 0 9 6 4 8\n",
      " 2 7 4 9 7 4 6 9 0 3 6 8 3 4 1 6 1 4 2 7 2 3 8 7 3 0 6 1 3 9 6 9 4 7 7 3 8\n",
      " 1 9 2 7 4 4 8 0 2 9 8 3 3 8 1 7 7 2 2 2 0 1 6 5 3 3]' has dtype incompatible with int32, please explicitly cast to a compatible dtype first.\n",
      "  discretized_df.loc[:, column] = self._discretize_column(\n",
      "C:\\Users\\PLIU\\Documents\\git\\Seminar_PySpark_Sedona_GeoParquet\\sedona_venv\\Lib\\site-packages\\ydata_profiling\\model\\pandas\\discretize_pandas.py:52: FutureWarning: Setting an item of incompatible dtype is deprecated and will raise in a future error of pandas. Value '[0 0 0 0 0 0 0 0 0 9 9 0 0 0 0 0 0 0 0 0 0 0 0 0 0 0 0 0 0 0 0 0 0 0 0 0 0\n",
      " 0 0 0 0 0 0 0 0 0 0 0 0 0 0 0 0 0 0 0 0 0 0 0 0 0 0 0 0 0 0 0 0 0 0 0 0 0\n",
      " 0 0 0 0 0 0 0 0 0 0 0 0 0 0 0 0 0 0 0 0 0 0 0 0 0 0]' has dtype incompatible with int32, please explicitly cast to a compatible dtype first.\n",
      "  discretized_df.loc[:, column] = self._discretize_column(\n",
      "C:\\Users\\PLIU\\Documents\\git\\Seminar_PySpark_Sedona_GeoParquet\\sedona_venv\\Lib\\site-packages\\ydata_profiling\\model\\pandas\\discretize_pandas.py:52: FutureWarning: Setting an item of incompatible dtype is deprecated and will raise in a future error of pandas. Value '[6 7 7 9 7 8 6 8 0 9 9 4 0 8 6 3 8 3 9 2 2 7 9 8 7 7 9 7 8 7 4 7 0 9 6 4 8\n",
      " 3 7 4 9 7 4 7 9 1 3 6 8 3 4 1 7 2 4 3 7 2 3 8 7 3 0 7 1 3 8 6 9 5 8 7 3 8\n",
      " 2 9 3 7 4 4 8 0 3 9 7 3 3 8 1 7 7 2 3 3 1 2 7 5 3 3]' has dtype incompatible with int32, please explicitly cast to a compatible dtype first.\n",
      "  discretized_df.loc[:, column] = self._discretize_column(\n",
      "C:\\Users\\PLIU\\Documents\\git\\Seminar_PySpark_Sedona_GeoParquet\\sedona_venv\\Lib\\site-packages\\ydata_profiling\\model\\pandas\\discretize_pandas.py:52: FutureWarning: Setting an item of incompatible dtype is deprecated and will raise in a future error of pandas. Value '[4 1 7 3 6 2 6 4 3 1 2 6 3 4 6 3 3 1 3 3 2 6 4 3 4 6 4 7 4 6 2 2 4 3 6 3 2\n",
      " 4 4 6 4 4 2 6 4 3 6 4 3 3 2 4 4 3 6 4 2 2 7 4 4 9 8 3 4 4 7 2 3 1 4 4 3 4\n",
      " 6 2 6 3 2 2 2 4 0 4 2 4 2 3 6 2 2 1 4 4 2 4 2 4 9 1]' has dtype incompatible with int32, please explicitly cast to a compatible dtype first.\n",
      "  discretized_df.loc[:, column] = self._discretize_column(\n",
      "C:\\Users\\PLIU\\Documents\\git\\Seminar_PySpark_Sedona_GeoParquet\\sedona_venv\\Lib\\site-packages\\ydata_profiling\\model\\pandas\\discretize_pandas.py:52: FutureWarning: Setting an item of incompatible dtype is deprecated and will raise in a future error of pandas. Value '[5 0 5 3 4 0 3 5 2 0 3 4 1 3 4 2 3 0 2 1 1 3 3 1 4 4 2 9 3 9 2 0 5 2 4 1 0\n",
      " 4 3 6 2 3 2 3 3 0 3 3 3 2 0 3 4 2 3 3 0 0 4 5 2 9 8 2 2 2 6 1 1 0 3 4 2 3\n",
      " 4 1 4 1 1 0 1 4 0 3 0 3 0 1 2 0 1 0 4 3 1 3 1 2 8 0]' has dtype incompatible with int32, please explicitly cast to a compatible dtype first.\n",
      "  discretized_df.loc[:, column] = self._discretize_column(\n",
      "Summarize dataset: 100%|██████████| 86/86 [00:03<00:00, 25.72it/s, Completed]                                   \n",
      "Generate report structure: 100%|██████████| 1/1 [00:01<00:00,  1.81s/it]\n",
      "Render HTML: 100%|██████████| 1/1 [00:00<00:00,  1.84it/s]\n",
      "Export report to file: 100%|██████████| 1/1 [00:00<00:00, 108.47it/s]\n"
     ]
    }
   ],
   "execution_count": 10
  },
  {
   "metadata": {},
   "cell_type": "code",
   "outputs": [],
   "execution_count": null,
   "source": "",
   "id": "c9205bd7a231bb1b"
  }
 ],
 "metadata": {
  "kernelspec": {
   "display_name": "Python 3",
   "language": "python",
   "name": "python3"
  },
  "language_info": {
   "codemirror_mode": {
    "name": "ipython",
    "version": 2
   },
   "file_extension": ".py",
   "mimetype": "text/x-python",
   "name": "python",
   "nbconvert_exporter": "python",
   "pygments_lexer": "ipython2",
   "version": "2.7.6"
  }
 },
 "nbformat": 4,
 "nbformat_minor": 5
}
