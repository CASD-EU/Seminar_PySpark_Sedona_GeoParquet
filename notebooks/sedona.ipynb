{
 "cells": [
  {
   "metadata": {},
   "cell_type": "markdown",
   "source": [
    "# Spatial data processing with apache sedona\n",
    "\n",
    "[Apache Sedona](https://sedona.apache.org/latest/) is a cluster computing system for processing `large-scale spatial data`. In this tutorial, we will learn\n",
    "how to use sedona in a `pyspark environment`. It supports other `cluster computing systems`, such as `Apache Flink, and Snowflake`. But we will not cover them in this tutorial.\n",
    "\n",
    "## 0.sedona internals\n",
    "\n",
    "\n",
    "\n",
    "2. Sedona Core (Scala)\n",
    "Sedona adds support for spatial data types and operations to Spark.\n",
    "\n",
    "It includes:\n",
    "\n",
    "Spatial RDDs\n",
    "\n",
    "Geometry types (Point, Polygon, etc.)\n",
    "\n",
    "Spatial indexes (QuadTree, RTree)\n",
    "\n",
    "Spatial operations (joins, predicates)\n",
    "\n",
    "3. Py4J Bridge\n",
    "PySpark uses Py4J to connect the Python driver to the JVM.\n",
    "\n",
    "Sedona functions you call in Python (e.g., ST_Point, ST_Within) are just Python wrappers that translate calls to JVM methods.\n",
    "Sedona offers a python package `apache-sedona[]`\n",
    "## 1. Prepare sedona in your dev environment\n",
    "\n",
    "### 1.1 check the required jar files\n",
    "\n",
    "As I explained before, sedona is written in `scala`, and released as `.jar` files.\n",
    "\n",
    "2. Install the python dependencies\n",
    "pip install apache-sedona[spark]\n"
   ],
   "id": "e06a7c7f012c18dd"
  },
  {
   "metadata": {},
   "cell_type": "markdown",
   "source": [
    "## 1. Prepare sedona in your dev environment\n",
    "\n",
    "### 1.1 check the required jar files\n",
    "\n",
    "As I explained before, sedona is written in `scala`, and released as `.jar` files.\n",
    "\n",
    "2. Install the python dependencies\n",
    "pip install apache-sedona[spark]"
   ],
   "id": "be2d1740564a6e59"
  },
  {
   "metadata": {
    "ExecuteTime": {
     "end_time": "2025-08-08T12:51:03.302786Z",
     "start_time": "2025-08-08T12:50:57.293572Z"
    }
   },
   "cell_type": "code",
   "source": [
    "from sedona.spark import *\n",
    "from pyspark.sql import SparkSession, DataFrame\n",
    "from pathlib import Path\n",
    "from pyspark.sql.functions import trim, split, expr, col"
   ],
   "id": "908c2c0a95382624",
   "outputs": [],
   "execution_count": 1
  },
  {
   "metadata": {
    "ExecuteTime": {
     "end_time": "2025-08-08T12:51:03.395606Z",
     "start_time": "2025-08-08T12:51:03.386074Z"
    }
   },
   "cell_type": "code",
   "source": [
    "# build a sedona session offline\n",
    "project_root_dir = Path.cwd().parent\n",
    "print(project_root_dir.as_posix())"
   ],
   "id": "13dbac65c9081d9f",
   "outputs": [
    {
     "name": "stdout",
     "output_type": "stream",
     "text": [
      "C:/Users/PLIU/Documents/git/Seminar_PySpark_Sedona_GeoParquet\n"
     ]
    }
   ],
   "execution_count": 2
  },
  {
   "metadata": {
    "ExecuteTime": {
     "end_time": "2025-08-08T12:52:20.203523Z",
     "start_time": "2025-08-08T12:51:03.713537Z"
    }
   },
   "cell_type": "code",
   "source": [
    "# here we choose sedona 1.7.2 for spark 3.5.* build with scala 2.12\n",
    "jar_folder = Path(f\"{project_root_dir}/jars/sedona-35-212-172\")\n",
    "jar_list = [str(jar) for jar in jar_folder.iterdir() if jar.is_file()]\n",
    "jar_path = \",\".join(jar_list)\n",
    "\n",
    "# build a sedona session (sedona = 1.7.2) offline\n",
    "spark = SparkSession.builder \\\n",
    "    .appName(\"sedona_tutorial\") \\\n",
    "    .master(\"local[*]\") \\\n",
    "    .config(\"spark.jars\", jar_path) \\\n",
    "    .getOrCreate()"
   ],
   "id": "ed09122cfa4d7437",
   "outputs": [],
   "execution_count": 3
  },
  {
   "metadata": {
    "ExecuteTime": {
     "end_time": "2025-08-08T12:52:43.454803Z",
     "start_time": "2025-08-08T12:52:33.994657Z"
    }
   },
   "cell_type": "code",
   "source": [
    "# create a sedona context\n",
    "sedona = SedonaContext.create(spark)"
   ],
   "id": "f943cdf7e081a8ce",
   "outputs": [],
   "execution_count": 4
  },
  {
   "metadata": {
    "ExecuteTime": {
     "end_time": "2025-08-08T12:52:56.456707Z",
     "start_time": "2025-08-08T12:52:56.440678Z"
    }
   },
   "cell_type": "code",
   "source": [
    "sc = spark.sparkContext\n",
    "# use utf as default encoding\n",
    "sc.setSystemProperty(\"sedona.global.charset\", \"utf8\")"
   ],
   "id": "3480baffe55a0b39",
   "outputs": [],
   "execution_count": 5
  },
  {
   "metadata": {
    "ExecuteTime": {
     "end_time": "2025-08-08T12:52:58.192536Z",
     "start_time": "2025-08-08T12:52:57.357356Z"
    }
   },
   "cell_type": "code",
   "source": [
    "fr_immo_transaction_path = project_root_dir / \"data/fr_immo_transaction.parquet\"\n",
    "fr_immo_transactions_df = spark.read.parquet(fr_immo_transaction_path.as_posix())"
   ],
   "id": "eb8134be33d45241",
   "outputs": [],
   "execution_count": 6
  },
  {
   "metadata": {
    "ExecuteTime": {
     "end_time": "2025-08-08T12:52:58.895214Z",
     "start_time": "2025-08-08T12:52:58.780370Z"
    }
   },
   "cell_type": "code",
   "source": [
    "required_col = [\"id_transaction\",\"date_transaction\",\"prix\",\"departement\",\"ville\",\"code_postal\",\"adresse\",\"type_batiment\",\"n_pieces\",\"surface_habitable\",\"latitude\",\"longitude\"]\n",
    "clean_fr_immo_df = fr_immo_transactions_df.select(required_col)"
   ],
   "id": "9b27da5696727262",
   "outputs": [],
   "execution_count": 7
  },
  {
   "metadata": {
    "ExecuteTime": {
     "end_time": "2025-08-08T12:53:01.478273Z",
     "start_time": "2025-08-08T12:53:00.114625Z"
    }
   },
   "cell_type": "code",
   "source": [
    "# cache the dataframe for better performance\n",
    "# clean_fr_immo_df.cache()\n",
    "clean_fr_immo_df.show()"
   ],
   "id": "941fef60f0d0b8e9",
   "outputs": [
    {
     "name": "stdout",
     "output_type": "stream",
     "text": [
      "+--------------+----------------+--------+-----------+--------------------+-----------+--------------------+-------------+--------+-----------------+----------------+----------------+\n",
      "|id_transaction|date_transaction|    prix|departement|               ville|code_postal|             adresse|type_batiment|n_pieces|surface_habitable|        latitude|       longitude|\n",
      "+--------------+----------------+--------+-----------+--------------------+-----------+--------------------+-------------+--------+-----------------+----------------+----------------+\n",
      "|        141653|      2014-01-02|197000.0|         01|             TREVOUX|       1600|  6346 MTE DES LILAS|  Appartement|       4|               84|45.9423014034837|4.77069364742062|\n",
      "|        141970|      2014-01-02|157500.0|         01|              VIRIAT|       1440|1369 RTE DE STRAS...|       Maison|       4|              103|46.2364072868351|5.26293493674271|\n",
      "|        139240|      2014-01-02|112000.0|         01|SAINT-JEAN-SUR-VEYLE|       1290|5174  SAINT JEAN ...|       Maison|       3|               78|46.2600767509964| 4.9186124567344|\n",
      "|        146016|      2014-01-02|173020.0|         01|             LAGNIEU|       1150|21 GR GRANDE RUE ...|       Maison|       4|               72|45.8990448750694|5.35421986570434|\n",
      "|        145911|      2014-01-03| 88000.0|         01|             OYONNAX|       1100| 29B RUE DE LA FORGE|  Appartement|       3|              104|46.2584083170745| 5.6408027525738|\n",
      "|        145024|      2014-01-03|202500.0|         01|ST ETIENNE-SUR-RE...|       1190|    5112  AU MOIROUX|       Maison|       6|              118|46.3900603987491|5.01770950682101|\n",
      "|        148141|      2014-01-03| 49023.3|         01|               BALAN|       1360|7 LOT AFU DE BARB...|       Maison|       5|              105|45.8321367961343|5.09791701908164|\n",
      "|        145399|      2014-01-03| 68000.0|         01|     BOURG-EN-BRESSE|       1000|10Z RUE EDGAR  QU...|  Appartement|       2|               44|  46.20385904116|5.22569295332627|\n",
      "|        143192|      2014-01-03|156750.0|         01|     BOURG-EN-BRESSE|       1000| 15 RUE DE MONTHOLON|  Appartement|       3|               83|46.2000838066075|5.21083723376748|\n",
      "|        146426|      2014-01-03|163640.0|         01|SAINT-MAURICE-DE-...|       1700|      40 AV DES ILES|  Appartement|       3|               84|45.8232892882996|4.97719901458052|\n",
      "|        141750|      2014-01-03|203000.0|         01|             DAGNEUX|       1120|733C RTE DE STE C...|       Maison|       5|               90|45.8599182503004|5.05532938199608|\n",
      "|        148109|      2014-01-03|126000.0|         01|             OYONNAX|       1100| 29B RUE DE LA FORGE|  Appartement|       4|              111|46.2584083170745| 5.6408027525738|\n",
      "|        146587|      2014-01-03|145000.0|         01|            FARAMANS|       1800|100 CHE DE LA COT...|       Maison|       4|               88|45.8984143194015| 5.1238429973443|\n",
      "|        142324|      2014-01-06|180230.0|         01|SAINT-GENIS-SUR-M...|       1380|   5013  LA TERRASSE|       Maison|       5|              200|46.3005918214866|5.01292534875678|\n",
      "|        147770|      2014-01-06|107000.0|         01|     BOURG-EN-BRESSE|       1000|18 RUE GEORGES GU...|  Appartement|       4|               81|46.1940166503064| 5.2085969704023|\n",
      "|        140120|      2014-01-06|177500.0|         01|BELLEGARDE-SUR-VA...|       1200|    23 RUE DE MUSSEL|       Maison|       6|              120|46.1012359876184|5.81606709511131|\n",
      "|        142088|      2014-01-06|165000.0|         01|BELLEGARDE-SUR-VA...|       1200|        10 RUE VIALA|  Appartement|       4|               87|46.1065010130505|5.82630764368207|\n",
      "|        146625|      2014-01-06|152000.0|         01|           BELLIGNAT|       1100|16 RUE GUSTAVE FL...|       Maison|       5|               92|46.2476079780747|5.63367658432816|\n",
      "|        146683|      2014-01-06|415000.0|         01|                 GEX|       1170|    111 RUE DE PARIS|  Appartement|       5|              117|46.3369095806716|6.05697509698794|\n",
      "|        144187|      2014-01-06|430500.0|         01|           MONTHIEUX|       1390|   300 GR GRANDE RUE|       Maison|       5|              175| 45.954218351011|4.94060008338832|\n",
      "+--------------+----------------+--------+-----------+--------------------+-----------+--------------------+-------------+--------+-----------------+----------------+----------------+\n",
      "only showing top 20 rows\n",
      "\n"
     ]
    }
   ],
   "execution_count": 8
  },
  {
   "metadata": {
    "ExecuteTime": {
     "end_time": "2025-08-08T12:55:39.204087Z",
     "start_time": "2025-08-08T12:55:39.188699Z"
    }
   },
   "cell_type": "code",
   "source": "clean_fr_immo_df.printSchema()",
   "id": "1c2897033ae3870d",
   "outputs": [
    {
     "name": "stdout",
     "output_type": "stream",
     "text": [
      "root\n",
      " |-- id_transaction: integer (nullable = true)\n",
      " |-- date_transaction: date (nullable = true)\n",
      " |-- prix: double (nullable = true)\n",
      " |-- departement: string (nullable = true)\n",
      " |-- ville: string (nullable = true)\n",
      " |-- code_postal: integer (nullable = true)\n",
      " |-- adresse: string (nullable = true)\n",
      " |-- type_batiment: string (nullable = true)\n",
      " |-- n_pieces: integer (nullable = true)\n",
      " |-- surface_habitable: integer (nullable = true)\n",
      " |-- latitude: double (nullable = true)\n",
      " |-- longitude: double (nullable = true)\n",
      "\n"
     ]
    }
   ],
   "execution_count": 9
  },
  {
   "metadata": {},
   "cell_type": "markdown",
   "source": [
    "## create a geometry column\n",
    "\n",
    "You can notice the raw data frame, the latitude and longitude columns are double types. We need to create a geometry column to be able to do spatial-join operations with other geospatial data."
   ],
   "id": "a0d0617f57ae72d9"
  },
  {
   "metadata": {
    "ExecuteTime": {
     "end_time": "2025-08-08T13:04:16.056802Z",
     "start_time": "2025-08-08T13:04:15.928543Z"
    }
   },
   "cell_type": "code",
   "source": "fr_immo_geometry_df = clean_fr_immo_df.withColumn(\"geo_coord\", ST_Point(col(\"longitude\"), col(\"latitude\"))).drop(\"longitude\", \"latitude\")",
   "id": "6bea4cbdb92719a2",
   "outputs": [],
   "execution_count": 10
  },
  {
   "metadata": {
    "ExecuteTime": {
     "end_time": "2025-08-08T13:04:21.100540Z",
     "start_time": "2025-08-08T13:04:20.556700Z"
    }
   },
   "cell_type": "code",
   "source": "fr_immo_geometry_df.show()",
   "id": "c2f24def6b3943e4",
   "outputs": [
    {
     "name": "stdout",
     "output_type": "stream",
     "text": [
      "+--------------+----------------+--------+-----------+--------------------+-----------+--------------------+-------------+--------+-----------------+--------------------+\n",
      "|id_transaction|date_transaction|    prix|departement|               ville|code_postal|             adresse|type_batiment|n_pieces|surface_habitable|           geo_coord|\n",
      "+--------------+----------------+--------+-----------+--------------------+-----------+--------------------+-------------+--------+-----------------+--------------------+\n",
      "|        141653|      2014-01-02|197000.0|         01|             TREVOUX|       1600|  6346 MTE DES LILAS|  Appartement|       4|               84|POINT (4.77069364...|\n",
      "|        141970|      2014-01-02|157500.0|         01|              VIRIAT|       1440|1369 RTE DE STRAS...|       Maison|       4|              103|POINT (5.26293493...|\n",
      "|        139240|      2014-01-02|112000.0|         01|SAINT-JEAN-SUR-VEYLE|       1290|5174  SAINT JEAN ...|       Maison|       3|               78|POINT (4.91861245...|\n",
      "|        146016|      2014-01-02|173020.0|         01|             LAGNIEU|       1150|21 GR GRANDE RUE ...|       Maison|       4|               72|POINT (5.35421986...|\n",
      "|        145911|      2014-01-03| 88000.0|         01|             OYONNAX|       1100| 29B RUE DE LA FORGE|  Appartement|       3|              104|POINT (5.64080275...|\n",
      "|        145024|      2014-01-03|202500.0|         01|ST ETIENNE-SUR-RE...|       1190|    5112  AU MOIROUX|       Maison|       6|              118|POINT (5.01770950...|\n",
      "|        148141|      2014-01-03| 49023.3|         01|               BALAN|       1360|7 LOT AFU DE BARB...|       Maison|       5|              105|POINT (5.09791701...|\n",
      "|        145399|      2014-01-03| 68000.0|         01|     BOURG-EN-BRESSE|       1000|10Z RUE EDGAR  QU...|  Appartement|       2|               44|POINT (5.22569295...|\n",
      "|        143192|      2014-01-03|156750.0|         01|     BOURG-EN-BRESSE|       1000| 15 RUE DE MONTHOLON|  Appartement|       3|               83|POINT (5.21083723...|\n",
      "|        146426|      2014-01-03|163640.0|         01|SAINT-MAURICE-DE-...|       1700|      40 AV DES ILES|  Appartement|       3|               84|POINT (4.97719901...|\n",
      "|        141750|      2014-01-03|203000.0|         01|             DAGNEUX|       1120|733C RTE DE STE C...|       Maison|       5|               90|POINT (5.05532938...|\n",
      "|        148109|      2014-01-03|126000.0|         01|             OYONNAX|       1100| 29B RUE DE LA FORGE|  Appartement|       4|              111|POINT (5.64080275...|\n",
      "|        146587|      2014-01-03|145000.0|         01|            FARAMANS|       1800|100 CHE DE LA COT...|       Maison|       4|               88|POINT (5.12384299...|\n",
      "|        142324|      2014-01-06|180230.0|         01|SAINT-GENIS-SUR-M...|       1380|   5013  LA TERRASSE|       Maison|       5|              200|POINT (5.01292534...|\n",
      "|        147770|      2014-01-06|107000.0|         01|     BOURG-EN-BRESSE|       1000|18 RUE GEORGES GU...|  Appartement|       4|               81|POINT (5.20859697...|\n",
      "|        140120|      2014-01-06|177500.0|         01|BELLEGARDE-SUR-VA...|       1200|    23 RUE DE MUSSEL|       Maison|       6|              120|POINT (5.81606709...|\n",
      "|        142088|      2014-01-06|165000.0|         01|BELLEGARDE-SUR-VA...|       1200|        10 RUE VIALA|  Appartement|       4|               87|POINT (5.82630764...|\n",
      "|        146625|      2014-01-06|152000.0|         01|           BELLIGNAT|       1100|16 RUE GUSTAVE FL...|       Maison|       5|               92|POINT (5.63367658...|\n",
      "|        146683|      2014-01-06|415000.0|         01|                 GEX|       1170|    111 RUE DE PARIS|  Appartement|       5|              117|POINT (6.05697509...|\n",
      "|        144187|      2014-01-06|430500.0|         01|           MONTHIEUX|       1390|   300 GR GRANDE RUE|       Maison|       5|              175|POINT (4.94060008...|\n",
      "+--------------+----------------+--------+-----------+--------------------+-----------+--------------------+-------------+--------+-----------------+--------------------+\n",
      "only showing top 20 rows\n",
      "\n"
     ]
    }
   ],
   "execution_count": 11
  },
  {
   "metadata": {},
   "cell_type": "code",
   "outputs": [],
   "execution_count": null,
   "source": "## filter with column code_postal\n",
   "id": "977b835e9b7562fd"
  },
  {
   "metadata": {
    "ExecuteTime": {
     "end_time": "2025-08-08T13:29:41.996653Z",
     "start_time": "2025-08-08T13:29:41.583082Z"
    }
   },
   "cell_type": "code",
   "source": [
    "montrouge_immo_df = fr_immo_geometry_df.filter((col(\"code_postal\")==92120) & (col(\"date_transaction\") > lit(\"2021-12-31\"))).select(\"adresse\",\"type_batiment\",\"n_pieces\",\"surface_habitable\",\"prix\",\"geo_coord\")\n",
    "montrouge_immo_df.count()"
   ],
   "id": "6b03406e7edaf9de",
   "outputs": [
    {
     "data": {
      "text/plain": [
       "1720"
      ]
     },
     "execution_count": 31,
     "metadata": {},
     "output_type": "execute_result"
    }
   ],
   "execution_count": 31
  },
  {
   "metadata": {
    "ExecuteTime": {
     "end_time": "2025-08-08T13:29:04.025497Z",
     "start_time": "2025-08-08T13:29:04.015239Z"
    }
   },
   "cell_type": "code",
   "source": [
    "map_config = {\n",
    "    \"visState\": {\n",
    "        \"layers\": [\n",
    "            {\n",
    "                \"type\": \"point\",\n",
    "                \"config\": {\n",
    "                    \"dataId\": \"Montrouge Transactions\",\n",
    "                    \"label\": \"Transactions\",\n",
    "                    \"color\": [255, 0, 0],\n",
    "                    \"isVisible\": True,\n",
    "                },\n",
    "                \"visualChannels\": {\n",
    "                    \"colorField\": {\"name\": \"prix\", \"type\": \"real\"},\n",
    "                    \"colorScale\": \"quantile\"\n",
    "                }\n",
    "            }\n",
    "        ]\n",
    "    },\n",
    "    \"mapState\": {\n",
    "        \"bearing\": 0,\n",
    "        \"latitude\": 48.816,      # Starting center latitude\n",
    "        \"longitude\": 2.313,      # Starting center longitude\n",
    "        \"pitch\": 0,\n",
    "        \"zoom\": 13                # Starting zoom level\n",
    "    }\n",
    "}"
   ],
   "id": "484336dbb38a42a",
   "outputs": [],
   "execution_count": 29
  },
  {
   "metadata": {
    "ExecuteTime": {
     "end_time": "2025-08-08T13:29:59.829161Z",
     "start_time": "2025-08-08T13:29:59.226215Z"
    }
   },
   "cell_type": "code",
   "source": [
    "# to be able to use kepler map, you must install the kepler extension. pip install apache-sedona[kepler-map]\n",
    "kepler_map_path = project_root_dir / \"tmp/montrouge_immo_map.html\"\n",
    "montrouge_immo_map = SedonaKepler.create_map(df=montrouge_immo_df, name=\"montrouge_immo_transaction\", config=map_config)\n",
    "montrouge_immo_map.save_to_html(file_name=kepler_map_path.as_posix())"
   ],
   "id": "22de60cd60951d6b",
   "outputs": [
    {
     "name": "stdout",
     "output_type": "stream",
     "text": [
      "User Guide: https://docs.kepler.gl/docs/keplergl-jupyter\n",
      "Map saved to C:/Users/PLIU/Documents/git/Seminar_PySpark_Sedona_GeoParquet/tmp/montrouge_immo_map.html!\n"
     ]
    }
   ],
   "execution_count": 32
  },
  {
   "metadata": {},
   "cell_type": "code",
   "outputs": [],
   "execution_count": null,
   "source": "",
   "id": "6346198430f0509f"
  },
  {
   "metadata": {},
   "cell_type": "code",
   "outputs": [],
   "execution_count": null,
   "source": "",
   "id": "266efef5ad0b23fa"
  }
 ],
 "metadata": {
  "kernelspec": {
   "display_name": "Python 3",
   "language": "python",
   "name": "python3"
  },
  "language_info": {
   "codemirror_mode": {
    "name": "ipython",
    "version": 2
   },
   "file_extension": ".py",
   "mimetype": "text/x-python",
   "name": "python",
   "nbconvert_exporter": "python",
   "pygments_lexer": "ipython2",
   "version": "2.7.6"
  }
 },
 "nbformat": 4,
 "nbformat_minor": 5
}
