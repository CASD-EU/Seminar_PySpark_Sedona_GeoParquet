{
 "cells": [
  {
   "metadata": {},
   "cell_type": "markdown",
   "source": [
    "# Sedona Exercise\n",
    "\n",
    "In this notebook, you will try to use what you have learned before to solve the below problems:\n",
    "1. Create a sedona context\n",
    "2. Read a parquet file\n",
    "3. Convert string columns into geometry columns\n",
    "4. Get all immo transactions of 2020\n",
    "5. Get all immo transactions near casd (in 3 kilometers radius)\n",
    "6. Write the result of 4, 5 in a geoparquet file"
   ],
   "id": "e06a7c7f012c18dd"
  },
  {
   "metadata": {},
   "cell_type": "markdown",
   "source": [
    "## 1.Create a sedona context\n",
    "\n",
    "Before you start\n",
    "- check spark and pyspark\n",
    "- check the required jar files of sedona\n",
    "- check the python dependencies of sedona\n",
    "\n",
    "If everything is checked, you can continue"
   ],
   "id": "be2d1740564a6e59"
  },
  {
   "metadata": {
    "ExecuteTime": {
     "end_time": "2025-08-22T07:28:27.056339Z",
     "start_time": "2025-08-22T07:28:24.092737Z"
    }
   },
   "cell_type": "code",
   "source": [
    "from sedona.spark import *\n",
    "from pyspark.sql import SparkSession, DataFrame\n",
    "from pathlib import Path\n",
    "from pyspark.sql.functions import trim, split, expr, col"
   ],
   "id": "908c2c0a95382624",
   "outputs": [],
   "execution_count": 2
  },
  {
   "metadata": {
    "ExecuteTime": {
     "end_time": "2025-08-22T07:28:27.675443Z",
     "start_time": "2025-08-22T07:28:27.669930Z"
    }
   },
   "cell_type": "code",
   "source": [
    "# build a sedona session offline\n",
    "project_root_dir = Path.cwd().parent\n",
    "print(project_root_dir.as_posix())"
   ],
   "id": "13dbac65c9081d9f",
   "outputs": [
    {
     "name": "stdout",
     "output_type": "stream",
     "text": [
      "C:/Users/PLIU/Documents/git/Seminar_PySpark_Sedona_GeoParquet\n"
     ]
    }
   ],
   "execution_count": 3
  },
  {
   "metadata": {
    "ExecuteTime": {
     "end_time": "2025-08-22T07:29:00.839192Z",
     "start_time": "2025-08-22T07:28:28.608602Z"
    }
   },
   "cell_type": "code",
   "source": [
    "# here we choose sedona 1.7.2 for spark 3.5.* build with scala 2.12\n",
    "jar_folder = Path(f\"{project_root_dir}/jars/sedona-35-212-172\")\n",
    "jar_list = [str(jar) for jar in jar_folder.iterdir() if jar.is_file()]\n",
    "jar_path = \",\".join(jar_list)\n",
    "\n",
    "# build a sedona session (sedona = 1.7.2) offline\n",
    "spark = SparkSession.builder \\\n",
    "    .appName(\"sedona_tutorial\") \\\n",
    "    .master(\"local[*]\") \\\n",
    "    .config(\"spark.jars\", jar_path) \\\n",
    "    .getOrCreate()"
   ],
   "id": "ed09122cfa4d7437",
   "outputs": [],
   "execution_count": 4
  },
  {
   "metadata": {
    "ExecuteTime": {
     "end_time": "2025-08-22T07:29:07.321108Z",
     "start_time": "2025-08-22T07:29:00.839192Z"
    }
   },
   "cell_type": "code",
   "source": [
    "# create a sedona context\n",
    "sedona = SedonaContext.create(spark)"
   ],
   "id": "f943cdf7e081a8ce",
   "outputs": [],
   "execution_count": 5
  },
  {
   "metadata": {
    "ExecuteTime": {
     "end_time": "2025-08-22T07:29:07.333256Z",
     "start_time": "2025-08-22T07:29:07.323428Z"
    }
   },
   "cell_type": "code",
   "source": [
    "sc = spark.sparkContext\n",
    "# use utf as default encoding\n",
    "sc.setSystemProperty(\"sedona.global.charset\", \"utf8\")"
   ],
   "id": "3480baffe55a0b39",
   "outputs": [],
   "execution_count": 6
  },
  {
   "metadata": {},
   "cell_type": "markdown",
   "source": "## 2. Read a parquet file",
   "id": "885e13fe2fa560b7"
  },
  {
   "metadata": {
    "ExecuteTime": {
     "end_time": "2025-08-22T07:29:08.238270Z",
     "start_time": "2025-08-22T07:29:07.335272Z"
    }
   },
   "cell_type": "code",
   "source": [
    "data_dir = project_root_dir / \"data\"\n",
    "fr_immo_transaction_path = data_dir / \"large_ds/fr_immo_transaction.parquet\"\n",
    "fr_immo_transactions_df = spark.read.parquet(fr_immo_transaction_path.as_posix())"
   ],
   "id": "eb8134be33d45241",
   "outputs": [],
   "execution_count": 7
  },
  {
   "metadata": {
    "ExecuteTime": {
     "end_time": "2025-08-22T07:29:08.339252Z",
     "start_time": "2025-08-22T07:29:08.239290Z"
    }
   },
   "cell_type": "code",
   "source": [
    "required_col = [\"id_transaction\", \"date_transaction\", \"prix\", \"departement\", \"ville\", \"code_postal\", \"adresse\",\n",
    "                \"type_batiment\", \"n_pieces\", \"surface_habitable\", \"latitude\", \"longitude\"]\n",
    "clean_fr_immo_df = fr_immo_transactions_df.select(required_col)"
   ],
   "id": "9b27da5696727262",
   "outputs": [],
   "execution_count": 8
  },
  {
   "metadata": {
    "ExecuteTime": {
     "end_time": "2025-08-22T07:29:09.723289Z",
     "start_time": "2025-08-22T07:29:08.341326Z"
    }
   },
   "cell_type": "code",
   "source": [
    "# cache the dataframe for better performance\n",
    "# clean_fr_immo_df.cache()\n",
    "clean_fr_immo_df.show()"
   ],
   "id": "941fef60f0d0b8e9",
   "outputs": [
    {
     "name": "stdout",
     "output_type": "stream",
     "text": [
      "+--------------+----------------+--------+-----------+--------------------+-----------+--------------------+-------------+--------+-----------------+----------------+----------------+\n",
      "|id_transaction|date_transaction|    prix|departement|               ville|code_postal|             adresse|type_batiment|n_pieces|surface_habitable|        latitude|       longitude|\n",
      "+--------------+----------------+--------+-----------+--------------------+-----------+--------------------+-------------+--------+-----------------+----------------+----------------+\n",
      "|        141653|      2014-01-02|197000.0|         01|             TREVOUX|       1600|  6346 MTE DES LILAS|  Appartement|       4|               84|45.9423014034837|4.77069364742062|\n",
      "|        141970|      2014-01-02|157500.0|         01|              VIRIAT|       1440|1369 RTE DE STRAS...|       Maison|       4|              103|46.2364072868351|5.26293493674271|\n",
      "|        139240|      2014-01-02|112000.0|         01|SAINT-JEAN-SUR-VEYLE|       1290|5174  SAINT JEAN ...|       Maison|       3|               78|46.2600767509964| 4.9186124567344|\n",
      "|        146016|      2014-01-02|173020.0|         01|             LAGNIEU|       1150|21 GR GRANDE RUE ...|       Maison|       4|               72|45.8990448750694|5.35421986570434|\n",
      "|        145911|      2014-01-03| 88000.0|         01|             OYONNAX|       1100| 29B RUE DE LA FORGE|  Appartement|       3|              104|46.2584083170745| 5.6408027525738|\n",
      "|        145024|      2014-01-03|202500.0|         01|ST ETIENNE-SUR-RE...|       1190|    5112  AU MOIROUX|       Maison|       6|              118|46.3900603987491|5.01770950682101|\n",
      "|        148141|      2014-01-03| 49023.3|         01|               BALAN|       1360|7 LOT AFU DE BARB...|       Maison|       5|              105|45.8321367961343|5.09791701908164|\n",
      "|        145399|      2014-01-03| 68000.0|         01|     BOURG-EN-BRESSE|       1000|10Z RUE EDGAR  QU...|  Appartement|       2|               44|  46.20385904116|5.22569295332627|\n",
      "|        143192|      2014-01-03|156750.0|         01|     BOURG-EN-BRESSE|       1000| 15 RUE DE MONTHOLON|  Appartement|       3|               83|46.2000838066075|5.21083723376748|\n",
      "|        146426|      2014-01-03|163640.0|         01|SAINT-MAURICE-DE-...|       1700|      40 AV DES ILES|  Appartement|       3|               84|45.8232892882996|4.97719901458052|\n",
      "|        141750|      2014-01-03|203000.0|         01|             DAGNEUX|       1120|733C RTE DE STE C...|       Maison|       5|               90|45.8599182503004|5.05532938199608|\n",
      "|        148109|      2014-01-03|126000.0|         01|             OYONNAX|       1100| 29B RUE DE LA FORGE|  Appartement|       4|              111|46.2584083170745| 5.6408027525738|\n",
      "|        146587|      2014-01-03|145000.0|         01|            FARAMANS|       1800|100 CHE DE LA COT...|       Maison|       4|               88|45.8984143194015| 5.1238429973443|\n",
      "|        142324|      2014-01-06|180230.0|         01|SAINT-GENIS-SUR-M...|       1380|   5013  LA TERRASSE|       Maison|       5|              200|46.3005918214866|5.01292534875678|\n",
      "|        147770|      2014-01-06|107000.0|         01|     BOURG-EN-BRESSE|       1000|18 RUE GEORGES GU...|  Appartement|       4|               81|46.1940166503064| 5.2085969704023|\n",
      "|        140120|      2014-01-06|177500.0|         01|BELLEGARDE-SUR-VA...|       1200|    23 RUE DE MUSSEL|       Maison|       6|              120|46.1012359876184|5.81606709511131|\n",
      "|        142088|      2014-01-06|165000.0|         01|BELLEGARDE-SUR-VA...|       1200|        10 RUE VIALA|  Appartement|       4|               87|46.1065010130505|5.82630764368207|\n",
      "|        146625|      2014-01-06|152000.0|         01|           BELLIGNAT|       1100|16 RUE GUSTAVE FL...|       Maison|       5|               92|46.2476079780747|5.63367658432816|\n",
      "|        146683|      2014-01-06|415000.0|         01|                 GEX|       1170|    111 RUE DE PARIS|  Appartement|       5|              117|46.3369095806716|6.05697509698794|\n",
      "|        144187|      2014-01-06|430500.0|         01|           MONTHIEUX|       1390|   300 GR GRANDE RUE|       Maison|       5|              175| 45.954218351011|4.94060008338832|\n",
      "+--------------+----------------+--------+-----------+--------------------+-----------+--------------------+-------------+--------+-----------------+----------------+----------------+\n",
      "only showing top 20 rows\n",
      "\n"
     ]
    }
   ],
   "execution_count": 9
  },
  {
   "metadata": {
    "ExecuteTime": {
     "end_time": "2025-08-22T07:29:09.732086Z",
     "start_time": "2025-08-22T07:29:09.725299Z"
    }
   },
   "cell_type": "code",
   "source": "clean_fr_immo_df.printSchema()",
   "id": "1c2897033ae3870d",
   "outputs": [
    {
     "name": "stdout",
     "output_type": "stream",
     "text": [
      "root\n",
      " |-- id_transaction: integer (nullable = true)\n",
      " |-- date_transaction: date (nullable = true)\n",
      " |-- prix: double (nullable = true)\n",
      " |-- departement: string (nullable = true)\n",
      " |-- ville: string (nullable = true)\n",
      " |-- code_postal: integer (nullable = true)\n",
      " |-- adresse: string (nullable = true)\n",
      " |-- type_batiment: string (nullable = true)\n",
      " |-- n_pieces: integer (nullable = true)\n",
      " |-- surface_habitable: integer (nullable = true)\n",
      " |-- latitude: double (nullable = true)\n",
      " |-- longitude: double (nullable = true)\n",
      "\n"
     ]
    }
   ],
   "execution_count": 10
  },
  {
   "metadata": {},
   "cell_type": "markdown",
   "source": [
    "## create a geometry column\n",
    "\n",
    "You can notice the raw data frame, the latitude and longitude columns are double types. We need to create a geometry column to be able to do spatial-join operations with other geospatial data."
   ],
   "id": "a0d0617f57ae72d9"
  },
  {
   "metadata": {
    "ExecuteTime": {
     "end_time": "2025-08-22T07:29:09.959412Z",
     "start_time": "2025-08-22T07:29:09.783121Z"
    }
   },
   "cell_type": "code",
   "source": [
    "fr_immo_geometry_df = clean_fr_immo_df.withColumn(\"geo_coord\", ST_Point(col(\"longitude\"), col(\"latitude\"))).drop(\n",
    "    \"longitude\", \"latitude\")"
   ],
   "id": "6bea4cbdb92719a2",
   "outputs": [],
   "execution_count": 11
  },
  {
   "metadata": {
    "ExecuteTime": {
     "end_time": "2025-08-22T07:29:10.615868Z",
     "start_time": "2025-08-22T07:29:09.961423Z"
    }
   },
   "cell_type": "code",
   "source": "fr_immo_geometry_df.show()",
   "id": "c2f24def6b3943e4",
   "outputs": [
    {
     "name": "stdout",
     "output_type": "stream",
     "text": [
      "+--------------+----------------+--------+-----------+--------------------+-----------+--------------------+-------------+--------+-----------------+--------------------+\n",
      "|id_transaction|date_transaction|    prix|departement|               ville|code_postal|             adresse|type_batiment|n_pieces|surface_habitable|           geo_coord|\n",
      "+--------------+----------------+--------+-----------+--------------------+-----------+--------------------+-------------+--------+-----------------+--------------------+\n",
      "|        141653|      2014-01-02|197000.0|         01|             TREVOUX|       1600|  6346 MTE DES LILAS|  Appartement|       4|               84|POINT (4.77069364...|\n",
      "|        141970|      2014-01-02|157500.0|         01|              VIRIAT|       1440|1369 RTE DE STRAS...|       Maison|       4|              103|POINT (5.26293493...|\n",
      "|        139240|      2014-01-02|112000.0|         01|SAINT-JEAN-SUR-VEYLE|       1290|5174  SAINT JEAN ...|       Maison|       3|               78|POINT (4.91861245...|\n",
      "|        146016|      2014-01-02|173020.0|         01|             LAGNIEU|       1150|21 GR GRANDE RUE ...|       Maison|       4|               72|POINT (5.35421986...|\n",
      "|        145911|      2014-01-03| 88000.0|         01|             OYONNAX|       1100| 29B RUE DE LA FORGE|  Appartement|       3|              104|POINT (5.64080275...|\n",
      "|        145024|      2014-01-03|202500.0|         01|ST ETIENNE-SUR-RE...|       1190|    5112  AU MOIROUX|       Maison|       6|              118|POINT (5.01770950...|\n",
      "|        148141|      2014-01-03| 49023.3|         01|               BALAN|       1360|7 LOT AFU DE BARB...|       Maison|       5|              105|POINT (5.09791701...|\n",
      "|        145399|      2014-01-03| 68000.0|         01|     BOURG-EN-BRESSE|       1000|10Z RUE EDGAR  QU...|  Appartement|       2|               44|POINT (5.22569295...|\n",
      "|        143192|      2014-01-03|156750.0|         01|     BOURG-EN-BRESSE|       1000| 15 RUE DE MONTHOLON|  Appartement|       3|               83|POINT (5.21083723...|\n",
      "|        146426|      2014-01-03|163640.0|         01|SAINT-MAURICE-DE-...|       1700|      40 AV DES ILES|  Appartement|       3|               84|POINT (4.97719901...|\n",
      "|        141750|      2014-01-03|203000.0|         01|             DAGNEUX|       1120|733C RTE DE STE C...|       Maison|       5|               90|POINT (5.05532938...|\n",
      "|        148109|      2014-01-03|126000.0|         01|             OYONNAX|       1100| 29B RUE DE LA FORGE|  Appartement|       4|              111|POINT (5.64080275...|\n",
      "|        146587|      2014-01-03|145000.0|         01|            FARAMANS|       1800|100 CHE DE LA COT...|       Maison|       4|               88|POINT (5.12384299...|\n",
      "|        142324|      2014-01-06|180230.0|         01|SAINT-GENIS-SUR-M...|       1380|   5013  LA TERRASSE|       Maison|       5|              200|POINT (5.01292534...|\n",
      "|        147770|      2014-01-06|107000.0|         01|     BOURG-EN-BRESSE|       1000|18 RUE GEORGES GU...|  Appartement|       4|               81|POINT (5.20859697...|\n",
      "|        140120|      2014-01-06|177500.0|         01|BELLEGARDE-SUR-VA...|       1200|    23 RUE DE MUSSEL|       Maison|       6|              120|POINT (5.81606709...|\n",
      "|        142088|      2014-01-06|165000.0|         01|BELLEGARDE-SUR-VA...|       1200|        10 RUE VIALA|  Appartement|       4|               87|POINT (5.82630764...|\n",
      "|        146625|      2014-01-06|152000.0|         01|           BELLIGNAT|       1100|16 RUE GUSTAVE FL...|       Maison|       5|               92|POINT (5.63367658...|\n",
      "|        146683|      2014-01-06|415000.0|         01|                 GEX|       1170|    111 RUE DE PARIS|  Appartement|       5|              117|POINT (6.05697509...|\n",
      "|        144187|      2014-01-06|430500.0|         01|           MONTHIEUX|       1390|   300 GR GRANDE RUE|       Maison|       5|              175|POINT (4.94060008...|\n",
      "+--------------+----------------+--------+-----------+--------------------+-----------+--------------------+-------------+--------+-----------------+--------------------+\n",
      "only showing top 20 rows\n",
      "\n"
     ]
    }
   ],
   "execution_count": 12
  },
  {
   "metadata": {},
   "cell_type": "markdown",
   "source": [
    "## 4. Get all immo transactions of 2020\n",
    "\n",
    "We have a column `date_transaction` of date type. We need to use this column to filter"
   ],
   "id": "414763a82d678737"
  },
  {
   "metadata": {
    "ExecuteTime": {
     "end_time": "2025-08-22T07:29:11.244047Z",
     "start_time": "2025-08-22T07:29:10.617881Z"
    }
   },
   "cell_type": "code",
   "source": [
    "from pyspark.sql.functions import year\n",
    "\n",
    "transaction_immo_2020 = fr_immo_geometry_df.filter(year(col(\"date_transaction\")) == 2020)\n",
    "transaction_immo_2020.show(5)"
   ],
   "id": "548e51e59323e75c",
   "outputs": [
    {
     "name": "stdout",
     "output_type": "stream",
     "text": [
      "+--------------+----------------+--------+-----------+--------------------+-----------+--------------------+-------------+--------+-----------------+--------------------+\n",
      "|id_transaction|date_transaction|    prix|departement|               ville|code_postal|             adresse|type_batiment|n_pieces|surface_habitable|           geo_coord|\n",
      "+--------------+----------------+--------+-----------+--------------------+-----------+--------------------+-------------+--------+-----------------+--------------------+\n",
      "|         67688|      2020-01-02|182925.0|         01|   AMBERIEU-EN-BUGEY|       1500|78 AV DU GEN SARRAIL|  Appartement|       5|               93|POINT (5.33384020...|\n",
      "|         69832|      2020-01-02|430000.0|         01|     PREVESSIN-MOENS|       1280| 134 CHE DES HAUTINS|  Appartement|       5|              105|POINT (6.08684459...|\n",
      "|         69585|      2020-01-02|165000.0|         01|              CHEVRY|       1170|  347 RUE DU CHATEAU|  Appartement|       3|               48|POINT (6.03460404...|\n",
      "|         66142|      2020-01-02| 80000.0|         01|SAINT-JULIEN-SUR-...|       1540|  2120 RTE DE VONNAS|       Maison|       4|               93|POINT (4.97154658...|\n",
      "|         64848|      2020-01-03|253505.0|         01|     ARS-SUR-FORMANS|       1480|106 ALL DES GARENNES|       Maison|       6|              138|POINT (4.81728561...|\n",
      "+--------------+----------------+--------+-----------+--------------------+-----------+--------------------+-------------+--------+-----------------+--------------------+\n",
      "only showing top 5 rows\n",
      "\n"
     ]
    }
   ],
   "execution_count": 13
  },
  {
   "metadata": {},
   "cell_type": "markdown",
   "source": "## 5. Get all immo transactions near CASD",
   "id": "4ba6890a7492bb2e"
  },
  {
   "metadata": {
    "ExecuteTime": {
     "end_time": "2025-08-22T07:51:42.674535Z",
     "start_time": "2025-08-22T07:51:42.670205Z"
    }
   },
   "cell_type": "code",
   "source": [
    "# casd geo location\n",
    "casd_latitude = \"48.8190155\"\n",
    "casd_longitude = \"2.3081911\"\n",
    "casd_geo = f\"POINT({casd_longitude} {casd_latitude})\"\n",
    "\n",
    "distance = 500.0\n",
    "\n"
   ],
   "id": "6c6b39e5fa2e8177",
   "outputs": [],
   "execution_count": 23
  },
  {
   "metadata": {
    "ExecuteTime": {
     "end_time": "2025-08-22T07:52:10.528334Z",
     "start_time": "2025-08-22T07:52:10.522412Z"
    }
   },
   "cell_type": "code",
   "source": [
    "from pyspark.sql.functions import asc\n",
    "\n",
    "\n",
    "def get_near_immo_transaction(geo_df: DataFrame, target_loc: str, distance: float) -> DataFrame:\n",
    "    \"\"\"\n",
    "    This function get the nearest hospital based on distance with a given patient location\n",
    "    :return:\n",
    "    \"\"\"\n",
    "    tmp_df = geo_df.withColumn(\"distance_meter\", ST_DistanceSphere(ST_GeomFromWKT(lit(target_loc)), col(\"geo_coord\"))) \\\n",
    "        .orderBy(asc(\"distance_meter\"))\n",
    "\n",
    "    return tmp_df.filter(tmp_df.distance_meter <= distance)"
   ],
   "id": "8eff1f546c2e998d",
   "outputs": [],
   "execution_count": 26
  },
  {
   "metadata": {
    "ExecuteTime": {
     "end_time": "2025-08-22T07:52:11.477743Z",
     "start_time": "2025-08-22T07:52:11.428600Z"
    }
   },
   "cell_type": "code",
   "source": "immo_transaction_near_casd = get_near_immo_transaction(fr_immo_geometry_df, casd_geo, distance)",
   "id": "9e512b1b33ee04b4",
   "outputs": [],
   "execution_count": 27
  },
  {
   "metadata": {
    "ExecuteTime": {
     "end_time": "2025-08-22T07:52:33.087146Z",
     "start_time": "2025-08-22T07:52:32.169822Z"
    }
   },
   "cell_type": "code",
   "source": "immo_transaction_near_casd.count()",
   "id": "d9b47f3fbf2e99d9",
   "outputs": [
    {
     "data": {
      "text/plain": [
       "2372"
      ]
     },
     "execution_count": 29,
     "metadata": {},
     "output_type": "execute_result"
    }
   ],
   "execution_count": 29
  },
  {
   "metadata": {
    "ExecuteTime": {
     "end_time": "2025-08-22T07:52:15.951376Z",
     "start_time": "2025-08-22T07:52:13.345259Z"
    }
   },
   "cell_type": "code",
   "source": "immo_transaction_near_casd.show(5)\n",
   "id": "bdb03c792036a6ac",
   "outputs": [
    {
     "name": "stdout",
     "output_type": "stream",
     "text": [
      "+--------------+----------------+---------+-----------+--------+-----------+--------------------+-------------+--------+-----------------+--------------------+-----------------+\n",
      "|id_transaction|date_transaction|     prix|departement|   ville|code_postal|             adresse|type_batiment|n_pieces|surface_habitable|           geo_coord|   distance_meter|\n",
      "+--------------+----------------+---------+-----------+--------+-----------+--------------------+-------------+--------+-----------------+--------------------+-----------------+\n",
      "|      14144156|      2019-12-18|1007200.0|         92|MALAKOFF|      92240|9 RUE FRANCOIS CO...|  Appartement|       2|              139|POINT (2.30806162...|30.35060097718332|\n",
      "|      14168314|      2019-07-29|1164550.0|         92|MALAKOFF|      92240|9 RUE FRANCOIS CO...|  Appartement|       3|              103|POINT (2.30806162...|30.35060097718332|\n",
      "|      14042392|      2020-02-27|1620000.0|         92|MALAKOFF|      92240|9 RUE FRANCOIS CO...|  Appartement|       5|              156|POINT (2.30806162...|30.35060097718332|\n",
      "|      14559941|      2015-03-05|  66000.0|         92|MALAKOFF|      92240|11 RUE FRANCOIS C...|  Appartement|       1|               14|POINT (2.30820955...|49.37794023861486|\n",
      "|      14291143|      2018-02-01|  81000.0|         92|MALAKOFF|      92240|11 RUE FRANCOIS C...|  Appartement|       1|               14|POINT (2.30820955...|49.37794023861486|\n",
      "+--------------+----------------+---------+-----------+--------+-----------+--------------------+-------------+--------+-----------------+--------------------+-----------------+\n",
      "only showing top 5 rows\n",
      "\n"
     ]
    }
   ],
   "execution_count": 28
  },
  {
   "metadata": {
    "ExecuteTime": {
     "end_time": "2025-08-08T13:29:04.025497Z",
     "start_time": "2025-08-08T13:29:04.015239Z"
    }
   },
   "cell_type": "code",
   "outputs": [],
   "execution_count": 29,
   "source": "",
   "id": "484336dbb38a42a"
  }
 ],
 "metadata": {
  "kernelspec": {
   "display_name": "Python 3",
   "language": "python",
   "name": "python3"
  },
  "language_info": {
   "codemirror_mode": {
    "name": "ipython",
    "version": 2
   },
   "file_extension": ".py",
   "mimetype": "text/x-python",
   "name": "python",
   "nbconvert_exporter": "python",
   "pygments_lexer": "ipython2",
   "version": "2.7.6"
  }
 },
 "nbformat": 4,
 "nbformat_minor": 5
}
