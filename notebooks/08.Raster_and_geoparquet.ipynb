{
 "cells": [
  {
   "metadata": {
    "collapsed": true
   },
   "cell_type": "markdown",
   "source": [
    "# Raster and geoparquet\n",
    "\n",
    "## 1. Raster Data\n",
    "\n",
    "Raster data is a `type of geospatial data model`. It represents the world as `a grid of cells (pixels)`, each cell containing a value.\n",
    "\n",
    "Typical uses of raster data:\n",
    "- storing satellite imagery,\n",
    "- digital elevation models (DEM),\n",
    "- climate data,\n",
    "- land cover maps.\n",
    "\n",
    "Each pixel may store:\n",
    "- A continuous value (elevation, temperature, rainfall).\n",
    "- A discrete class (land cover type: forest, water, urban).\n",
    "\n",
    "Example: A 1000×1000 raster with 30 m resolution covers 30 km × 30 km of terrain.\n",
    "\n",
    "Raster data model is a collection of various formats:\n",
    "- NetCDF (Network Common Data Form): Climate/Weather, Remote sensing\n",
    "- GeoTIFF: GIS maps\n",
    "- ASCII Grid (ESRI .asc)\n",
    "- HDF (Hierarchical Data Format, HDF4 / HDF5): Climate/Weather, Remote sensing\n",
    "- ETc.\n",
    "Standard in GIS, flexible, supports compression, multiple bands, large sizes.\n",
    "\n",
    "### 1.1 NetCDF (Network Common Data Form)\n",
    "\n",
    "**NetCDF** is a file format and data model, which stores `multi-dimensional arrays` (e.g., latitude × longitude × time × depth).\n",
    "\n",
    "It has the below advantages:\n",
    "- Self-describing: contains metadata describing variables, units, coordinate systems.\n",
    "- Binary: Efficient for large spatiotemporal datasets (like daily temperature over decades).\n",
    "\n",
    "It's commonly used in atmospheric reanalysis, global climate models, and remote sensing time series.\n",
    "\n",
    "A NetCDF file defines:\n",
    "\n",
    "- dimensions: It defines the shape of data arrays.\n",
    "- variables: It stores the actual data.\n",
    "- coordinates: 1D or 2D variables that define position.\n",
    "- attributes: It stores the metadata at the file or variable level.\n",
    "\n",
    "### 1.2 GeoTIFF\n",
    "\n",
    "**GeoTIFF** is a `georeferenced raster image format` widely used in `geographic information systems (GIS)` to store spatial data such as satellite imagery, aerial photos, digital elevation models, and other gridded data.\n",
    "GeoTIFF is compatible with TIFF viewers, but extended with `geographic tags(e.g. coordinate system, projection, geotransform)` following the GeoTIFF specification. Almost all GIS and remote sensing software can read/write GeoTIFF.\n",
    "\n",
    "It can contain multiple bands (e.g., RGB, multispectral, or elevation).\n",
    "It's widely supported by `GIS tools (e.g. QGIS, ArcGIS, GDAL, etc.)`.\n",
    "\n",
    "Example: a Landsat scene distributed as GeoTIFF files, each band in a separate file.\n",
    "\n",
    "### 1.3 ASCII Grid (ESRI .asc)\n",
    "\n",
    "`ASCII Grid` is a simple text-based raster format.\n",
    "It's easy to read but `inefficient for large datasets`.\n",
    "\n",
    "### 1.4 HDF (Hierarchical Data Format, HDF4 / HDF5)\n",
    "\n",
    "**HDF** is similar to `NetCDF`, designed for storing large scientific datasets.\n",
    "\n",
    "> NASA distributes MODIS satellite products in HDF.\n",
    "\n",
    "\n",
    "## 2. Use sedona to read raster data\n",
    "\n",
    "In this tutorial, we will use sedona to read various raster data format"
   ],
   "id": "8aa64a3ccf071a68"
  },
  {
   "metadata": {
    "ExecuteTime": {
     "end_time": "2025-08-22T14:03:49.201942Z",
     "start_time": "2025-08-22T14:03:43.972323Z"
    }
   },
   "cell_type": "code",
   "source": [
    "from sedona.spark import *\n",
    "from pathlib import Path\n",
    "from pyspark.sql import SparkSession, DataFrame"
   ],
   "id": "18b3fe135fd8c15f",
   "outputs": [],
   "execution_count": 1
  },
  {
   "metadata": {
    "ExecuteTime": {
     "end_time": "2025-08-22T14:03:49.218328Z",
     "start_time": "2025-08-22T14:03:49.215039Z"
    }
   },
   "cell_type": "code",
   "source": [
    "# build a sedona session offline\n",
    "project_root_dir = Path.cwd().parent\n",
    "\n",
    "print(project_root_dir.as_posix())"
   ],
   "id": "224177a3b5d0838e",
   "outputs": [
    {
     "name": "stdout",
     "output_type": "stream",
     "text": [
      "C:/Users/PLIU/Documents/git/Seminar_PySpark_Sedona_GeoParquet\n"
     ]
    }
   ],
   "execution_count": 2
  },
  {
   "metadata": {
    "ExecuteTime": {
     "end_time": "2025-08-22T14:03:53.740487Z",
     "start_time": "2025-08-22T14:03:49.228698Z"
    }
   },
   "cell_type": "code",
   "source": [
    "# here we choose sedona 1.7.2 for spark 3.5.* build with scala 2.12\n",
    "jar_folder = Path(f\"{project_root_dir}/jars/sedona-35-212-172\")\n",
    "jar_list = [str(jar) for jar in jar_folder.iterdir() if jar.is_file()]\n",
    "jar_path = \",\".join(jar_list)\n",
    "\n",
    "# build a sedona session (sedona = 1.7.2) offline\n",
    "spark = SparkSession.builder \\\n",
    "    .appName(\"sedona_tutorial\") \\\n",
    "    .master(\"local[*]\") \\\n",
    "    .config(\"spark.jars\", jar_path) \\\n",
    "    .getOrCreate()"
   ],
   "id": "2a1f34c8fad45bc0",
   "outputs": [],
   "execution_count": 3
  },
  {
   "metadata": {
    "ExecuteTime": {
     "end_time": "2025-08-22T14:04:01.369559Z",
     "start_time": "2025-08-22T14:03:54.123741Z"
    }
   },
   "cell_type": "code",
   "source": [
    "# create a sedona context\n",
    "sedona = SedonaContext.create(spark)\n",
    "# get the spark context\n",
    "sc = spark.sparkContext\n",
    "# use utf as default encoding\n",
    "sc.setSystemProperty(\"sedona.global.charset\", \"utf8\")"
   ],
   "id": "9eb2654b70a456ca",
   "outputs": [],
   "execution_count": 4
  },
  {
   "metadata": {
    "ExecuteTime": {
     "end_time": "2025-08-22T14:24:22.445078Z",
     "start_time": "2025-08-22T14:24:22.433325Z"
    }
   },
   "cell_type": "code",
   "source": [
    "\n",
    "raster_data_dir = f\"{project_root_dir}/data/raster\"\n",
    "netcdf_sample = f\"{raster_data_dir}/netcdf/sea_surface_temperature_O1_2001-2002.nc\"\n",
    "geotiff_sample = f\"{raster_data_dir}/geotiff/PlanetDEM_3s_SanFrancisco.tif\""
   ],
   "id": "2ee6a4aa5efa8dca",
   "outputs": [],
   "execution_count": 5
  },
  {
   "metadata": {},
   "cell_type": "markdown",
   "source": [
    "### 2.1 Read netcdf via sedona\n",
    "\n",
    "We will use `RS_FromNetCDF` api to read netcdf data. This API reads the array data of the record variable in memory along with `all its dimensions`. Since the netCDF format has many variants, the reader might not work for your case.\n",
    "\n",
    "This api has been tested for `netCDF classic (NetCDF 1, 2, 5) and netCDF4/HDF5 files`.\n",
    "\n"
   ],
   "id": "6e0835ce1ba1a4e2"
  },
  {
   "metadata": {
    "ExecuteTime": {
     "end_time": "2025-08-22T14:24:33.078008Z",
     "start_time": "2025-08-22T14:24:32.809551Z"
    }
   },
   "cell_type": "code",
   "source": "raw_netcdf = sedona.read.format(\"binaryFile\").load(netcdf_sample)",
   "id": "b3be589af0fcb640",
   "outputs": [],
   "execution_count": 6
  },
  {
   "metadata": {
    "ExecuteTime": {
     "end_time": "2025-08-22T14:24:55.915005Z",
     "start_time": "2025-08-22T14:24:53.292461Z"
    }
   },
   "cell_type": "code",
   "source": "raw_netcdf.show(5)",
   "id": "223d3a22f80f4f02",
   "outputs": [
    {
     "name": "stdout",
     "output_type": "stream",
     "text": [
      "+--------------------+--------------------+-------+--------------------+\n",
      "|                path|    modificationTime| length|             content|\n",
      "+--------------------+--------------------+-------+--------------------+\n",
      "|file:/C:/Users/PL...|2025-06-16 11:42:...|2949152|[43 44 46 01 00 0...|\n",
      "+--------------------+--------------------+-------+--------------------+\n",
      "\n"
     ]
    }
   ],
   "execution_count": 7
  },
  {
   "metadata": {
    "ExecuteTime": {
     "end_time": "2025-08-22T14:27:33.542030Z",
     "start_time": "2025-08-22T14:27:33.398717Z"
    }
   },
   "cell_type": "code",
   "source": [
    "# we need to get the netcdf record info first\n",
    "recordInfo = raw_netcdf.selectExpr(\"RS_NetCDFInfo(content) as record_info\").first()[0]\n",
    "print(recordInfo)"
   ],
   "id": "b8957c8ed51636b7",
   "outputs": [
    {
     "name": "stdout",
     "output_type": "stream",
     "text": [
      "lon_bnds(lon=180, bnds=2)\n",
      "\n",
      "lat_bnds(lat=170, bnds=2)\n",
      "\n",
      "time_bnds(time=24, bnds=2)\n",
      "\n",
      "tos(time=24, lat=170, lon=180)\n"
     ]
    }
   ],
   "execution_count": 9
  },
  {
   "metadata": {
    "ExecuteTime": {
     "end_time": "2025-08-22T14:29:29.845876Z",
     "start_time": "2025-08-22T14:29:29.774186Z"
    }
   },
   "cell_type": "code",
   "source": [
    "from pyspark.sql.functions import expr\n",
    "\n",
    "netcdf_df = raw_netcdf.withColumn(\"raster\", expr(\"RS_FromNetCDF(content, 'tos', 'lon', 'lat')\"))"
   ],
   "id": "a1f91be4e427f53b",
   "outputs": [],
   "execution_count": 10
  },
  {
   "metadata": {
    "ExecuteTime": {
     "end_time": "2025-08-22T14:30:14.761515Z",
     "start_time": "2025-08-22T14:30:14.495270Z"
    }
   },
   "cell_type": "code",
   "source": "netcdf_df.select(\"raster\").show(1, truncate=False, vertical=True)",
   "id": "cb45dbdba8c44dd7",
   "outputs": [
    {
     "name": "stdout",
     "output_type": "stream",
     "text": [
      "-RECORD 0------------------------------------------------------------------------------------------------------------------------------------------------------------------------------------------------------------------------------------------------------------------------------------------------------------------------------------------------------------------------------------------------------------------------------------------------------------------------------------------------------------------------------------------------------------------------------------------------------------------------------------------------------------------------------------------------------------------------------------------------------------------------------------------------------------------------------------------------------------------------------------------------------------------------------------------------------------------------------------------------------------------------------------------------------------------------------------------------------------------------------------------------------------------------------------------------------------------------------------------------------------------------------------------------------------------------------------------------------------------------------------------------------------------------------------------------------------------------------------------------------------------------------------------------------------------------------------------------------------------------------------------------------------------------------------------------------------------------------------------------------------------------------------------------------------------------------------------------------------------------------------------------------------------------------------------------------------------------------------------------------------------------------------------------------------------------------------------------------------------------------------------------------------------------------------------------------------------------------------------------------------------------------------------------------------------------------------------------------------------------------------------------------------------------------------------------------------------------------------------------------------------------------------------------------------------------------------------------------------------------------------------------------------------------------------------------------------------------------------------------------------------------------------------------------------------------------------------------------------------------------------------------------------------------------------------------------------------------------------------------------------------------------------------------------------------------------------------------------------------------------------------------------------------------------------------------------------------------------------------------------------------------------------------------------------------------------------------------------------------------------------------------------------------------------------------------------------------------------------------------------------------------------------------------------------------------------------------------------------------------------------------------------------------------------------------------------------------------------------------------------------------------------------------------------------------------------------------------------------------------------------------------------------------------------------------------------------------------------------------------------------------------------------------------------------------------------------------------------------------------------------------------------------------------------------------------------------------------------------------------------------------------------------------------------------------------------------------------------------------------------------------------------------------------------------------------------------------------------------\n",
      " raster | GridCoverage2D[\"genericCoverage\", GeneralEnvelope[(0.0, -80.0), (360.0, 90.0)], DefaultEngineeringCRS[\"Generic cartesian 2D\"]]\\r\\n│   RenderedSampleDimension(\"band_0\":[1.0000000200408773E20 ... 1.0000000200408773E20])\\r\\n│     ‣ Category(\"No data\":[1.0000000200408773E20 ... 1.0000000200408773E20])\\r\\n│   RenderedSampleDimension(\"band_1\":[1.0000000200408773E20 ... 1.0000000200408773E20])\\r\\n│     ‣ Category(\"No data\":[1.0000000200408773E20 ... 1.0000000200408773E20])\\r\\n│   RenderedSampleDimension(\"band_2\":[1.0000000200408773E20 ... 1.0000000200408773E20])\\r\\n│     ‣ Category(\"No data\":[1.0000000200408773E20 ... 1.0000000200408773E20])\\r\\n│   RenderedSampleDimension(\"band_3\":[1.0000000200408773E20 ... 1.0000000200408773E20])\\r\\n│     ‣ Category(\"No data\":[1.0000000200408773E20 ... 1.0000000200408773E20])\\r\\n│   RenderedSampleDimension(\"band_4\":[1.0000000200408773E20 ... 1.0000000200408773E20])\\r\\n│     ‣ Category(\"No data\":[1.0000000200408773E20 ... 1.0000000200408773E20])\\r\\n│   RenderedSampleDimension(\"band_5\":[1.0000000200408773E20 ... 1.0000000200408773E20])\\r\\n│     ‣ Category(\"No data\":[1.0000000200408773E20 ... 1.0000000200408773E20])\\r\\n│   RenderedSampleDimension(\"band_6\":[1.0000000200408773E20 ... 1.0000000200408773E20])\\r\\n│     ‣ Category(\"No data\":[1.0000000200408773E20 ... 1.0000000200408773E20])\\r\\n│   RenderedSampleDimension(\"band_7\":[1.0000000200408773E20 ... 1.0000000200408773E20])\\r\\n│     ‣ Category(\"No data\":[1.0000000200408773E20 ... 1.0000000200408773E20])\\r\\n│   RenderedSampleDimension(\"band_8\":[1.0000000200408773E20 ... 1.0000000200408773E20])\\r\\n│     ‣ Category(\"No data\":[1.0000000200408773E20 ... 1.0000000200408773E20])\\r\\n│   RenderedSampleDimension(\"band_9\":[1.0000000200408773E20 ... 1.0000000200408773E20])\\r\\n│     ‣ Category(\"No data\":[1.0000000200408773E20 ... 1.0000000200408773E20])\\r\\n│   RenderedSampleDimension(\"band_10\":[1.0000000200408773E20 ... 1.0000000200408773E20])\\r\\n│     ‣ Category(\"No data\":[1.0000000200408773E20 ... 1.0000000200408773E20])\\r\\n│   RenderedSampleDimension(\"band_11\":[1.0000000200408773E20 ... 1.0000000200408773E20])\\r\\n│     ‣ Category(\"No data\":[1.0000000200408773E20 ... 1.0000000200408773E20])\\r\\n│   RenderedSampleDimension(\"band_12\":[1.0000000200408773E20 ... 1.0000000200408773E20])\\r\\n│     ‣ Category(\"No data\":[1.0000000200408773E20 ... 1.0000000200408773E20])\\r\\n│   RenderedSampleDimension(\"band_13\":[1.0000000200408773E20 ... 1.0000000200408773E20])\\r\\n│     ‣ Category(\"No data\":[1.0000000200408773E20 ... 1.0000000200408773E20])\\r\\n│   RenderedSampleDimension(\"band_14\":[1.0000000200408773E20 ... 1.0000000200408773E20])\\r\\n│     ‣ Category(\"No data\":[1.0000000200408773E20 ... 1.0000000200408773E20])\\r\\n│   RenderedSampleDimension(\"band_15\":[1.0000000200408773E20 ... 1.0000000200408773E20])\\r\\n│     ‣ Category(\"No data\":[1.0000000200408773E20 ... 1.0000000200408773E20])\\r\\n│   RenderedSampleDimension(\"band_16\":[1.0000000200408773E20 ... 1.0000000200408773E20])\\r\\n│     ‣ Category(\"No data\":[1.0000000200408773E20 ... 1.0000000200408773E20])\\r\\n│   RenderedSampleDimension(\"band_17\":[1.0000000200408773E20 ... 1.0000000200408773E20])\\r\\n│     ‣ Category(\"No data\":[1.0000000200408773E20 ... 1.0000000200408773E20])\\r\\n│   RenderedSampleDimension(\"band_18\":[1.0000000200408773E20 ... 1.0000000200408773E20])\\r\\n│     ‣ Category(\"No data\":[1.0000000200408773E20 ... 1.0000000200408773E20])\\r\\n│   RenderedSampleDimension(\"band_19\":[1.0000000200408773E20 ... 1.0000000200408773E20])\\r\\n│     ‣ Category(\"No data\":[1.0000000200408773E20 ... 1.0000000200408773E20])\\r\\n│   RenderedSampleDimension(\"band_20\":[1.0000000200408773E20 ... 1.0000000200408773E20])\\r\\n│     ‣ Category(\"No data\":[1.0000000200408773E20 ... 1.0000000200408773E20])\\r\\n│   RenderedSampleDimension(\"band_21\":[1.0000000200408773E20 ... 1.0000000200408773E20])\\r\\n│     ‣ Category(\"No data\":[1.0000000200408773E20 ... 1.0000000200408773E20])\\r\\n│   RenderedSampleDimension(\"band_22\":[1.0000000200408773E20 ... 1.0000000200408773E20])\\r\\n│     ‣ Category(\"No data\":[1.0000000200408773E20 ... 1.0000000200408773E20])\\r\\n│   RenderedSampleDimension(\"band_23\":[1.0000000200408773E20 ... 1.0000000200408773E20])\\r\\n│     ‣ Category(\"No data\":[1.0000000200408773E20 ... 1.0000000200408773E20])\\r\\n└ Image=RenderedImageAdapter[]\\r\\n \n",
      "\n"
     ]
    }
   ],
   "execution_count": 12
  },
  {
   "metadata": {},
   "cell_type": "code",
   "outputs": [],
   "execution_count": null,
   "source": "",
   "id": "685227da1e98e207"
  }
 ],
 "metadata": {
  "kernelspec": {
   "display_name": "Python 3",
   "language": "python",
   "name": "python3"
  },
  "language_info": {
   "codemirror_mode": {
    "name": "ipython",
    "version": 2
   },
   "file_extension": ".py",
   "mimetype": "text/x-python",
   "name": "python",
   "nbconvert_exporter": "python",
   "pygments_lexer": "ipython2",
   "version": "2.7.6"
  }
 },
 "nbformat": 4,
 "nbformat_minor": 5
}
