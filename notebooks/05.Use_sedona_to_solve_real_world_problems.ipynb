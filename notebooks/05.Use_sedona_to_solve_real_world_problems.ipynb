{
 "cells": [
  {
   "metadata": {},
   "cell_type": "markdown",
   "source": [
    "# 3. Use sedona to solve real world problems\n",
    "\n",
    "Suppose we need to solve the below problems:\n",
    "- Get the nearest communes of a location\n",
    "- Get a list of hospitals and doctors(with their geometry location) in Île-de-France\n",
    "- Get nearest hospitals of a giving point.\n",
    "- Count hospitals in each commune in Île-de-France.\n",
    "- Get real route distance and duration between each commune in Île-de-France and giving point\n",
    "\n",
    "\n"
   ],
   "id": "590515bfa7aa726e"
  },
  {
   "metadata": {
    "ExecuteTime": {
     "end_time": "2025-01-09T10:00:14.496073Z",
     "start_time": "2025-01-09T10:00:11.486352Z"
    }
   },
   "cell_type": "code",
   "source": [
    "from sedona.spark import *\n",
    "from pathlib import Path\n",
    "from pyspark.sql.functions import col, lower, lit, split\n",
    "import urllib3\n",
    "urllib3.disable_warnings(urllib3.exceptions.InsecureRequestWarning)"
   ],
   "id": "9d216f32a27943c8",
   "outputs": [],
   "execution_count": 1
  },
  {
   "metadata": {
    "ExecuteTime": {
     "end_time": "2025-01-09T10:00:15.601797Z",
     "start_time": "2025-01-09T10:00:15.594251Z"
    }
   },
   "cell_type": "code",
   "source": [
    "# get the project root dir\n",
    "project_root_dir = Path.cwd().parent.parent.parent\n",
    "print(project_root_dir)"
   ],
   "id": "457947f17e07379c",
   "outputs": [
    {
     "name": "stdout",
     "output_type": "stream",
     "text": [
      "/home/pliu/git/ConstanceDataPlatform\n"
     ]
    }
   ],
   "execution_count": 2
  },
  {
   "metadata": {
    "ExecuteTime": {
     "end_time": "2025-01-09T10:00:18.669281Z",
     "start_time": "2025-01-09T10:00:18.661934Z"
    }
   },
   "cell_type": "code",
   "source": [
    "# set the data path\n",
    "data_dir = f\"{project_root_dir}/data\"\n",
    "\n",
    "linux = True\n",
    "win_root_dir = \"C:/Users/PLIU/Documents/ubuntu_share/data_set\"\n",
    "lin_root_dir = \"/mnt/hgfs/ubuntu_share/data_set\"\n",
    "if linux:\n",
    "    data_root_dir = lin_root_dir\n",
    "else:\n",
    "    data_root_dir = win_root_dir\n",
    "\n",
    "fr_commune_file_path = f\"{data_root_dir}/kaggle/geospatial/communes_fr_geoparquet\""
   ],
   "id": "795cb3bdfd8e2222",
   "outputs": [],
   "execution_count": 3
  },
  {
   "metadata": {
    "ExecuteTime": {
     "end_time": "2025-01-09T10:00:28.571722Z",
     "start_time": "2025-01-09T10:00:19.658336Z"
    }
   },
   "cell_type": "code",
   "source": [
    "# build a sedona session (sedona = 1.6.1)\n",
    "jar_folder = Path(f\"{project_root_dir}/jars/sedona-35-213-161\")\n",
    "jar_list = [str(jar) for jar in jar_folder.iterdir() if jar.is_file()]\n",
    "jar_path = \",\".join(jar_list)\n",
    "\n",
    "# build a sedona session (sedona = 1.6.1) offline\n",
    "config = SedonaContext.builder() \\\n",
    "    .master(\"local[*]\") \\\n",
    "    .config('spark.jars', jar_path). \\\n",
    "    getOrCreate()"
   ],
   "id": "38f6e9ea4816a222",
   "outputs": [
    {
     "name": "stderr",
     "output_type": "stream",
     "text": [
      "25/01/09 11:00:23 WARN Utils: Your hostname, pliu-ubuntu24 resolves to a loopback address: 127.0.1.1; using 192.168.30.128 instead (on interface ens33)\n",
      "25/01/09 11:00:23 WARN Utils: Set SPARK_LOCAL_IP if you need to bind to another address\n",
      "25/01/09 11:00:24 WARN NativeCodeLoader: Unable to load native-hadoop library for your platform... using builtin-java classes where applicable\n",
      "Setting default log level to \"WARN\".\n",
      "To adjust logging level use sc.setLogLevel(newLevel). For SparkR, use setLogLevel(newLevel).\n"
     ]
    }
   ],
   "execution_count": 4
  },
  {
   "metadata": {
    "ExecuteTime": {
     "end_time": "2025-01-09T10:00:37.659068Z",
     "start_time": "2025-01-09T10:00:28.655661Z"
    }
   },
   "cell_type": "code",
   "source": [
    "# create a sedona context\n",
    "sedona = SedonaContext.create(config)\n",
    "sc = sedona.sparkContext\n",
    "spark = sedona.getActiveSession()\n"
   ],
   "id": "d115ca74f0fd4341",
   "outputs": [
    {
     "name": "stderr",
     "output_type": "stream",
     "text": [
      "                                                                                \r"
     ]
    }
   ],
   "execution_count": 5
  },
  {
   "metadata": {
    "ExecuteTime": {
     "end_time": "2025-01-09T10:00:37.678303Z",
     "start_time": "2025-01-09T10:00:37.669807Z"
    }
   },
   "cell_type": "code",
   "source": [
    "# this sets the encoding of shape files\n",
    "sc.setSystemProperty(\"sedona.global.charset\", \"utf8\")"
   ],
   "id": "2e29362d97d8b50f",
   "outputs": [],
   "execution_count": 6
  },
  {
   "metadata": {},
   "cell_type": "markdown",
   "source": [
    "## Q1. Get the nearest communes of a location\n",
    "\n",
    "To solve this question, we need to:\n",
    " \n",
    "- With a given gps coordinates(WGS84/EPSG:4326), get the bird-view distances between the given point and all commune in France\n",
    "- Sort the distance in ascending order and show the communes with required numbers\n"
   ],
   "id": "416267c9039f9a39"
  },
  {
   "metadata": {
    "ExecuteTime": {
     "end_time": "2025-01-09T10:00:55.500741Z",
     "start_time": "2025-01-09T10:00:53.747435Z"
    }
   },
   "cell_type": "code",
   "source": "fr_commune_raw = sedona.read.format(\"geoparquet\").load(fr_commune_file_path)",
   "id": "5f2e5fc2b0d14e51",
   "outputs": [
    {
     "name": "stderr",
     "output_type": "stream",
     "text": [
      "                                                                                \r"
     ]
    }
   ],
   "execution_count": 7
  },
  {
   "metadata": {
    "ExecuteTime": {
     "end_time": "2025-01-09T10:01:02.998768Z",
     "start_time": "2025-01-09T10:01:00.478833Z"
    }
   },
   "cell_type": "code",
   "source": [
    "fr_commune_raw.show(5)\n",
    "fr_commune_raw.printSchema()"
   ],
   "id": "46fc51e8be940d94",
   "outputs": [
    {
     "name": "stderr",
     "output_type": "stream",
     "text": [
      "[Stage 4:>                                                          (0 + 1) / 1]\r"
     ]
    },
    {
     "name": "stdout",
     "output_type": "stream",
     "text": [
      "+--------------------+--------------------+--------------------+------------+-----+\n",
      "|            geometry|           wikipedia|             surf_ha|         nom|insee|\n",
      "+--------------------+--------------------+--------------------+------------+-----+\n",
      "|POLYGON ((9.32016...|fr:Pie-d'Orezza  ...|     573.00000000...|Pie-d'Orezza|2B222|\n",
      "|POLYGON ((9.20010...|fr:Lano          ...|     824.00000000...|        Lano|2B137|\n",
      "|POLYGON ((9.27757...|fr:Cambia        ...|     833.00000000...|      Cambia|2B051|\n",
      "|POLYGON ((9.25119...|fr:Érone         ...|     393.00000000...|       Érone|2B106|\n",
      "|POLYGON ((9.28339...|fr:Oletta        ...|    2674.00000000...|      Oletta|2B185|\n",
      "+--------------------+--------------------+--------------------+------------+-----+\n",
      "only showing top 5 rows\n",
      "\n",
      "root\n",
      " |-- geometry: geometry (nullable = true)\n",
      " |-- wikipedia: string (nullable = true)\n",
      " |-- surf_ha: string (nullable = true)\n",
      " |-- nom: string (nullable = true)\n",
      " |-- insee: string (nullable = true)\n",
      "\n"
     ]
    },
    {
     "name": "stderr",
     "output_type": "stream",
     "text": [
      "                                                                                \r"
     ]
    }
   ],
   "execution_count": 8
  },
  {
   "metadata": {
    "ExecuteTime": {
     "end_time": "2025-01-09T10:01:21.627860Z",
     "start_time": "2025-01-09T10:01:21.418666Z"
    }
   },
   "cell_type": "code",
   "source": "fr_commune_df = fr_commune_raw.select(\"geometry\",\"nom\",\"insee\").withColumn(\"name\",lower(col(\"nom\"))).drop(\"nom\")",
   "id": "6368b2fa76c80e4c",
   "outputs": [],
   "execution_count": 9
  },
  {
   "metadata": {
    "ExecuteTime": {
     "end_time": "2025-01-09T10:01:23.611185Z",
     "start_time": "2025-01-09T10:01:22.632955Z"
    }
   },
   "cell_type": "code",
   "source": [
    "fr_commune_df.show(5)\n",
    "fr_commune_df.printSchema()"
   ],
   "id": "68a8069e2001240a",
   "outputs": [
    {
     "name": "stdout",
     "output_type": "stream",
     "text": [
      "+--------------------+-----+------------+\n",
      "|            geometry|insee|        name|\n",
      "+--------------------+-----+------------+\n",
      "|POLYGON ((9.32016...|2B222|pie-d'orezza|\n",
      "|POLYGON ((9.20010...|2B137|        lano|\n",
      "|POLYGON ((9.27757...|2B051|      cambia|\n",
      "|POLYGON ((9.25119...|2B106|       érone|\n",
      "|POLYGON ((9.28339...|2B185|      oletta|\n",
      "+--------------------+-----+------------+\n",
      "only showing top 5 rows\n",
      "\n",
      "root\n",
      " |-- geometry: geometry (nullable = true)\n",
      " |-- insee: string (nullable = true)\n",
      " |-- name: string (nullable = true)\n",
      "\n"
     ]
    },
    {
     "name": "stderr",
     "output_type": "stream",
     "text": [
      "                                                                                \r"
     ]
    }
   ],
   "execution_count": 10
  },
  {
   "metadata": {
    "ExecuteTime": {
     "end_time": "2025-01-09T10:01:29.183984Z",
     "start_time": "2025-01-09T10:01:29.128304Z"
    }
   },
   "cell_type": "code",
   "source": [
    "temp_table_name=\"fr_commune\"\n",
    "fr_commune_df.createOrReplaceTempView(temp_table_name)"
   ],
   "id": "64037cbe81c71a1a",
   "outputs": [],
   "execution_count": 11
  },
  {
   "metadata": {
    "ExecuteTime": {
     "end_time": "2025-01-09T10:01:29.828685Z",
     "start_time": "2025-01-09T10:01:29.819910Z"
    }
   },
   "cell_type": "code",
   "source": [
    "def get_nearest_commune(latitude:str, longitude:str, max_commune_number:int):\n",
    "    \"\"\"\n",
    "    This function calculates the nearest commune to the given latitude and longitude.\n",
    "    :param latitude: latitude of the given point\n",
    "    :param longitude: longitude of the given point\n",
    "    :param max_commune_number: Specify the max number of commune in the result\n",
    "    :return: \n",
    "    \"\"\"\n",
    "    nearest_commune_df = sedona.sql(f\"\"\"\n",
    "     SELECT z.name as commune_name, z.insee, ST_DistanceSphere(ST_PointFromText('{longitude},{latitude}', ','), z.geometry) AS distance FROM {temp_table_name} as z ORDER BY distance ASC LIMIT {max_commune_number}\n",
    "     \"\"\")\n",
    "    return nearest_commune_df"
   ],
   "id": "4b22deaca53617f",
   "outputs": [],
   "execution_count": 12
  },
  {
   "metadata": {
    "ExecuteTime": {
     "end_time": "2025-01-09T10:01:46.250478Z",
     "start_time": "2025-01-09T10:01:46.242782Z"
    }
   },
   "cell_type": "code",
   "source": [
    "# the gps coordinates for casd is 48.8190155° N, 2.3081911° E\n",
    "\n",
    "casd_latitude = \"48.8190155\"\n",
    "casd_longitude = \"2.3081911\"\n",
    "\n",
    "casd_geo = f\"POINT({casd_longitude} {casd_latitude})\""
   ],
   "id": "2ace400f406e2ba3",
   "outputs": [],
   "execution_count": 13
  },
  {
   "metadata": {
    "ExecuteTime": {
     "end_time": "2025-01-09T10:01:57.012738Z",
     "start_time": "2025-01-09T10:01:56.732752Z"
    }
   },
   "cell_type": "code",
   "source": "kb_nearest_shape_df = get_nearest_commune(casd_latitude,casd_longitude,36000)",
   "id": "c810a7a4fe420c76",
   "outputs": [],
   "execution_count": 14
  },
  {
   "metadata": {
    "ExecuteTime": {
     "end_time": "2025-01-09T10:02:08.234517Z",
     "start_time": "2025-01-09T10:02:00.958087Z"
    }
   },
   "cell_type": "code",
   "source": [
    "%%time\n",
    "\n",
    "kb_nearest_shape_df.show(50)\n",
    "kb_nearest_shape_df.count()"
   ],
   "id": "b6fcf58326a2ec48",
   "outputs": [
    {
     "name": "stderr",
     "output_type": "stream",
     "text": [
      "                                                                                \r"
     ]
    },
    {
     "name": "stdout",
     "output_type": "stream",
     "text": [
      "+--------------------+-----+------------------+\n",
      "|        commune_name|insee|          distance|\n",
      "+--------------------+-----+------------------+\n",
      "|           montrouge|92049| 782.4225524838963|\n",
      "|            malakoff|92046| 931.0760610707576|\n",
      "|              vanves|92075|1548.4653721969821|\n",
      "|           châtillon|92020|2244.2297097020064|\n",
      "|             bagneux|92007|2306.6895398469915|\n",
      "|             arcueil|94003|2420.7221725908407|\n",
      "|            gentilly|94037| 2712.776684694567|\n",
      "| issy-les-moulineaux|92040|3212.5435965134634|\n",
      "|              cachan|94016| 3506.334512834338|\n",
      "|  fontenay-aux-roses|92032| 3619.863974489254|\n",
      "|  le kremlin-bicêtre|94043| 3670.315588897698|\n",
      "|      bourg-la-reine|92014| 4337.380330327545|\n",
      "|             clamart|92023| 4677.596275760091|\n",
      "|           villejuif|94076| 4806.259641317598|\n",
      "|              sceaux|92071| 4807.635098158753|\n",
      "|               paris|75056| 4891.894805477514|\n",
      "|     l'haÿ-les-roses|94038| 5227.715047978959|\n",
      "|boulogne-billancourt|92012| 5418.541958378669|\n",
      "| le plessis-robinson|92060| 5581.290054832492|\n",
      "|      ivry-sur-seine|94041| 5871.149709177719|\n",
      "|              meudon|92048| 6149.257640298637|\n",
      "|    châtenay-malabry|92019| 6532.351422622813|\n",
      "|      chevilly-larue|94021| 6657.496101518737|\n",
      "|             fresnes|94034| 7007.565402678437|\n",
      "|     vitry-sur-seine|94081| 7197.208211871978|\n",
      "|   charenton-le-pont|94018| 7219.993387528257|\n",
      "|              sèvres|92072|  7245.92604538392|\n",
      "|              antony|92002| 7704.972572367387|\n",
      "|         saint-cloud|92064| 7739.846745558584|\n",
      "|   neuilly-sur-seine|92051|8011.3515227436155|\n",
      "|              rungis|94065| 8366.051061234635|\n",
      "|         saint-mandé|94067| 8457.899857450757|\n",
      "|            suresnes|92073| 8591.904584097121|\n",
      "|            chaville|92022| 8598.002934884047|\n",
      "|              thiais|94073| 8604.401690275678|\n",
      "|    levallois-perret|92044| 8607.065115579935|\n",
      "|verrières-le-buisson|91645|  8660.86099737349|\n",
      "|         alfortville|94002| 8666.833181630607|\n",
      "|             puteaux|92062| 8799.243056670199|\n",
      "| vélizy-villacoublay|78640| 9010.590841215797|\n",
      "|             garches|92033| 9313.711162654077|\n",
      "|       saint-maurice|94069| 9444.266907811516|\n",
      "|   clichy-la-garenne|92024| 9460.404378020841|\n",
      "|      maisons-alfort|94046| 9615.841667988345|\n",
      "|          courbevoie|92026| 9628.883142003584|\n",
      "|       ville-d'avray|92077| 9655.310261099155|\n",
      "|           vincennes|94080|  9996.13551487524|\n",
      "|       choisy-le-roi|94022|10039.719043424133|\n",
      "|             wissous|91689|10054.601299614145|\n",
      "|            bagnolet|93006|10055.532041653958|\n",
      "+--------------------+-----+------------------+\n",
      "only showing top 50 rows\n",
      "\n"
     ]
    },
    {
     "name": "stderr",
     "output_type": "stream",
     "text": [
      "[Stage 7:=============================>                             (2 + 2) / 4]\r"
     ]
    },
    {
     "name": "stdout",
     "output_type": "stream",
     "text": [
      "CPU times: user 11.5 ms, sys: 5.02 ms, total: 16.5 ms\n",
      "Wall time: 7.25 s\n"
     ]
    },
    {
     "name": "stderr",
     "output_type": "stream",
     "text": [
      "                                                                                \r"
     ]
    },
    {
     "data": {
      "text/plain": [
       "34955"
      ]
     },
     "execution_count": 15,
     "metadata": {},
     "output_type": "execute_result"
    }
   ],
   "execution_count": 15
  },
  {
   "metadata": {
    "ExecuteTime": {
     "end_time": "2025-01-09T10:02:33.739083Z",
     "start_time": "2025-01-09T10:02:33.734871Z"
    }
   },
   "cell_type": "code",
   "source": [
    "# the gps coordinates for Paul-Brousse is 48.7951606539 N, 2.3636935981 E\n",
    "pb_latitude = \"48.7951606539\"\n",
    "pb_longitude = \"2.3636935981\"\n",
    "pb_geo = f\"POINT({pb_longitude} {pb_latitude})\""
   ],
   "id": "54e88d0538ee70bd",
   "outputs": [],
   "execution_count": 16
  },
  {
   "metadata": {
    "ExecuteTime": {
     "end_time": "2025-01-09T10:02:34.606429Z",
     "start_time": "2025-01-09T10:02:34.490938Z"
    }
   },
   "cell_type": "code",
   "source": "pb_nearest_shape_df = get_nearest_commune(pb_latitude,pb_longitude,36000)",
   "id": "1fb9f023e9fd6cd3",
   "outputs": [],
   "execution_count": 17
  },
  {
   "metadata": {
    "ExecuteTime": {
     "end_time": "2025-01-09T10:02:39.854366Z",
     "start_time": "2025-01-09T10:02:35.075191Z"
    }
   },
   "cell_type": "code",
   "source": [
    "%%time\n",
    "\n",
    "pb_nearest_shape_df.show(10)\n",
    "pb_nearest_shape_df.count()"
   ],
   "id": "5065a03e903ae495",
   "outputs": [
    {
     "name": "stderr",
     "output_type": "stream",
     "text": [
      "                                                                                \r"
     ]
    },
    {
     "name": "stdout",
     "output_type": "stream",
     "text": [
      "+------------------+-----+------------------+\n",
      "|      commune_name|insee|          distance|\n",
      "+------------------+-----+------------------+\n",
      "|         villejuif|94076|417.13873642972163|\n",
      "|le kremlin-bicêtre|94043|1616.4950323944458|\n",
      "|            cachan|94016|2350.1367372643913|\n",
      "|   vitry-sur-seine|94081|2391.3950596721934|\n",
      "|           arcueil|94003|2455.2075433323284|\n",
      "|          gentilly|94037|2469.3891101286713|\n",
      "|    ivry-sur-seine|94041|2592.6844198231634|\n",
      "|   l'haÿ-les-roses|94038|2842.8348963659664|\n",
      "|    chevilly-larue|94021|3239.0306951319963|\n",
      "|    bourg-la-reine|92014|3788.6932471326836|\n",
      "+------------------+-----+------------------+\n",
      "only showing top 10 rows\n",
      "\n"
     ]
    },
    {
     "name": "stderr",
     "output_type": "stream",
     "text": [
      "[Stage 10:=============================>                            (2 + 2) / 4]\r"
     ]
    },
    {
     "name": "stdout",
     "output_type": "stream",
     "text": [
      "CPU times: user 8.43 ms, sys: 3.91 ms, total: 12.3 ms\n",
      "Wall time: 4.76 s\n"
     ]
    },
    {
     "name": "stderr",
     "output_type": "stream",
     "text": [
      "                                                                                \r"
     ]
    },
    {
     "data": {
      "text/plain": [
       "34955"
      ]
     },
     "execution_count": 18,
     "metadata": {},
     "output_type": "execute_result"
    }
   ],
   "execution_count": 18
  },
  {
   "metadata": {},
   "cell_type": "markdown",
   "source": [
    "## Q2. Get a list of hospitals and doctors(with their geometry location) in Île-de-France\n",
    "\n",
    "To get the list of hospitals and doctors in Île-de-France, we use the (OSM)Open Street Map sample data.\n",
    "\n",
    "The sample data which I will use in this notebook can be downloaded from this page: \n",
    "https://download.geofabrik.de/europe/france.html. I use the `Ile-de-France` map (`ile-de-france-latest.osm.pbf`)"
   ],
   "id": "b298c86cadfbb837"
  },
  {
   "metadata": {
    "ExecuteTime": {
     "end_time": "2025-01-09T10:03:01.764415Z",
     "start_time": "2025-01-09T10:03:01.354458Z"
    }
   },
   "cell_type": "code",
   "source": [
    "ile_france_pbf_path=f\"{data_root_dir}/geo_spatial/ile-de-france-geo-parquet\"\n",
    "osm_ile_france_df = spark.read.parquet(ile_france_pbf_path)"
   ],
   "id": "ad2b99e2b01f61a9",
   "outputs": [],
   "execution_count": 19
  },
  {
   "metadata": {
    "ExecuteTime": {
     "end_time": "2025-01-09T10:03:04.451340Z",
     "start_time": "2025-01-09T10:03:02.760508Z"
    }
   },
   "cell_type": "code",
   "source": "osm_ile_france_df.show(15)",
   "id": "f6b9a2e0e35cf9e0",
   "outputs": [
    {
     "name": "stderr",
     "output_type": "stream",
     "text": [
      "[Stage 13:>                                                         (0 + 1) / 1]\r"
     ]
    },
    {
     "name": "stdout",
     "output_type": "stream",
     "text": [
      "+------+----+------------------+------------------+-----+---------+--------------------+--------------------+\n",
      "|    id|type|          latitude|         longitude|nodes|relations|                tags|                info|\n",
      "+------+----+------------------+------------------+-----+---------+--------------------+--------------------+\n",
      "|122626|   0|49.115966300000004|         2.5549119|   []|       []|                  {}|{3, 2020-05-10 11...|\n",
      "|122627|   0|49.110294100000004|         2.5521725|   []|       []|                  {}|{4, 2009-02-13 19...|\n",
      "|122631|   0|        49.0834393|2.5511375000000003|   []|       []|                  {}|{15, 2021-06-30 1...|\n",
      "|122632|   0|        49.0675225|2.5524679000000003|   []|       []|                  {}|{17, 2019-04-10 1...|\n",
      "|122633|   0|         49.063616|2.5522412000000005|   []|       []|                  {}|{17, 2009-02-13 1...|\n",
      "|122634|   0|        49.0597465|2.5509097000000005|   []|       []|                  {}|{2, 2009-02-13 19...|\n",
      "|122635|   0|        49.0551989|2.5486690000000003|   []|       []|{highway -> emerg...|{20, 2023-03-05 1...|\n",
      "|122637|   0|         49.046553|2.5460228000000003|   []|       []|                  {}|{3, 2012-03-21 19...|\n",
      "|122638|   0|49.042466000000005|2.5435980000000002|   []|       []|                  {}|{24, 2009-02-13 1...|\n",
      "|122639|   0|49.039122400000004|2.5421644000000003|   []|       []|                  {}|{6, 2014-05-31 18...|\n",
      "|122640|   0|49.033757900000005|2.5402285000000004|   []|       []|                  {}|{4, 2019-04-10 11...|\n",
      "|122642|   0|49.006576100000004|2.5269186000000006|   []|       []|                  {}|{8, 2012-09-01 00...|\n",
      "|122922|   0|48.875346400000005|2.4402228000000004|   []|       []|                  {}|{3, 2014-05-07 10...|\n",
      "|122923|   0| 48.87823900000001|2.4462307000000005|   []|       []|                  {}|{3, 2010-10-18 22...|\n",
      "|122924|   0| 48.88325530000001|2.4577488000000005|   []|       []|{source -> data.g...|{4, 2020-06-08 13...|\n",
      "+------+----+------------------+------------------+-----+---------+--------------------+--------------------+\n",
      "only showing top 15 rows\n",
      "\n"
     ]
    },
    {
     "name": "stderr",
     "output_type": "stream",
     "text": [
      "                                                                                \r"
     ]
    }
   ],
   "execution_count": 20
  },
  {
   "metadata": {
    "ExecuteTime": {
     "end_time": "2025-01-09T10:03:04.565173Z",
     "start_time": "2025-01-09T10:03:04.553309Z"
    }
   },
   "cell_type": "code",
   "source": "osm_ile_france_df.printSchema()",
   "id": "5923e8289570dee5",
   "outputs": [
    {
     "name": "stdout",
     "output_type": "stream",
     "text": [
      "root\n",
      " |-- id: long (nullable = true)\n",
      " |-- type: byte (nullable = true)\n",
      " |-- latitude: double (nullable = true)\n",
      " |-- longitude: double (nullable = true)\n",
      " |-- nodes: array (nullable = true)\n",
      " |    |-- element: long (containsNull = true)\n",
      " |-- relations: array (nullable = true)\n",
      " |    |-- element: struct (containsNull = true)\n",
      " |    |    |-- id: long (nullable = true)\n",
      " |    |    |-- relationType: byte (nullable = true)\n",
      " |    |    |-- role: string (nullable = true)\n",
      " |-- tags: map (nullable = true)\n",
      " |    |-- key: string\n",
      " |    |-- value: string (valueContainsNull = true)\n",
      " |-- info: struct (nullable = true)\n",
      " |    |-- version: integer (nullable = true)\n",
      " |    |-- timestamp: timestamp (nullable = true)\n",
      " |    |-- changeset: long (nullable = true)\n",
      " |    |-- userId: integer (nullable = true)\n",
      " |    |-- userName: string (nullable = true)\n",
      " |    |-- visible: boolean (nullable = true)\n",
      "\n"
     ]
    }
   ],
   "execution_count": 21
  },
  {
   "metadata": {
    "ExecuteTime": {
     "end_time": "2025-01-09T10:03:06.837665Z",
     "start_time": "2025-01-09T10:03:06.821047Z"
    }
   },
   "cell_type": "code",
   "source": [
    "def show_row_details(entity_id:int):\n",
    "    sample_row = osm_ile_france_df.filter(osm_ile_france_df.id == entity_id )\n",
    "    sample_row.show(truncate=False, vertical=True)"
   ],
   "id": "b3d00e0540aeb26c",
   "outputs": [],
   "execution_count": 22
  },
  {
   "metadata": {
    "ExecuteTime": {
     "end_time": "2025-01-09T10:03:07.721716Z",
     "start_time": "2025-01-09T10:03:07.635229Z"
    }
   },
   "cell_type": "code",
   "source": "hospital_df = osm_ile_france_df.select(\"id\", \"latitude\", \"longitude\", \"tags\").where(\"element_at(tags, 'amenity') in ('hospital', 'clinic')\")",
   "id": "861cf0fb87f959f4",
   "outputs": [],
   "execution_count": 23
  },
  {
   "metadata": {
    "ExecuteTime": {
     "end_time": "2025-01-09T10:03:10.674704Z",
     "start_time": "2025-01-09T10:03:10.592400Z"
    }
   },
   "cell_type": "code",
   "source": "doctor_df = osm_ile_france_df.select(\"id\", \"latitude\", \"longitude\", \"tags\").where(\"element_at(tags, 'amenity') == 'doctors'\")",
   "id": "830345a14ae106cd",
   "outputs": [],
   "execution_count": 24
  },
  {
   "metadata": {
    "ExecuteTime": {
     "end_time": "2025-01-09T10:03:15.273839Z",
     "start_time": "2025-01-09T10:03:11.429511Z"
    }
   },
   "cell_type": "code",
   "source": "print(f\"total hosptitals number in ile-de-france: {hospital_df.count()}\")",
   "id": "28806a02f498e28c",
   "outputs": [
    {
     "name": "stderr",
     "output_type": "stream",
     "text": [
      "[Stage 14:=================================================>        (6 + 1) / 7]\r"
     ]
    },
    {
     "name": "stdout",
     "output_type": "stream",
     "text": [
      "total hosptitals number in ile-de-france: 564\n"
     ]
    },
    {
     "name": "stderr",
     "output_type": "stream",
     "text": [
      "                                                                                \r"
     ]
    }
   ],
   "execution_count": 25
  },
  {
   "metadata": {
    "ExecuteTime": {
     "end_time": "2025-01-09T10:03:19.723907Z",
     "start_time": "2025-01-09T10:03:16.662269Z"
    }
   },
   "cell_type": "code",
   "source": "hospital_df.show(5)",
   "id": "67e81b32104077a",
   "outputs": [
    {
     "name": "stderr",
     "output_type": "stream",
     "text": [
      "[Stage 18:>                                                         (0 + 1) / 1]\r"
     ]
    },
    {
     "name": "stdout",
     "output_type": "stream",
     "text": [
      "+---------+------------------+------------------+--------------------+\n",
      "|       id|          latitude|         longitude|                tags|\n",
      "+---------+------------------+------------------+--------------------+\n",
      "|452401907| 48.78635369999983| 2.291711499999987|{amenity -> hospi...|\n",
      "|476313165|48.878517699999826| 2.414601899999999|{name -> Maternit...|\n",
      "|483569726| 48.82353579999984|2.2768316999999985|{website -> https...|\n",
      "|670633220|48.722277100000056|2.4525995000000083|{name -> Centre H...|\n",
      "|783760856| 48.83526160000006|         2.2442898|{name -> Centre d...|\n",
      "+---------+------------------+------------------+--------------------+\n",
      "only showing top 5 rows\n",
      "\n"
     ]
    },
    {
     "name": "stderr",
     "output_type": "stream",
     "text": [
      "                                                                                \r"
     ]
    }
   ],
   "execution_count": 26
  },
  {
   "metadata": {
    "ExecuteTime": {
     "end_time": "2025-01-07T13:50:32.646155Z",
     "start_time": "2025-01-07T13:50:31.476411Z"
    }
   },
   "cell_type": "code",
   "source": "show_row_details(670633220)",
   "id": "818e8ddc649380d8",
   "outputs": [
    {
     "name": "stdout",
     "output_type": "stream",
     "text": [
      "-RECORD 0--------------------------------------------------------------------------------------------------------------------------------------------------------------------------------------------------------------------------------------------------------------------------------------------------------------------------------------------------------------------------------------------------------------------------------------------------------------------------------------------------------------------------------------------------------------------------------------------------------------------------------------------------------------------------------------------------------------\n",
      " id        | 670633220                                                                                                                                                                                                                                                                                                                                                                                                                                                                                                                                                                                                                                                                                                 \n",
      " type      | 0                                                                                                                                                                                                                                                                                                                                                                                                                                                                                                                                                                                                                                                                                                         \n",
      " latitude  | 48.722277100000056                                                                                                                                                                                                                                                                                                                                                                                                                                                                                                                                                                                                                                                                                        \n",
      " longitude | 2.4525995000000083                                                                                                                                                                                                                                                                                                                                                                                                                                                                                                                                                                                                                                                                                        \n",
      " nodes     | []                                                                                                                                                                                                                                                                                                                                                                                                                                                                                                                                                                                                                                                                                                        \n",
      " relations | []                                                                                                                                                                                                                                                                                                                                                                                                                                                                                                                                                                                                                                                                                                        \n",
      " tags      | {name -> Centre Hospitalier Intercommunal Lucie et Raymond Aubrac, source -> ©IGN 2010 dans le cadre de la cartographie réglementaire, addr:street -> Allée de la Source, addr:postcode -> 94190, url -> http://geodesie.ign.fr/fiches/index.php?module=e&action=fichepdf&source=carte&sit_no=94078A, description -> Hôpital : Paratonnerre : Base - Point vu en place en 2006, amenity -> hospital, ref -> 94078A - 1, addr:housenumber -> 40, ele -> 107.43, addr:city -> Villeneuve-Saint-Georges, note -> Ne pas déplacer ce point, cf. - Do not move this node, see - http://wiki.openstreetmap.org/wiki/WikiProject_France/Repères_Géodésiques#Permanence_des_rep.C3.A8res, healthcare -> hospital} \n",
      " info      | {3, 2023-02-16 17:56:32, 0, 0, , NULL}                                                                                                                                                                                                                                                                                                                                                                                                                                                                                                                                                                                                                                                                    \n",
      "\n"
     ]
    }
   ],
   "execution_count": 27
  },
  {
   "metadata": {
    "ExecuteTime": {
     "end_time": "2025-01-09T10:04:21.145009Z",
     "start_time": "2025-01-09T10:04:17.990299Z"
    }
   },
   "cell_type": "code",
   "source": "print(f\"total doctors number in ile-de-france: {doctor_df.count()} \")",
   "id": "e47204ce353e313f",
   "outputs": [
    {
     "name": "stderr",
     "output_type": "stream",
     "text": [
      "[Stage 19:=================================================>        (6 + 1) / 7]\r"
     ]
    },
    {
     "name": "stdout",
     "output_type": "stream",
     "text": [
      "total doctors number in ile-de-france: 1298 \n"
     ]
    },
    {
     "name": "stderr",
     "output_type": "stream",
     "text": [
      "                                                                                \r"
     ]
    }
   ],
   "execution_count": 27
  },
  {
   "metadata": {
    "ExecuteTime": {
     "end_time": "2025-01-09T10:04:22.233673Z",
     "start_time": "2025-01-09T10:04:21.284892Z"
    }
   },
   "cell_type": "code",
   "source": "doctor_df.show(5)",
   "id": "690f45749cf3b775",
   "outputs": [
    {
     "name": "stderr",
     "output_type": "stream",
     "text": [
      "[Stage 22:>                                                         (0 + 1) / 1]\r"
     ]
    },
    {
     "name": "stdout",
     "output_type": "stream",
     "text": [
      "+---------+------------------+------------------+--------------------+\n",
      "|       id|          latitude|         longitude|                tags|\n",
      "+---------+------------------+------------------+--------------------+\n",
      "|293986528| 48.86378410000007|2.3814177000000036|{amenity -> docto...|\n",
      "|302305751|        48.5833366|2.2414200000000104|{amenity -> docto...|\n",
      "|416708946|48.872033599999774|2.3765707000000202|{website -> https...|\n",
      "|456140610| 48.75835359999986| 3.048538999999998|{amenity -> docto...|\n",
      "|477197148|49.010437500000016|2.0296950999999948|{amenity -> doctors}|\n",
      "+---------+------------------+------------------+--------------------+\n",
      "only showing top 5 rows\n",
      "\n"
     ]
    },
    {
     "name": "stderr",
     "output_type": "stream",
     "text": [
      "                                                                                \r"
     ]
    }
   ],
   "execution_count": 28
  },
  {
   "metadata": {
    "ExecuteTime": {
     "end_time": "2025-01-09T10:04:23.972349Z",
     "start_time": "2025-01-09T10:04:22.483987Z"
    }
   },
   "cell_type": "code",
   "source": "show_row_details(416708946)",
   "id": "69021d65b221aca4",
   "outputs": [
    {
     "name": "stdout",
     "output_type": "stream",
     "text": [
      "-RECORD 0-------------------------------------------------------------------------------------------------------------------------------------------------------------------------------------------------------------------------------------------------------------\n",
      " id        | 416708946                                                                                                                                                                                                                                                \n",
      " type      | 0                                                                                                                                                                                                                                                        \n",
      " latitude  | 48.872033599999774                                                                                                                                                                                                                                       \n",
      " longitude | 2.3765707000000202                                                                                                                                                                                                                                       \n",
      " nodes     | []                                                                                                                                                                                                                                                       \n",
      " relations | []                                                                                                                                                                                                                                                       \n",
      " tags      | {website -> https://dentylis.fr/dentistes-paris-10-belleville/, name -> Centre dentaire et ophtalmologie Paris 10 - Belleville, amenity -> doctors, opening_hours -> Mo-Fr 09:00-19:00, Sa 09:00-18:00, healthcare -> doctor;dentist, wheelchair -> yes} \n",
      " info      | {13, 2023-11-10 21:41:55, 0, 0, , NULL}                                                                                                                                                                                                                  \n",
      "\n"
     ]
    },
    {
     "name": "stderr",
     "output_type": "stream",
     "text": [
      "                                                                                \r"
     ]
    }
   ],
   "execution_count": 29
  },
  {
   "metadata": {
    "ExecuteTime": {
     "end_time": "2025-01-09T10:04:39.429986Z",
     "start_time": "2025-01-09T10:04:39.415468Z"
    }
   },
   "cell_type": "code",
   "source": [
    "from pyspark.sql import DataFrame\n",
    "\n",
    "\n",
    "def geo_df_convertor(source_df: DataFrame, lat_col_name: str, long_col_name: str, source_epsg_code: str,\n",
    "                     target_epsg_code: str, target_geo_col_name: str = \"location\"):\n",
    "    \"\"\"\n",
    "    This function takes a dataframe with gps coordinate column(string type), convert the string column to a geometry column. The returned dataframe can be stored as geoparquet.\n",
    "    :param source_df: \n",
    "    :type source_df: \n",
    "    :param long_col_name: longitude column name\n",
    "    :type long_col_name: str\n",
    "    :param lat_col_name: latitude column name\n",
    "    :type lat_col_name: str\n",
    "    :param source_epsg_code: the csr code of the input gps coordinates\n",
    "    :type source_epsg_code: str\n",
    "    :param target_epsg_code: the csr code of the output gps coordinates\n",
    "    :type target_epsg_code: str\n",
    "    :param target_geo_col_name: \n",
    "    :type target_geo_col_name: \n",
    "    :return: \n",
    "    :rtype: \n",
    "    \"\"\"\n",
    "    # create a temp view of the source df, the table name is the name of the data frame\n",
    "    temp_table_name = \"raw_source_df\"\n",
    "    source_df.createOrReplaceTempView(f\"{temp_table_name}\")\n",
    "    target_df = sedona.sql(f\"\"\"\n",
    "    SELECT id, tags,\n",
    "    ST_Transform(ST_Point(CAST({long_col_name} AS Decimal(24,20)), CAST({lat_col_name} AS Decimal(24,20))), '{source_epsg_code}', '{target_epsg_code}') AS {target_geo_col_name} from {temp_table_name}\"\"\")\n",
    "    return target_df\n",
    "\n",
    "\n",
    "def geo_table_convertor(source_table_name: str, lat_col_name: str, long_col_name: str, source_epsg_code: str,\n",
    "                        target_epsg_code: str, target_geo_col_name: str = \"location\"):\n",
    "    \"\"\"\n",
    "    This function takes a spark temp view with gps coordinate column(string type), convert the string column to a geometry column. The returned dataframe can be stored as geoparquet.\n",
    "    :param source_table_name: \n",
    "    :type source_table_name: \n",
    "    :param target_geo_col_name: \n",
    "    :type target_geo_col_name: \n",
    "    :param long_col_name: \n",
    "    :type long_col_name: \n",
    "    :param lat_col_name: \n",
    "    :type lat_col_name: \n",
    "    :param source_epsg_code: \n",
    "    :type source_epsg_code: \n",
    "    :param target_epsg_code: \n",
    "    :type target_epsg_code: \n",
    "    :return: \n",
    "    :rtype: \n",
    "    \"\"\"\n",
    "    # create a temp view of the source df, the table name is the name of the data frame\n",
    "    target_df = sedona.sql(f\"\"\"\n",
    "    SELECT \n",
    "    ST_Transform(ST_Point(CAST({long_col_name} AS Decimal(24,20)), CAST({lat_col_name} AS Decimal(24,20))), '{source_epsg_code}', '{target_epsg_code}') AS {target_geo_col_name} from {source_table_name}\"\"\")\n",
    "    return target_df\n"
   ],
   "id": "3b1f05f53fa9222d",
   "outputs": [],
   "execution_count": 30
  },
  {
   "metadata": {},
   "cell_type": "markdown",
   "source": [
    "## Q3. Get nearest hospitals of a giving point.\n",
    "\n",
    "The osm sample data does not provide geometry column directly, so the first step is to build a geometry column with the giving gps coordinates. "
   ],
   "id": "4c5cc4de8d83ab37"
  },
  {
   "metadata": {
    "ExecuteTime": {
     "end_time": "2025-01-09T10:06:55.703415Z",
     "start_time": "2025-01-09T10:06:55.357249Z"
    }
   },
   "cell_type": "code",
   "source": [
    "# Set up the epsg code value, osm uses epsg:25832\n",
    "source_epsg_code = \"epsg:4326\"\n",
    "# eu centered epsg code, more information can be found https://epsg.io/25832\n",
    "target_epsg_code = \"epsg:4326\"\n",
    "\n",
    "hospital_geo_table_name = \"hospital_geo\"\n",
    "hospital_geo_df = geo_df_convertor(hospital_df,\"latitude\",\"longitude\",source_epsg_code,target_epsg_code)\n",
    "hospital_geo_df.cache()\n",
    "hospital_geo_df.createOrReplaceTempView(hospital_geo_table_name)"
   ],
   "id": "cd80b279648f6cd1",
   "outputs": [],
   "execution_count": 31
  },
  {
   "metadata": {
    "ExecuteTime": {
     "end_time": "2025-01-09T10:07:13.807114Z",
     "start_time": "2025-01-09T10:07:05.574471Z"
    }
   },
   "cell_type": "code",
   "source": "hospital_geo_df.show(5)",
   "id": "e381d03c238a9ced",
   "outputs": [
    {
     "name": "stderr",
     "output_type": "stream",
     "text": [
      "[Stage 26:=================================================>        (6 + 1) / 7]\r"
     ]
    },
    {
     "name": "stdout",
     "output_type": "stream",
     "text": [
      "+---------+--------------------+--------------------+\n",
      "|       id|                tags|            location|\n",
      "+---------+--------------------+--------------------+\n",
      "|452401907|{amenity -> hospi...|POINT (2.29171149...|\n",
      "|476313165|{name -> Maternit...|POINT (2.41460189...|\n",
      "|483569726|{website -> https...|POINT (2.27683169...|\n",
      "|670633220|{name -> Centre H...|POINT (2.45259950...|\n",
      "|783760856|{name -> Centre d...|POINT (2.2442898 ...|\n",
      "+---------+--------------------+--------------------+\n",
      "only showing top 5 rows\n",
      "\n"
     ]
    },
    {
     "name": "stderr",
     "output_type": "stream",
     "text": [
      "                                                                                \r"
     ]
    }
   ],
   "execution_count": 32
  },
  {
   "metadata": {
    "ExecuteTime": {
     "end_time": "2025-01-07T13:50:44.060850Z",
     "start_time": "2025-01-07T13:50:44.056589Z"
    }
   },
   "cell_type": "code",
   "source": "hospital_geo_df.printSchema()",
   "id": "b1bcfd5c808ebc4",
   "outputs": [
    {
     "name": "stdout",
     "output_type": "stream",
     "text": [
      "root\n",
      " |-- id: long (nullable = true)\n",
      " |-- tags: map (nullable = true)\n",
      " |    |-- key: string\n",
      " |    |-- value: string (valueContainsNull = true)\n",
      " |-- location: geometry (nullable = true)\n",
      "\n"
     ]
    }
   ],
   "execution_count": 34
  },
  {
   "metadata": {
    "ExecuteTime": {
     "end_time": "2025-01-09T10:20:49.007495Z",
     "start_time": "2025-01-09T10:20:48.998643Z"
    }
   },
   "cell_type": "code",
   "source": [
    "def get_near_hospital(patient_loc:str, distance:float):\n",
    "    \"\"\"\n",
    "    This function get the nearest hospital based on distance with a given patient location\n",
    "    :param patient_loc: gps coordinates in format \"POINT(longitude, latitude)\"\n",
    "    :param distance: the max distance between hospital and patient\n",
    "    :return: \n",
    "    \"\"\"\n",
    "    tmp_df = sedona.sql(f\"\"\"\n",
    "                         SELECT \n",
    "                         hospital_geo.id, \n",
    "                         hospital_geo.tags,\n",
    "                         ST_AsGeoJSON(ST_Transform(hospital_geo.location, '{target_epsg_code}', 'epsg:4326')) hospital_point, \n",
    "                         ST_DistanceSphere(ST_GeomFromWKT('{patient_loc}'), hospital_geo.location) distance_meter\n",
    "                         FROM hospital_geo\n",
    "                         order by distance_meter asc;\n",
    "\"\"\")\n",
    "    near_hospital_df= tmp_df.filter(tmp_df.distance_meter<=distance)\n",
    "    return near_hospital_df"
   ],
   "id": "ca31d1c4b91ca56b",
   "outputs": [],
   "execution_count": 34
  },
  {
   "metadata": {
    "ExecuteTime": {
     "end_time": "2025-01-07T13:50:44.563512Z",
     "start_time": "2025-01-07T13:50:44.560466Z"
    }
   },
   "cell_type": "code",
   "source": "",
   "id": "3e582d035bab1117",
   "outputs": [],
   "execution_count": null
  },
  {
   "metadata": {},
   "cell_type": "markdown",
   "source": [
    "To better understand the query, we use this [website](https://www.keene.edu/campus/maps/tool/) \n",
    "to show gps coordinates on a map.\n",
    "\n",
    "CASD coordinates:\n",
    "```text\n",
    "2.3081911,48.8190155\n",
    "```\n",
    "\n",
    "Paul-Brousse coordinates:\n",
    "```text\n",
    "2.3636935981,48.7951606539\n",
    "```\n",
    "\n"
   ],
   "id": "a2c4d38d69823240"
  },
  {
   "metadata": {
    "ExecuteTime": {
     "end_time": "2025-01-09T10:20:52.988117Z",
     "start_time": "2025-01-09T10:20:52.983187Z"
    }
   },
   "cell_type": "code",
   "source": [
    "print(f\"CASD coordinates: {casd_geo}\")\n",
    "print(f\"Paul-Brousse coordinates: {pb_geo}\")"
   ],
   "id": "88f5527f3ee0f98b",
   "outputs": [
    {
     "name": "stdout",
     "output_type": "stream",
     "text": [
      "CASD coordinates: POINT(2.3081911 48.8190155)\n",
      "Paul-Brousse coordinates: POINT(2.3636935981 48.7951606539)\n"
     ]
    }
   ],
   "execution_count": 35
  },
  {
   "metadata": {},
   "cell_type": "markdown",
   "source": "### Below codes returns the nearest hospital of CASD",
   "id": "18d0f5d36a7efbfc"
  },
  {
   "metadata": {
    "ExecuteTime": {
     "end_time": "2025-01-09T10:21:32.019047Z",
     "start_time": "2025-01-09T10:21:31.725693Z"
    }
   },
   "cell_type": "code",
   "source": [
    "# get all hospital within 5000 meter of CASD\n",
    "casd_near_hos_df= get_near_hospital(casd_geo, 15000)\n",
    "casd_near_hos_df.show(5)"
   ],
   "id": "350ac3f7b65b3b42",
   "outputs": [
    {
     "name": "stdout",
     "output_type": "stream",
     "text": [
      "+-----------+--------------------+--------------------+------------------+\n",
      "|         id|                tags|      hospital_point|    distance_meter|\n",
      "+-----------+--------------------+--------------------+------------------+\n",
      "| 2506232459|{website -> http:...|{\"type\":\"Point\",\"...| 999.4514393892221|\n",
      "| 4936398378|{amenity -> clini...|{\"type\":\"Point\",\"...|1043.5714649372987|\n",
      "| 9073838043|{healthcare:speci...|{\"type\":\"Point\",\"...|1365.4667383528551|\n",
      "|10883369653|{name -> Clinique...|{\"type\":\"Point\",\"...|1746.0477473786032|\n",
      "|  483569726|{website -> https...|{\"type\":\"Point\",\"...|2350.2594029700895|\n",
      "+-----------+--------------------+--------------------+------------------+\n",
      "only showing top 5 rows\n",
      "\n"
     ]
    }
   ],
   "execution_count": 38
  },
  {
   "metadata": {
    "ExecuteTime": {
     "end_time": "2025-01-09T10:21:33.413233Z",
     "start_time": "2025-01-09T10:21:33.073256Z"
    }
   },
   "cell_type": "code",
   "source": "casd_near_hos_df.count()",
   "id": "8b0b08aa41f17892",
   "outputs": [
    {
     "data": {
      "text/plain": [
       "154"
      ]
     },
     "execution_count": 39,
     "metadata": {},
     "output_type": "execute_result"
    }
   ],
   "execution_count": 39
  },
  {
   "metadata": {
    "ExecuteTime": {
     "end_time": "2025-01-07T13:50:45.948666Z",
     "start_time": "2025-01-07T13:50:45.535179Z"
    }
   },
   "cell_type": "code",
   "source": "print(f\"Hospital count within 5km radius of CASD: {casd_near_hos_df.count()} \")",
   "id": "8a3d2bfa2fd9c3b5",
   "outputs": [
    {
     "name": "stdout",
     "output_type": "stream",
     "text": [
      "Hospital count within 5km radius of CASD: 38 \n"
     ]
    }
   ],
   "execution_count": 38
  },
  {
   "metadata": {
    "ExecuteTime": {
     "end_time": "2025-01-07T13:50:46.783652Z",
     "start_time": "2025-01-07T13:50:46.210092Z"
    }
   },
   "cell_type": "code",
   "source": "show_row_details(136)",
   "id": "e028316f6608d4d2",
   "outputs": [
    {
     "name": "stdout",
     "output_type": "stream",
     "text": [
      "(0 rows)\n",
      "\n"
     ]
    }
   ],
   "execution_count": 39
  },
  {
   "metadata": {
    "ExecuteTime": {
     "end_time": "2025-01-07T13:50:46.904529Z",
     "start_time": "2025-01-07T13:50:46.894759Z"
    }
   },
   "cell_type": "code",
   "source": "casd_near_hos_df.printSchema()",
   "id": "b2c211a51cb34b5",
   "outputs": [
    {
     "name": "stdout",
     "output_type": "stream",
     "text": [
      "root\n",
      " |-- id: long (nullable = true)\n",
      " |-- tags: map (nullable = true)\n",
      " |    |-- key: string\n",
      " |    |-- value: string (valueContainsNull = true)\n",
      " |-- hospital_point: string (nullable = true)\n",
      " |-- distance_meter: double (nullable = true)\n",
      "\n"
     ]
    }
   ],
   "execution_count": 40
  },
  {
   "metadata": {
    "ExecuteTime": {
     "end_time": "2025-01-07T13:50:48.050172Z",
     "start_time": "2025-01-07T13:50:46.973091Z"
    }
   },
   "cell_type": "code",
   "source": [
    "kepler_map_path = f\"{data_dir}/tmp/casd_near_hospital_map.html\"\n",
    "\n",
    "sedona_kepler_map = SedonaKepler.create_map(df=casd_near_hos_df,name=\"casd_near_hospital\")\n",
    "\n",
    "sedona_kepler_map.save_to_html(file_name=kepler_map_path)"
   ],
   "id": "b2e926d3e07626ec",
   "outputs": [
    {
     "name": "stdout",
     "output_type": "stream",
     "text": [
      "User Guide: https://docs.kepler.gl/docs/keplergl-jupyter\n",
      "Map saved to /home/pliu/git/ConstanceDataPlatform/data/tmp/casd_near_hospital_map.html!\n"
     ]
    }
   ],
   "execution_count": 41
  },
  {
   "metadata": {
    "ExecuteTime": {
     "end_time": "2025-01-07T13:50:48.355070Z",
     "start_time": "2025-01-07T13:50:48.089246Z"
    }
   },
   "cell_type": "code",
   "source": [
    "# get all hospital within 5000 meter of Paul-Brousse\n",
    "pb_near_hos_df= get_near_hospital(pb_geo, 5000)\n",
    "pb_near_hos_df.show(5)"
   ],
   "id": "d377252e2c6263c8",
   "outputs": [
    {
     "name": "stdout",
     "output_type": "stream",
     "text": [
      "+-----------+--------------------+--------------------+------------------+\n",
      "|         id|                tags|      hospital_point|    distance_meter|\n",
      "+-----------+--------------------+--------------------+------------------+\n",
      "|10926295628|{amenity -> clini...|{\"type\":\"Point\",\"...|1054.1612866076684|\n",
      "| 8860878651|{amenity -> hospi...|{\"type\":\"Point\",\"...| 1493.186653292936|\n",
      "| 9247842729|{amenity -> clini...|{\"type\":\"Point\",\"...|2409.7512937880547|\n",
      "| 9371510917|{website -> https...|{\"type\":\"Point\",\"...|2503.1995985912217|\n",
      "| 9371501687|{name -> Service ...|{\"type\":\"Point\",\"...| 2885.792668156662|\n",
      "+-----------+--------------------+--------------------+------------------+\n",
      "only showing top 5 rows\n",
      "\n"
     ]
    }
   ],
   "execution_count": 42
  },
  {
   "metadata": {
    "ExecuteTime": {
     "end_time": "2025-01-07T13:50:48.676761Z",
     "start_time": "2025-01-07T13:50:48.499649Z"
    }
   },
   "cell_type": "code",
   "source": "print(f\"Hospital count within 5km radius of Paul-Brousse: {pb_near_hos_df.count()} \")",
   "id": "f3d3caf08529434c",
   "outputs": [
    {
     "name": "stdout",
     "output_type": "stream",
     "text": [
      "Hospital count within 5km radius of Paul-Brousse: 24 \n"
     ]
    }
   ],
   "execution_count": 43
  },
  {
   "metadata": {
    "ExecuteTime": {
     "end_time": "2025-01-07T13:50:49.531480Z",
     "start_time": "2025-01-07T13:50:48.843322Z"
    }
   },
   "cell_type": "code",
   "source": "show_row_details(10926295628)",
   "id": "9652488fe56866a1",
   "outputs": [
    {
     "name": "stdout",
     "output_type": "stream",
     "text": [
      "-RECORD 0-----------------------------------------------------------------------------\n",
      " id        | 10926295628                                                              \n",
      " type      | 0                                                                        \n",
      " latitude  | 48.78587790000029                                                        \n",
      " longitude | 2.366615800000005                                                        \n",
      " nodes     | []                                                                       \n",
      " relations | []                                                                       \n",
      " tags      | {amenity -> clinic, healthcare -> clinic, name -> Centre médical Aragon} \n",
      " info      | {1, 2023-05-25 15:06:07, 0, 0, , NULL}                                   \n",
      "\n"
     ]
    }
   ],
   "execution_count": 44
  },
  {
   "metadata": {
    "ExecuteTime": {
     "end_time": "2025-01-07T13:50:49.736863Z",
     "start_time": "2025-01-07T13:50:49.612246Z"
    }
   },
   "cell_type": "code",
   "source": [
    "kepler_map_path = f\"{data_dir}/tmp/pb_near_hospital_map.html\"\n",
    "\n",
    "sedona_kepler_map = SedonaKepler.create_map(df=casd_near_hos_df,name=\"pb_near_hospital\")\n",
    "\n",
    "sedona_kepler_map.save_to_html(file_name=kepler_map_path)"
   ],
   "id": "1a133da48b3e6dd9",
   "outputs": [
    {
     "name": "stdout",
     "output_type": "stream",
     "text": [
      "User Guide: https://docs.kepler.gl/docs/keplergl-jupyter\n",
      "Map saved to /home/pliu/git/ConstanceDataPlatform/data/tmp/pb_near_hospital_map.html!\n"
     ]
    }
   ],
   "execution_count": 45
  },
  {
   "metadata": {},
   "cell_type": "markdown",
   "source": [
    "## Q4. Count hospitals in each commune in Île-de-France\n",
    "\n",
    "For the sake of simplicity, here we only choose the districts(communes) in a radius of 8000 meters of the paris center.\n",
    "\n",
    "1. Get the centroid of Paris\n",
    "2. Get all commune in a Radius of 8000 meters from the centroid of Paris\n",
    "3. Spatial Join(ST_Contains) the hospital data frame with the commune data frame\n",
    "4. Group by the commune and count the hospital numbers\n",
    "5. Generate a map to visualize the results"
   ],
   "id": "83c905200168f214"
  },
  {
   "metadata": {
    "ExecuteTime": {
     "end_time": "2025-01-07T13:50:52.225605Z",
     "start_time": "2025-01-07T13:50:49.805955Z"
    }
   },
   "cell_type": "code",
   "source": [
    "from sedona.spark import *\n",
    "paris_polygon_df= fr_commune_df.filter(col(\"name\")==\"paris\").withColumn(\"centroid\",ST_Centroid(col(\"geometry\")))\n",
    "paris_polygon_df.show()\n",
    "paris_polygon_df.createOrReplaceTempView(\"paris_polygon\")\n"
   ],
   "id": "615d805a59970494",
   "outputs": [
    {
     "name": "stderr",
     "output_type": "stream",
     "text": [
      "[Stage 53:======================================>                   (2 + 1) / 3]\r"
     ]
    },
    {
     "name": "stdout",
     "output_type": "stream",
     "text": [
      "+--------------------+-----+-----+--------------------+\n",
      "|            geometry|insee| name|            centroid|\n",
      "+--------------------+-----+-----+--------------------+\n",
      "|POLYGON ((2.22412...|75056|paris|POINT (2.34287643...|\n",
      "+--------------------+-----+-----+--------------------+\n",
      "\n"
     ]
    },
    {
     "name": "stderr",
     "output_type": "stream",
     "text": [
      "                                                                                \r"
     ]
    }
   ],
   "execution_count": 46
  },
  {
   "metadata": {
    "ExecuteTime": {
     "end_time": "2025-01-07T13:50:54.347946Z",
     "start_time": "2025-01-07T13:50:52.257998Z"
    }
   },
   "cell_type": "code",
   "source": [
    "# 2.3428764301940275,48.85662219553845\n",
    "paris_polygon_df.select(\"centroid\").show(truncate=False)"
   ],
   "id": "6bb30cd4813512ed",
   "outputs": [
    {
     "name": "stderr",
     "output_type": "stream",
     "text": [
      "[Stage 55:======================================>                   (2 + 1) / 3]\r"
     ]
    },
    {
     "name": "stdout",
     "output_type": "stream",
     "text": [
      "+--------------------------------------------+\n",
      "|centroid                                    |\n",
      "+--------------------------------------------+\n",
      "|POINT (2.3428764301940275 48.85662219553845)|\n",
      "+--------------------------------------------+\n",
      "\n"
     ]
    },
    {
     "name": "stderr",
     "output_type": "stream",
     "text": [
      "                                                                                \r"
     ]
    }
   ],
   "execution_count": 47
  },
  {
   "metadata": {
    "ExecuteTime": {
     "end_time": "2025-01-07T13:50:54.488957Z",
     "start_time": "2025-01-07T13:50:54.388035Z"
    }
   },
   "cell_type": "code",
   "source": [
    "distance = 8000\n",
    "query = f\"SELECT fr.name FROM paris_polygon p, fr_commune fr WHERE ST_DWithin(p.centroid, fr.geometry,{distance},true)\"\n",
    "filtered_commune_df = sedona.sql(query)"
   ],
   "id": "d004776f3c76b3f4",
   "outputs": [],
   "execution_count": 48
  },
  {
   "metadata": {
    "ExecuteTime": {
     "end_time": "2025-01-07T13:51:06.251512Z",
     "start_time": "2025-01-07T13:50:54.706456Z"
    }
   },
   "cell_type": "code",
   "source": [
    "# We get 30 communes in the raius of 8000 meters\n",
    "print(f\"total commune count: {filtered_commune_df.count()}\")\n",
    "filtered_commune_df.show()"
   ],
   "id": "91f25752bc98619",
   "outputs": [
    {
     "name": "stderr",
     "output_type": "stream",
     "text": [
      "25/01/07 14:50:56 WARN DistanceJoinExec: [SedonaSQL] Join dominant side partition number 4 is larger than 1/2 of the dominant side count 1\n",
      "25/01/07 14:50:56 WARN DistanceJoinExec: [SedonaSQL] Try to use follower side partition number 4\n",
      "25/01/07 14:50:56 WARN DistanceJoinExec: [SedonaSQL] Join follower side partition number is also larger than 1/2 of the dominant side count 1\n",
      "25/01/07 14:50:56 WARN DistanceJoinExec: [SedonaSQL] Try to use 1/2 of the dominant side count 0 as the partition number of both sides\n",
      "25/01/07 14:50:56 WARN DistanceJoinExec: [SedonaSQL] 1/2 of 0 is equal to 0. Use 1 as the partition number of both sides instead.\n",
      "25/01/07 14:50:57 WARN JoinQuery: UseIndex is true, but no index exists. Will build index on the fly.\n",
      "                                                                                \r"
     ]
    },
    {
     "name": "stdout",
     "output_type": "stream",
     "text": [
      "total commune count: 30\n"
     ]
    },
    {
     "name": "stderr",
     "output_type": "stream",
     "text": [
      "25/01/07 14:51:02 WARN DistanceJoinExec: [SedonaSQL] Join dominant side partition number 4 is larger than 1/2 of the dominant side count 1\n",
      "25/01/07 14:51:02 WARN DistanceJoinExec: [SedonaSQL] Try to use follower side partition number 4\n",
      "25/01/07 14:51:02 WARN DistanceJoinExec: [SedonaSQL] Join follower side partition number is also larger than 1/2 of the dominant side count 1\n",
      "25/01/07 14:51:02 WARN DistanceJoinExec: [SedonaSQL] Try to use 1/2 of the dominant side count 0 as the partition number of both sides\n",
      "25/01/07 14:51:02 WARN DistanceJoinExec: [SedonaSQL] 1/2 of 0 is equal to 0. Use 1 as the partition number of both sides instead.\n",
      "25/01/07 14:51:03 WARN JoinQuery: UseIndex is true, but no index exists. Will build index on the fly.\n",
      "[Stage 68:===========================================>              (3 + 1) / 4]\r"
     ]
    },
    {
     "name": "stdout",
     "output_type": "stream",
     "text": [
      "+--------------------+\n",
      "|                name|\n",
      "+--------------------+\n",
      "|boulogne-billancourt|\n",
      "|           châtillon|\n",
      "|    levallois-perret|\n",
      "|              vanves|\n",
      "|               paris|\n",
      "|           vincennes|\n",
      "|            bagnolet|\n",
      "|         romainville|\n",
      "|   neuilly-sur-seine|\n",
      "|           les lilas|\n",
      "|         saint-mandé|\n",
      "|le pré-saint-gervais|\n",
      "| issy-les-moulineaux|\n",
      "|          courbevoie|\n",
      "|           montreuil|\n",
      "|       aubervilliers|\n",
      "|saint-ouen-sur-seine|\n",
      "|   charenton-le-pont|\n",
      "|              pantin|\n",
      "|      ivry-sur-seine|\n",
      "+--------------------+\n",
      "only showing top 20 rows\n",
      "\n"
     ]
    },
    {
     "name": "stderr",
     "output_type": "stream",
     "text": [
      "                                                                                \r"
     ]
    }
   ],
   "execution_count": 49
  },
  {
   "metadata": {
    "ExecuteTime": {
     "end_time": "2025-01-07T13:51:12.048645Z",
     "start_time": "2025-01-07T13:51:06.269757Z"
    }
   },
   "cell_type": "code",
   "source": [
    "target_commune = [row[\"name\"] for row in filtered_commune_df.select(\"name\").collect()]\n",
    "\n",
    "print(target_commune)"
   ],
   "id": "35afcaa110dcaeb7",
   "outputs": [
    {
     "name": "stderr",
     "output_type": "stream",
     "text": [
      "25/01/07 14:51:08 WARN DistanceJoinExec: [SedonaSQL] Join dominant side partition number 4 is larger than 1/2 of the dominant side count 1\n",
      "25/01/07 14:51:08 WARN DistanceJoinExec: [SedonaSQL] Try to use follower side partition number 4\n",
      "25/01/07 14:51:08 WARN DistanceJoinExec: [SedonaSQL] Join follower side partition number is also larger than 1/2 of the dominant side count 1\n",
      "25/01/07 14:51:08 WARN DistanceJoinExec: [SedonaSQL] Try to use 1/2 of the dominant side count 0 as the partition number of both sides\n",
      "25/01/07 14:51:08 WARN DistanceJoinExec: [SedonaSQL] 1/2 of 0 is equal to 0. Use 1 as the partition number of both sides instead.\n",
      "25/01/07 14:51:09 WARN JoinQuery: UseIndex is true, but no index exists. Will build index on the fly.\n",
      "[Stage 73:==============>                                           (1 + 3) / 4]\r"
     ]
    },
    {
     "name": "stdout",
     "output_type": "stream",
     "text": [
      "['boulogne-billancourt', 'châtillon', 'levallois-perret', 'vanves', 'paris', 'vincennes', 'bagnolet', 'romainville', 'neuilly-sur-seine', 'les lilas', 'saint-mandé', 'le pré-saint-gervais', 'issy-les-moulineaux', 'courbevoie', 'montreuil', 'aubervilliers', 'saint-ouen-sur-seine', 'charenton-le-pont', 'pantin', 'ivry-sur-seine', 'asnières-sur-seine', 'gentilly', 'le kremlin-bicêtre', 'arcueil', 'villejuif', 'cachan', 'malakoff', 'montrouge', 'clichy-la-garenne', 'bagneux']\n"
     ]
    },
    {
     "name": "stderr",
     "output_type": "stream",
     "text": [
      "                                                                                \r"
     ]
    }
   ],
   "execution_count": 50
  },
  {
   "metadata": {
    "ExecuteTime": {
     "end_time": "2025-01-07T13:51:14.185699Z",
     "start_time": "2025-01-07T13:51:12.122208Z"
    }
   },
   "cell_type": "code",
   "source": [
    "target_commune_df = fr_commune_df.filter(col(\"name\").isin(target_commune))\n",
    "target_commune_df.show()\n",
    "target_commune_df.createOrReplaceTempView(\"target_commune\")"
   ],
   "id": "51e724419d2b08ea",
   "outputs": [
    {
     "name": "stderr",
     "output_type": "stream",
     "text": [
      "[Stage 76:======================================>                   (2 + 1) / 3]\r"
     ]
    },
    {
     "name": "stdout",
     "output_type": "stream",
     "text": [
      "+--------------------+-----+--------------------+\n",
      "|            geometry|insee|                name|\n",
      "+--------------------+-----+--------------------+\n",
      "|POLYGON ((3.26578...|02043|             bagneux|\n",
      "|POLYGON ((3.08236...|03069|           châtillon|\n",
      "|POLYGON ((3.79568...|51032|             bagneux|\n",
      "|POLYGON ((5.69078...|39122|           châtillon|\n",
      "|POLYGON ((5.84683...|54041|             bagneux|\n",
      "|POLYGON ((4.62395...|69050|           châtillon|\n",
      "|POLYGON ((3.16833...|03015|             bagneux|\n",
      "|POLYGON ((2.22279...|92012|boulogne-billancourt|\n",
      "|POLYGON ((1.75451...|62588|           montreuil|\n",
      "|POLYGON ((1.71683...|36011|             bagneux|\n",
      "|POLYGON ((1.35566...|28267|           montreuil|\n",
      "|POLYGON ((-0.8686...|85148|           montreuil|\n",
      "|POLYGON ((2.27139...|92020|           châtillon|\n",
      "|POLYGON ((2.27102...|92044|    levallois-perret|\n",
      "|POLYGON ((2.27261...|92075|              vanves|\n",
      "|POLYGON ((2.22412...|75056|               paris|\n",
      "|POLYGON ((2.41844...|94080|           vincennes|\n",
      "|POLYGON ((2.41344...|93006|            bagnolet|\n",
      "|POLYGON ((2.42415...|93063|         romainville|\n",
      "|POLYGON ((2.24562...|92051|   neuilly-sur-seine|\n",
      "+--------------------+-----+--------------------+\n",
      "only showing top 20 rows\n",
      "\n"
     ]
    },
    {
     "name": "stderr",
     "output_type": "stream",
     "text": [
      "                                                                                \r"
     ]
    }
   ],
   "execution_count": 51
  },
  {
   "metadata": {
    "ExecuteTime": {
     "end_time": "2025-01-07T13:51:16.614912Z",
     "start_time": "2025-01-07T13:51:14.218812Z"
    }
   },
   "cell_type": "code",
   "source": [
    "commune_hospital_df = sedona.sql(f\"\"\"\n",
    " select \n",
    " target_commune.name, target_commune.geometry, hospital_geo.id\n",
    " FROM target_commune, hospital_geo \n",
    " WHERE \n",
    " ST_Contains(target_commune.geometry, hospital_geo.location)\n",
    "\"\"\")\n",
    "\n",
    "commune_hospital_df.show()\n",
    "commune_hospital_df.createOrReplaceTempView(\"commune_hospital\")"
   ],
   "id": "79f42adc5b7d5ab7",
   "outputs": [
    {
     "name": "stderr",
     "output_type": "stream",
     "text": [
      "[Stage 79:======================================>                   (2 + 1) / 3]\r"
     ]
    },
    {
     "name": "stdout",
     "output_type": "stream",
     "text": [
      "+--------------------+--------------------+-----------+\n",
      "|                name|            geometry|         id|\n",
      "+--------------------+--------------------+-----------+\n",
      "|boulogne-billancourt|POLYGON ((2.22279...| 3189803775|\n",
      "|boulogne-billancourt|POLYGON ((2.22279...|  783760856|\n",
      "|boulogne-billancourt|POLYGON ((2.22279...| 1224158095|\n",
      "|    levallois-perret|POLYGON ((2.27102...| 5719766166|\n",
      "|               paris|POLYGON ((2.22412...|10883369653|\n",
      "|               paris|POLYGON ((2.22412...| 4936398378|\n",
      "|               paris|POLYGON ((2.22412...| 7923610571|\n",
      "|               paris|POLYGON ((2.22412...| 9073838043|\n",
      "|               paris|POLYGON ((2.22412...|10061970658|\n",
      "|               paris|POLYGON ((2.22412...| 8269359942|\n",
      "|               paris|POLYGON ((2.22412...| 1362787029|\n",
      "|               paris|POLYGON ((2.22412...| 9247842736|\n",
      "|               paris|POLYGON ((2.22412...| 4657177274|\n",
      "|               paris|POLYGON ((2.22412...| 3624753425|\n",
      "|               paris|POLYGON ((2.22412...| 7568123336|\n",
      "|               paris|POLYGON ((2.22412...| 8354199443|\n",
      "|               paris|POLYGON ((2.22412...| 6987051305|\n",
      "|               paris|POLYGON ((2.22412...| 8236688539|\n",
      "|               paris|POLYGON ((2.22412...| 9667186287|\n",
      "|               paris|POLYGON ((2.22412...| 8269359960|\n",
      "+--------------------+--------------------+-----------+\n",
      "only showing top 20 rows\n",
      "\n"
     ]
    },
    {
     "name": "stderr",
     "output_type": "stream",
     "text": [
      "                                                                                \r"
     ]
    }
   ],
   "execution_count": 52
  },
  {
   "metadata": {
    "ExecuteTime": {
     "end_time": "2025-01-07T13:51:16.660559Z",
     "start_time": "2025-01-07T13:51:16.627067Z"
    }
   },
   "cell_type": "code",
   "source": "hospital_count_df = sedona.sql(\"SELECT c.name, c.geometry, count(*) as hospital_count FROM commune_hospital c GROUP BY c.name, c.name, c.geometry sort by hospital_count desc\")",
   "id": "5070bcd3df0525b",
   "outputs": [],
   "execution_count": 53
  },
  {
   "metadata": {
    "ExecuteTime": {
     "end_time": "2025-01-07T13:51:19.148114Z",
     "start_time": "2025-01-07T13:51:16.858810Z"
    }
   },
   "cell_type": "code",
   "source": "hospital_count_df.show(5)",
   "id": "37163f2658081592",
   "outputs": [
    {
     "name": "stderr",
     "output_type": "stream",
     "text": [
      "[Stage 81:=============================>                            (2 + 2) / 4]\r"
     ]
    },
    {
     "name": "stdout",
     "output_type": "stream",
     "text": [
      "+--------------------+--------------------+--------------+\n",
      "|                name|            geometry|hospital_count|\n",
      "+--------------------+--------------------+--------------+\n",
      "|               paris|POLYGON ((2.22412...|            87|\n",
      "|   neuilly-sur-seine|POLYGON ((2.24562...|             4|\n",
      "|boulogne-billancourt|POLYGON ((2.22279...|             3|\n",
      "|          courbevoie|POLYGON ((2.23059...|             3|\n",
      "|   clichy-la-garenne|POLYGON ((2.28737...|             3|\n",
      "+--------------------+--------------------+--------------+\n",
      "only showing top 5 rows\n",
      "\n"
     ]
    },
    {
     "name": "stderr",
     "output_type": "stream",
     "text": [
      "                                                                                \r"
     ]
    }
   ],
   "execution_count": 54
  },
  {
   "metadata": {
    "ExecuteTime": {
     "end_time": "2025-01-07T13:51:21.675989Z",
     "start_time": "2025-01-07T13:51:19.176251Z"
    }
   },
   "cell_type": "code",
   "source": [
    "kepler_map_path = f\"{data_dir}/tmp/hospital_count_map.html\"\n",
    "\n",
    "sedona_kepler_map = SedonaKepler.create_map(df=hospital_count_df,name=\"hospital_count_df\")\n",
    "\n",
    "sedona_kepler_map.save_to_html(file_name=kepler_map_path)"
   ],
   "id": "85441be452342676",
   "outputs": [
    {
     "name": "stdout",
     "output_type": "stream",
     "text": [
      "User Guide: https://docs.kepler.gl/docs/keplergl-jupyter\n"
     ]
    },
    {
     "name": "stderr",
     "output_type": "stream",
     "text": [
      "[Stage 85:=============================>                            (2 + 2) / 4]\r"
     ]
    },
    {
     "name": "stdout",
     "output_type": "stream",
     "text": [
      "Map saved to /home/pliu/git/ConstanceDataPlatform/data/tmp/hospital_count_map.html!\n"
     ]
    },
    {
     "name": "stderr",
     "output_type": "stream",
     "text": [
      "                                                                                \r"
     ]
    }
   ],
   "execution_count": 55
  },
  {
   "metadata": {},
   "cell_type": "markdown",
   "source": "",
   "id": "92e30f14c900a4ef"
  },
  {
   "metadata": {},
   "cell_type": "markdown",
   "source": [
    "## 5. Get real route distance and duration\n",
    "\n",
    "As sedona does not provide this kind of functions, we must define a custom function which calculates the real route distance and duration. Then we register the function in the sedona context so it can be applied on all rows of a dataframe\n",
    "\n",
    "### 5.1 Define route distance and duration function\n",
    "\n",
    "This function takes a source and destination coordinates, it returns the route distance and journey duration in car max allow speed. "
   ],
   "id": "2425b1dadd40a4a1"
  },
  {
   "metadata": {
    "ExecuteTime": {
     "end_time": "2025-01-07T13:51:21.910132Z",
     "start_time": "2025-01-07T13:51:21.779917Z"
    }
   },
   "cell_type": "code",
   "source": [
    "import requests\n",
    "import urllib3\n",
    "import json\n",
    "# suppress ssl certificate warning\n",
    "urllib3.disable_warnings(urllib3.exceptions.InsecureRequestWarning)\n",
    "\n",
    "def get_route(lat_start:str, long_start:str, lat_end:str, long_end:str, show_steps:str=\"false\")->dict:\n",
    "    \"\"\"\n",
    "    This function takes a starting point and end point gps coordinates, then call the osrm rest api.\n",
    "    It returns the api json response if the response status is 200, otherwise return None.\n",
    "    :param lat_start: \n",
    "    :type lat_start: \n",
    "    :param long_start: \n",
    "    :type long_start: \n",
    "    :param lat_end: \n",
    "    :type lat_end: \n",
    "    :param long_end: \n",
    "    :type long_end: \n",
    "    :param show_steps: \n",
    "    :type show_steps: \n",
    "    :return: \n",
    "    :rtype: \n",
    "    \"\"\"\n",
    "    host=\"maps-api.casd.local\"\n",
    "    start_point = f\"{long_start},{lat_start}\"\n",
    "    end_point= f\"{long_end},{lat_end}\"\n",
    "    # Define the URL\n",
    "    url = f\"https://{host}/route/v1/driving/{start_point};{end_point}?steps={show_steps}\"\n",
    "    \n",
    "    # Make the GET request\n",
    "    response = requests.get(url,verify=False)\n",
    "    json_response = None\n",
    "    # Check if the request was successful (status code 200)\n",
    "    if response.status_code == 200:\n",
    "        # Print the response content\n",
    "        json_response = response.json()\n",
    "    else:\n",
    "        print(\"Error:\", response.status_code)\n",
    "    return json_response\n",
    "\n",
    "\n",
    "def pretty_print(json_str:dict)->None:\n",
    "    # Pretty-print the JSON\n",
    "    pretty_json = json.dumps(json_str, indent=4)\n",
    "    print(pretty_json)\n",
    "    \n",
    "    \n",
    "def parse_route_json(input_route:dict)->(float,float):\n",
    "    \"\"\"\n",
    "    This function parse the orsm json response, and return distance(meter), duration(minute)\n",
    "    :param input_route: \n",
    "    :type input_route: \n",
    "    :return: tuple of distance and duration\n",
    "    :rtype: (float,float)\n",
    "    \"\"\"\n",
    "    route = input_route['routes'][0]\n",
    "    if route:\n",
    "        # the raw distance is in meter\n",
    "        distance = route[\"distance\"]\n",
    "        # the raw duration is in second\n",
    "        # the returned duration is in minutes\n",
    "        duration = round((route[\"duration\"]/60), 2)\n",
    "    else:\n",
    "        distance = 0\n",
    "        duration = 0\n",
    "    return distance, duration\n",
    "\n",
    "\n",
    "def calculate_distance_duration(lat_start:str,long_start:str,lat_end:str,long_end:str)->(float,float):\n",
    "    \"\"\"\n",
    "    This function takes a starting point and end point gps coordinates, then call the osrm rest api. It\n",
    "    parses the response and returns the distance(meter) and duration(minutes)\n",
    "    :param lat_start: \n",
    "    :type lat_start: \n",
    "    :param long_start: \n",
    "    :type long_start: \n",
    "    :param lat_end: \n",
    "    :type lat_end: \n",
    "    :param long_end: \n",
    "    :type long_end: \n",
    "    :return: \n",
    "    :rtype: \n",
    "    \"\"\"\n",
    "    route = get_route(lat_start,long_start,lat_end,long_end)\n",
    "    return parse_route_json(route)"
   ],
   "id": "8721f4bb0617bb6c",
   "outputs": [],
   "execution_count": 56
  },
  {
   "metadata": {
    "ExecuteTime": {
     "end_time": "2025-01-07T13:51:22.010795Z",
     "start_time": "2025-01-07T13:51:21.918030Z"
    }
   },
   "cell_type": "code",
   "source": "route_between_casd_paul= get_route(casd_latitude,casd_longitude,pb_latitude,pb_longitude,show_steps=\"true\")",
   "id": "1360661098a97ff9",
   "outputs": [],
   "execution_count": 57
  },
  {
   "metadata": {
    "ExecuteTime": {
     "end_time": "2025-01-07T13:51:22.056532Z",
     "start_time": "2025-01-07T13:51:22.047306Z"
    }
   },
   "cell_type": "code",
   "source": "pretty_print(route_between_casd_paul)",
   "id": "cbf5e5027aa6e46",
   "outputs": [
    {
     "name": "stdout",
     "output_type": "stream",
     "text": [
      "{\n",
      "    \"code\": \"Ok\",\n",
      "    \"routes\": [\n",
      "        {\n",
      "            \"geometry\": \"a~}hH_{aMb@gEoR{YcAqDzVinBrIqSdBy_Ao@_GsEiP_A}KnAaKdGgLjA}Wr|A{\\\\jF_ChNkBfM]^tPiAB\",\n",
      "            \"legs\": [\n",
      "                {\n",
      "                    \"steps\": [\n",
      "                        {\n",
      "                            \"geometry\": \"a~}hH_{aMR_DBMJY\",\n",
      "                            \"maneuver\": {\n",
      "                                \"bearing_after\": 101,\n",
      "                                \"bearing_before\": 0,\n",
      "                                \"location\": [\n",
      "                                    2.308476,\n",
      "                                    48.819052\n",
      "                                ],\n",
      "                                \"modifier\": \"straight\",\n",
      "                                \"type\": \"depart\"\n",
      "                            },\n",
      "                            \"mode\": \"driving\",\n",
      "                            \"driving_side\": \"right\",\n",
      "                            \"name\": \"\",\n",
      "                            \"intersections\": [\n",
      "                                {\n",
      "                                    \"out\": 0,\n",
      "                                    \"entry\": [\n",
      "                                        true\n",
      "                                    ],\n",
      "                                    \"bearings\": [\n",
      "                                        101\n",
      "                                    ],\n",
      "                                    \"location\": [\n",
      "                                        2.308476,\n",
      "                                        48.819052\n",
      "                                    ]\n",
      "                                }\n",
      "                            ],\n",
      "                            \"weight\": 22.2,\n",
      "                            \"duration\": 22.2,\n",
      "                            \"distance\": 76.6\n",
      "                        },\n",
      "                        {\n",
      "                            \"geometry\": \"}|}hHgabMCCW]m@_AU[QWKOa@k@EI[c@KOGYU]AAWWOKcBiCy@wAEIMUyCyEMQQYS_@IQSi@\",\n",
      "                            \"maneuver\": {\n",
      "                                \"bearing_after\": 40,\n",
      "                                \"bearing_before\": 119,\n",
      "                                \"location\": [\n",
      "                                    2.309475,\n",
      "                                    48.818874\n",
      "                                ],\n",
      "                                \"modifier\": \"left\",\n",
      "                                \"type\": \"turn\"\n",
      "                            },\n",
      "                            \"mode\": \"driving\",\n",
      "                            \"ref\": \"D 906\",\n",
      "                            \"driving_side\": \"right\",\n",
      "                            \"name\": \"Avenue Pierre Brossolette\",\n",
      "                            \"intersections\": [\n",
      "                                {\n",
      "                                    \"out\": 0,\n",
      "                                    \"in\": 2,\n",
      "                                    \"entry\": [\n",
      "                                        true,\n",
      "                                        true,\n",
      "                                        false\n",
      "                                    ],\n",
      "                                    \"bearings\": [\n",
      "                                        45,\n",
      "                                        225,\n",
      "                                        300\n",
      "                                    ],\n",
      "                                    \"location\": [\n",
      "                                        2.309475,\n",
      "                                        48.818874\n",
      "                                    ]\n",
      "                                },\n",
      "                                {\n",
      "                                    \"out\": 0,\n",
      "                                    \"in\": 2,\n",
      "                                    \"entry\": [\n",
      "                                        true,\n",
      "                                        true,\n",
      "                                        false\n",
      "                                    ],\n",
      "                                    \"bearings\": [\n",
      "                                        45,\n",
      "                                        120,\n",
      "                                        225\n",
      "                                    ],\n",
      "                                    \"location\": [\n",
      "                                        2.30965,\n",
      "                                        48.819005\n",
      "                                    ]\n",
      "                                },\n",
      "                                {\n",
      "                                    \"out\": 0,\n",
      "                                    \"in\": 2,\n",
      "                                    \"entry\": [\n",
      "                                        true,\n",
      "                                        false,\n",
      "                                        false\n",
      "                                    ],\n",
      "                                    \"bearings\": [\n",
      "                                        45,\n",
      "                                        105,\n",
      "                                        225\n",
      "                                    ],\n",
      "                                    \"location\": [\n",
      "                                        2.310227,\n",
      "                                        48.819443\n",
      "                                    ]\n",
      "                                },\n",
      "                                {\n",
      "                                    \"out\": 0,\n",
      "                                    \"in\": 2,\n",
      "                                    \"entry\": [\n",
      "                                        true,\n",
      "                                        true,\n",
      "                                        false,\n",
      "                                        true,\n",
      "                                        false\n",
      "                                    ],\n",
      "                                    \"bearings\": [\n",
      "                                        45,\n",
      "                                        105,\n",
      "                                        225,\n",
      "                                        270,\n",
      "                                        330\n",
      "                                    ],\n",
      "                                    \"location\": [\n",
      "                                        2.310761,\n",
      "                                        48.819839\n",
      "                                    ]\n",
      "                                }\n",
      "                            ],\n",
      "                            \"weight\": 51.6,\n",
      "                            \"duration\": 51.6,\n",
      "                            \"distance\": 527.7\n",
      "                        },\n",
      "                        {\n",
      "                            \"geometry\": \"qr~hHy_cM?{@@K^eCV_BLy@Ju@Dg@JwA\",\n",
      "                            \"maneuver\": {\n",
      "                                \"bearing_after\": 88,\n",
      "                                \"bearing_before\": 54,\n",
      "                                \"location\": [\n",
      "                                    2.314366,\n",
      "                                    48.822327\n",
      "                                ],\n",
      "                                \"modifier\": \"slight right\",\n",
      "                                \"type\": \"on ramp\"\n",
      "                            },\n",
      "                            \"mode\": \"driving\",\n",
      "                            \"driving_side\": \"right\",\n",
      "                            \"name\": \"Boulevard P\\u00e9riph\\u00e9rique Ext\\u00e9rieur\",\n",
      "                            \"intersections\": [\n",
      "                                {\n",
      "                                    \"out\": 1,\n",
      "                                    \"in\": 3,\n",
      "                                    \"entry\": [\n",
      "                                        true,\n",
      "                                        true,\n",
      "                                        true,\n",
      "                                        false,\n",
      "                                        false\n",
      "                                    ],\n",
      "                                    \"bearings\": [\n",
      "                                        60,\n",
      "                                        90,\n",
      "                                        120,\n",
      "                                        240,\n",
      "                                        300\n",
      "                                    ],\n",
      "                                    \"location\": [\n",
      "                                        2.314366,\n",
      "                                        48.822327\n",
      "                                    ]\n",
      "                                }\n",
      "                            ],\n",
      "                            \"weight\": 29.9,\n",
      "                            \"duration\": 29.9,\n",
      "                            \"distance\": 208.6\n",
      "                        },\n",
      "                        {\n",
      "                            \"geometry\": \"ko~hHwpcMZyB|BeQ`@cDBURyBX}Bp@aFNgAn@sEVuB|BoPRaBXaCNoARiB`@aD@Gh@iDLk@Li@\\\\}@dBaDdBmCJQVm@Pi@VcBF_ADaAD}Af@ySDoC@iA?oA?aC@aBH}CFmCNuG?g@Ag@Co@Em@Iw@Mw@Mq@Su@y@sCgAkD_@yA]yAa@iCQcBGuACyABoAHkAPwAVqAV{@\",\n",
      "                            \"maneuver\": {\n",
      "                                \"bearing_after\": 108,\n",
      "                                \"bearing_before\": 104,\n",
      "                                \"location\": [\n",
      "                                    2.317079,\n",
      "                                    48.821817\n",
      "                                ],\n",
      "                                \"modifier\": \"slight left\",\n",
      "                                \"type\": \"merge\"\n",
      "                            },\n",
      "                            \"mode\": \"driving\",\n",
      "                            \"driving_side\": \"right\",\n",
      "                            \"name\": \"Boulevard P\\u00e9riph\\u00e9rique Ext\\u00e9rieur\",\n",
      "                            \"intersections\": [\n",
      "                                {\n",
      "                                    \"out\": 0,\n",
      "                                    \"in\": 1,\n",
      "                                    \"entry\": [\n",
      "                                        true,\n",
      "                                        false,\n",
      "                                        false\n",
      "                                    ],\n",
      "                                    \"bearings\": [\n",
      "                                        105,\n",
      "                                        285,\n",
      "                                        300\n",
      "                                    ],\n",
      "                                    \"location\": [\n",
      "                                        2.317079,\n",
      "                                        48.821817\n",
      "                                    ]\n",
      "                                },\n",
      "                                {\n",
      "                                    \"out\": 0,\n",
      "                                    \"classes\": [\n",
      "                                        \"tunnel\"\n",
      "                                    ],\n",
      "                                    \"in\": 1,\n",
      "                                    \"entry\": [\n",
      "                                        true,\n",
      "                                        false\n",
      "                                    ],\n",
      "                                    \"bearings\": [\n",
      "                                        105,\n",
      "                                        285\n",
      "                                    ],\n",
      "                                    \"location\": [\n",
      "                                        2.320599,\n",
      "                                        48.821051\n",
      "                                    ]\n",
      "                                },\n",
      "                                {\n",
      "                                    \"out\": 0,\n",
      "                                    \"in\": 1,\n",
      "                                    \"entry\": [\n",
      "                                        true,\n",
      "                                        false\n",
      "                                    ],\n",
      "                                    \"bearings\": [\n",
      "                                        105,\n",
      "                                        285\n",
      "                                    ],\n",
      "                                    \"location\": [\n",
      "                                        2.321423,\n",
      "                                        48.820876\n",
      "                                    ]\n",
      "                                },\n",
      "                                {\n",
      "                                    \"out\": 0,\n",
      "                                    \"in\": 2,\n",
      "                                    \"entry\": [\n",
      "                                        true,\n",
      "                                        true,\n",
      "                                        false\n",
      "                                    ],\n",
      "                                    \"bearings\": [\n",
      "                                        105,\n",
      "                                        120,\n",
      "                                        285\n",
      "                                    ],\n",
      "                                    \"location\": [\n",
      "                                        2.321526,\n",
      "                                        48.820858\n",
      "                                    ]\n",
      "                                },\n",
      "                                {\n",
      "                                    \"out\": 0,\n",
      "                                    \"classes\": [\n",
      "                                        \"tunnel\"\n",
      "                                    ],\n",
      "                                    \"in\": 1,\n",
      "                                    \"entry\": [\n",
      "                                        true,\n",
      "                                        false\n",
      "                                    ],\n",
      "                                    \"bearings\": [\n",
      "                                        105,\n",
      "                                        285\n",
      "                                    ],\n",
      "                                    \"location\": [\n",
      "                                        2.323904,\n",
      "                                        48.820375\n",
      "                                    ]\n",
      "                                },\n",
      "                                {\n",
      "                                    \"out\": 0,\n",
      "                                    \"in\": 1,\n",
      "                                    \"entry\": [\n",
      "                                        true,\n",
      "                                        false\n",
      "                                    ],\n",
      "                                    \"bearings\": [\n",
      "                                        105,\n",
      "                                        285\n",
      "                                    ],\n",
      "                                    \"location\": [\n",
      "                                        2.324255,\n",
      "                                        48.820296\n",
      "                                    ]\n",
      "                                },\n",
      "                                {\n",
      "                                    \"out\": 0,\n",
      "                                    \"classes\": [\n",
      "                                        \"tunnel\"\n",
      "                                    ],\n",
      "                                    \"in\": 1,\n",
      "                                    \"entry\": [\n",
      "                                        true,\n",
      "                                        false\n",
      "                                    ],\n",
      "                                    \"bearings\": [\n",
      "                                        105,\n",
      "                                        285\n",
      "                                    ],\n",
      "                                    \"location\": [\n",
      "                                        2.325317,\n",
      "                                        48.82006\n",
      "                                    ]\n",
      "                                },\n",
      "                                {\n",
      "                                    \"out\": 0,\n",
      "                                    \"in\": 1,\n",
      "                                    \"entry\": [\n",
      "                                        true,\n",
      "                                        false\n",
      "                                    ],\n",
      "                                    \"bearings\": [\n",
      "                                        105,\n",
      "                                        285\n",
      "                                    ],\n",
      "                                    \"location\": [\n",
      "                                        2.325905,\n",
      "                                        48.819937\n",
      "                                    ]\n",
      "                                },\n",
      "                                {\n",
      "                                    \"out\": 0,\n",
      "                                    \"in\": 2,\n",
      "                                    \"entry\": [\n",
      "                                        true,\n",
      "                                        true,\n",
      "                                        false\n",
      "                                    ],\n",
      "                                    \"bearings\": [\n",
      "                                        105,\n",
      "                                        120,\n",
      "                                        285\n",
      "                                    ],\n",
      "                                    \"location\": [\n",
      "                                        2.328712,\n",
      "                                        48.819311\n",
      "                                    ]\n",
      "                                },\n",
      "                                {\n",
      "                                    \"out\": 0,\n",
      "                                    \"in\": 1,\n",
      "                                    \"entry\": [\n",
      "                                        true,\n",
      "                                        false,\n",
      "                                        false\n",
      "                                    ],\n",
      "                                    \"bearings\": [\n",
      "                                        95,\n",
      "                                        276,\n",
      "                                        276\n",
      "                                    ],\n",
      "                                    \"location\": [\n",
      "                                        2.336888,\n",
      "                                        48.816705\n",
      "                                    ]\n",
      "                                },\n",
      "                                {\n",
      "                                    \"out\": 0,\n",
      "                                    \"in\": 2,\n",
      "                                    \"entry\": [\n",
      "                                        true,\n",
      "                                        true,\n",
      "                                        false\n",
      "                                    ],\n",
      "                                    \"bearings\": [\n",
      "                                        90,\n",
      "                                        97,\n",
      "                                        274\n",
      "                                    ],\n",
      "                                    \"location\": [\n",
      "                                        2.341311,\n",
      "                                        48.816467\n",
      "                                    ]\n",
      "                                },\n",
      "                                {\n",
      "                                    \"out\": 0,\n",
      "                                    \"in\": 2,\n",
      "                                    \"entry\": [\n",
      "                                        true,\n",
      "                                        false,\n",
      "                                        false\n",
      "                                    ],\n",
      "                                    \"bearings\": [\n",
      "                                        59,\n",
      "                                        235,\n",
      "                                        242\n",
      "                                    ],\n",
      "                                    \"location\": [\n",
      "                                        2.347691,\n",
      "                                        48.816638\n",
      "                                    ]\n",
      "                                }\n",
      "                            ],\n",
      "                            \"weight\": 187,\n",
      "                            \"duration\": 187,\n",
      "                            \"distance\": 2905.8\n",
      "                        },\n",
      "                        {\n",
      "                            \"geometry\": \"ot}hHuxjMxAyBt@eAl@y@Xi@Pg@Li@Lq@Fi@HkABq@PqGV_E?UFy@?[@_@@W\",\n",
      "                            \"maneuver\": {\n",
      "                                \"bearing_after\": 136,\n",
      "                                \"bearing_before\": 119,\n",
      "                                \"location\": [\n",
      "                                    2.35419,\n",
      "                                    48.817519\n",
      "                                ],\n",
      "                                \"modifier\": \"slight right\",\n",
      "                                \"type\": \"off ramp\"\n",
      "                            },\n",
      "                            \"mode\": \"driving\",\n",
      "                            \"destinations\": \"D 7: Pte d'Italie\",\n",
      "                            \"driving_side\": \"right\",\n",
      "                            \"name\": \"\",\n",
      "                            \"intersections\": [\n",
      "                                {\n",
      "                                    \"out\": 1,\n",
      "                                    \"in\": 2,\n",
      "                                    \"entry\": [\n",
      "                                        true,\n",
      "                                        true,\n",
      "                                        false\n",
      "                                    ],\n",
      "                                    \"bearings\": [\n",
      "                                        120,\n",
      "                                        135,\n",
      "                                        300\n",
      "                                    ],\n",
      "                                    \"location\": [\n",
      "                                        2.35419,\n",
      "                                        48.817519\n",
      "                                    ]\n",
      "                                },\n",
      "                                {\n",
      "                                    \"out\": 0,\n",
      "                                    \"in\": 2,\n",
      "                                    \"entry\": [\n",
      "                                        true,\n",
      "                                        false,\n",
      "                                        false\n",
      "                                    ],\n",
      "                                    \"bearings\": [\n",
      "                                        90,\n",
      "                                        270,\n",
      "                                        285\n",
      "                                    ],\n",
      "                                    \"location\": [\n",
      "                                        2.359476,\n",
      "                                        48.815891\n",
      "                                    ]\n",
      "                                }\n",
      "                            ],\n",
      "                            \"weight\": 69.4,\n",
      "                            \"duration\": 69.4,\n",
      "                            \"distance\": 512.2\n",
      "                        },\n",
      "                        {\n",
      "                            \"geometry\": \"}i}hH{~kMDGJSHERGNEFC^MNEd@K\\\\GHCXA\\\\EPEDAdAUbDq@`ASD?RGl@Mx@O`AUvEcARE^ENEf@IjAUD?BAD?D?H@N@FAFCHGDGFGBAFCxCq@l@M|A[FA|@QhAYDALC\",\n",
      "                            \"maneuver\": {\n",
      "                                \"bearing_after\": 135,\n",
      "                                \"bearing_before\": 95,\n",
      "                                \"location\": [\n",
      "                                    2.360295,\n",
      "                                    48.815833\n",
      "                                ],\n",
      "                                \"modifier\": \"slight right\",\n",
      "                                \"type\": \"fork\"\n",
      "                            },\n",
      "                            \"mode\": \"driving\",\n",
      "                            \"ref\": \"D 7\",\n",
      "                            \"driving_side\": \"right\",\n",
      "                            \"name\": \"Avenue de Fontainebleau\",\n",
      "                            \"intersections\": [\n",
      "                                {\n",
      "                                    \"out\": 1,\n",
      "                                    \"in\": 2,\n",
      "                                    \"entry\": [\n",
      "                                        true,\n",
      "                                        true,\n",
      "                                        false,\n",
      "                                        false\n",
      "                                    ],\n",
      "                                    \"bearings\": [\n",
      "                                        75,\n",
      "                                        135,\n",
      "                                        270,\n",
      "                                        315\n",
      "                                    ],\n",
      "                                    \"location\": [\n",
      "                                        2.360295,\n",
      "                                        48.815833\n",
      "                                    ]\n",
      "                                },\n",
      "                                {\n",
      "                                    \"out\": 1,\n",
      "                                    \"in\": 2,\n",
      "                                    \"entry\": [\n",
      "                                        true,\n",
      "                                        true,\n",
      "                                        false\n",
      "                                    ],\n",
      "                                    \"bearings\": [\n",
      "                                        90,\n",
      "                                        165,\n",
      "                                        315\n",
      "                                    ],\n",
      "                                    \"location\": [\n",
      "                                        2.360441,\n",
      "                                        48.815736\n",
      "                                    ]\n",
      "                                },\n",
      "                                {\n",
      "                                    \"out\": 1,\n",
      "                                    \"in\": 2,\n",
      "                                    \"entry\": [\n",
      "                                        true,\n",
      "                                        true,\n",
      "                                        false\n",
      "                                    ],\n",
      "                                    \"bearings\": [\n",
      "                                        90,\n",
      "                                        165,\n",
      "                                        345\n",
      "                                    ],\n",
      "                                    \"location\": [\n",
      "                                        2.360507,\n",
      "                                        48.815594\n",
      "                                    ]\n",
      "                                },\n",
      "                                {\n",
      "                                    \"out\": 0,\n",
      "                                    \"in\": 2,\n",
      "                                    \"entry\": [\n",
      "                                        true,\n",
      "                                        true,\n",
      "                                        false\n",
      "                                    ],\n",
      "                                    \"bearings\": [\n",
      "                                        165,\n",
      "                                        255,\n",
      "                                        345\n",
      "                                    ],\n",
      "                                    \"location\": [\n",
      "                                        2.360656,\n",
      "                                        48.815228\n",
      "                                    ]\n",
      "                                },\n",
      "                                {\n",
      "                                    \"out\": 1,\n",
      "                                    \"in\": 2,\n",
      "                                    \"entry\": [\n",
      "                                        false,\n",
      "                                        true,\n",
      "                                        false\n",
      "                                    ],\n",
      "                                    \"bearings\": [\n",
      "                                        75,\n",
      "                                        165,\n",
      "                                        345\n",
      "                                    ],\n",
      "                                    \"location\": [\n",
      "                                        2.360718,\n",
      "                                        48.815039\n",
      "                                    ]\n",
      "                                },\n",
      "                                {\n",
      "                                    \"out\": 2,\n",
      "                                    \"in\": 0,\n",
      "                                    \"entry\": [\n",
      "                                        false,\n",
      "                                        false,\n",
      "                                        true,\n",
      "                                        true\n",
      "                                    ],\n",
      "                                    \"bearings\": [\n",
      "                                        0,\n",
      "                                        90,\n",
      "                                        165,\n",
      "                                        255\n",
      "                                    ],\n",
      "                                    \"location\": [\n",
      "                                        2.360815,\n",
      "                                        48.814561\n",
      "                                    ]\n",
      "                                },\n",
      "                                {\n",
      "                                    \"out\": 1,\n",
      "                                    \"in\": 3,\n",
      "                                    \"entry\": [\n",
      "                                        true,\n",
      "                                        true,\n",
      "                                        false,\n",
      "                                        false\n",
      "                                    ],\n",
      "                                    \"bearings\": [\n",
      "                                        105,\n",
      "                                        165,\n",
      "                                        285,\n",
      "                                        345\n",
      "                                    ],\n",
      "                                    \"location\": [\n",
      "                                        2.361356,\n",
      "                                        48.812808\n",
      "                                    ]\n",
      "                                },\n",
      "                                {\n",
      "                                    \"out\": 2,\n",
      "                                    \"in\": 0,\n",
      "                                    \"entry\": [\n",
      "                                        false,\n",
      "                                        false,\n",
      "                                        true,\n",
      "                                        true\n",
      "                                    ],\n",
      "                                    \"bearings\": [\n",
      "                                        0,\n",
      "                                        60,\n",
      "                                        165,\n",
      "                                        225\n",
      "                                    ],\n",
      "                                    \"location\": [\n",
      "                                        2.362207,\n",
      "                                        48.809799\n",
      "                                    ]\n",
      "                                },\n",
      "                                {\n",
      "                                    \"out\": 2,\n",
      "                                    \"in\": 0,\n",
      "                                    \"entry\": [\n",
      "                                        false,\n",
      "                                        true,\n",
      "                                        true,\n",
      "                                        false\n",
      "                                    ],\n",
      "                                    \"bearings\": [\n",
      "                                        0,\n",
      "                                        60,\n",
      "                                        150,\n",
      "                                        270\n",
      "                                    ],\n",
      "                                    \"location\": [\n",
      "                                        2.362268,\n",
      "                                        48.809591\n",
      "                                    ]\n",
      "                                }\n",
      "                            ],\n",
      "                            \"weight\": 97.4,\n",
      "                            \"duration\": 97.4,\n",
      "                            \"distance\": 989.8\n",
      "                        },\n",
      "                        {\n",
      "                            \"geometry\": \"ys{hHkplM@?PEJADA`Ci@|AYDAXE^GD?n@OHEPGPGFATEDArBe@JCVGXG|A_@r@OVGLCLCNEPINGl@OVEh@M\\\\G^Kb@Ip@MLC\\\\CDATEPEXEb@KVGx@S\\\\IJENETQV_@LO\",\n",
      "                            \"maneuver\": {\n",
      "                                \"bearing_after\": 168,\n",
      "                                \"bearing_before\": 168,\n",
      "                                \"location\": [\n",
      "                                    2.363095,\n",
      "                                    48.807173\n",
      "                                ],\n",
      "                                \"modifier\": \"straight\",\n",
      "                                \"type\": \"new name\"\n",
      "                            },\n",
      "                            \"mode\": \"driving\",\n",
      "                            \"ref\": \"D 7\",\n",
      "                            \"driving_side\": \"right\",\n",
      "                            \"name\": \"Avenue de Paris\",\n",
      "                            \"intersections\": [\n",
      "                                {\n",
      "                                    \"out\": 0,\n",
      "                                    \"in\": 1,\n",
      "                                    \"entry\": [\n",
      "                                        true,\n",
      "                                        false\n",
      "                                    ],\n",
      "                                    \"bearings\": [\n",
      "                                        165,\n",
      "                                        345\n",
      "                                    ],\n",
      "                                    \"location\": [\n",
      "                                        2.363095,\n",
      "                                        48.807173\n",
      "                                    ]\n",
      "                                },\n",
      "                                {\n",
      "                                    \"out\": 1,\n",
      "                                    \"in\": 3,\n",
      "                                    \"entry\": [\n",
      "                                        false,\n",
      "                                        true,\n",
      "                                        true,\n",
      "                                        false\n",
      "                                    ],\n",
      "                                    \"bearings\": [\n",
      "                                        75,\n",
      "                                        165,\n",
      "                                        255,\n",
      "                                        345\n",
      "                                    ],\n",
      "                                    \"location\": [\n",
      "                                        2.363099,\n",
      "                                        48.807159\n",
      "                                    ]\n",
      "                                },\n",
      "                                {\n",
      "                                    \"out\": 1,\n",
      "                                    \"in\": 2,\n",
      "                                    \"entry\": [\n",
      "                                        false,\n",
      "                                        true,\n",
      "                                        false\n",
      "                                    ],\n",
      "                                    \"bearings\": [\n",
      "                                        75,\n",
      "                                        165,\n",
      "                                        345\n",
      "                                    ],\n",
      "                                    \"location\": [\n",
      "                                        2.363126,\n",
      "                                        48.807067\n",
      "                                    ]\n",
      "                                },\n",
      "                                {\n",
      "                                    \"out\": 1,\n",
      "                                    \"in\": 3,\n",
      "                                    \"entry\": [\n",
      "                                        true,\n",
      "                                        true,\n",
      "                                        false,\n",
      "                                        false\n",
      "                                    ],\n",
      "                                    \"bearings\": [\n",
      "                                        90,\n",
      "                                        165,\n",
      "                                        255,\n",
      "                                        345\n",
      "                                    ],\n",
      "                                    \"location\": [\n",
      "                                        2.363531,\n",
      "                                        48.8057\n",
      "                                    ]\n",
      "                                },\n",
      "                                {\n",
      "                                    \"out\": 1,\n",
      "                                    \"in\": 3,\n",
      "                                    \"entry\": [\n",
      "                                        false,\n",
      "                                        true,\n",
      "                                        true,\n",
      "                                        false\n",
      "                                    ],\n",
      "                                    \"bearings\": [\n",
      "                                        75,\n",
      "                                        165,\n",
      "                                        225,\n",
      "                                        345\n",
      "                                    ],\n",
      "                                    \"location\": [\n",
      "                                        2.364059,\n",
      "                                        48.804095\n",
      "                                    ]\n",
      "                                },\n",
      "                                {\n",
      "                                    \"out\": 1,\n",
      "                                    \"in\": 3,\n",
      "                                    \"entry\": [\n",
      "                                        true,\n",
      "                                        true,\n",
      "                                        false,\n",
      "                                        false\n",
      "                                    ],\n",
      "                                    \"bearings\": [\n",
      "                                        90,\n",
      "                                        165,\n",
      "                                        300,\n",
      "                                        345\n",
      "                                    ],\n",
      "                                    \"location\": [\n",
      "                                        2.36502,\n",
      "                                        48.801069\n",
      "                                    ]\n",
      "                                },\n",
      "                                {\n",
      "                                    \"out\": 1,\n",
      "                                    \"in\": 2,\n",
      "                                    \"entry\": [\n",
      "                                        true,\n",
      "                                        true,\n",
      "                                        false\n",
      "                                    ],\n",
      "                                    \"bearings\": [\n",
      "                                        75,\n",
      "                                        165,\n",
      "                                        345\n",
      "                                    ],\n",
      "                                    \"location\": [\n",
      "                                        2.365081,\n",
      "                                        48.800849\n",
      "                                    ]\n",
      "                                }\n",
      "                            ],\n",
      "                            \"weight\": 81.8,\n",
      "                            \"duration\": 81.8,\n",
      "                            \"distance\": 860.7\n",
      "                        },\n",
      "                        {\n",
      "                            \"geometry\": \"}dzhHw`mMLJHFDBH?bASV?NC`@Kb@IrAYl@Md@QTE`@In@K\",\n",
      "                            \"maneuver\": {\n",
      "                                \"bearing_after\": 209,\n",
      "                                \"bearing_before\": 139,\n",
      "                                \"location\": [\n",
      "                                    2.365721,\n",
      "                                    48.799669\n",
      "                                ],\n",
      "                                \"modifier\": \"right\",\n",
      "                                \"type\": \"continue\"\n",
      "                            },\n",
      "                            \"mode\": \"driving\",\n",
      "                            \"ref\": \"D 285\",\n",
      "                            \"driving_side\": \"right\",\n",
      "                            \"name\": \"Avenue de Paris\",\n",
      "                            \"intersections\": [\n",
      "                                {\n",
      "                                    \"out\": 2,\n",
      "                                    \"in\": 3,\n",
      "                                    \"entry\": [\n",
      "                                        true,\n",
      "                                        true,\n",
      "                                        true,\n",
      "                                        false\n",
      "                                    ],\n",
      "                                    \"bearings\": [\n",
      "                                        45,\n",
      "                                        135,\n",
      "                                        210,\n",
      "                                        315\n",
      "                                    ],\n",
      "                                    \"location\": [\n",
      "                                        2.365721,\n",
      "                                        48.799669\n",
      "                                    ]\n",
      "                                }\n",
      "                            ],\n",
      "                            \"weight\": 25.3,\n",
      "                            \"duration\": 25.3,\n",
      "                            \"distance\": 279.7\n",
      "                        },\n",
      "                        {\n",
      "                            \"geometry\": \"suyhHcdmMz@EtAC`@?vAEx@CJ?FAVAv@CF?TA\",\n",
      "                            \"maneuver\": {\n",
      "                                \"bearing_after\": 175,\n",
      "                                \"bearing_before\": 168,\n",
      "                                \"location\": [\n",
      "                                    2.366263,\n",
      "                                    48.797221\n",
      "                                ],\n",
      "                                \"modifier\": \"straight\",\n",
      "                                \"type\": \"new name\"\n",
      "                            },\n",
      "                            \"mode\": \"driving\",\n",
      "                            \"ref\": \"D 285\",\n",
      "                            \"driving_side\": \"right\",\n",
      "                            \"name\": \"Rue Jean Jaur\\u00e8s\",\n",
      "                            \"intersections\": [\n",
      "                                {\n",
      "                                    \"out\": 0,\n",
      "                                    \"in\": 1,\n",
      "                                    \"entry\": [\n",
      "                                        true,\n",
      "                                        false\n",
      "                                    ],\n",
      "                                    \"bearings\": [\n",
      "                                        180,\n",
      "                                        345\n",
      "                                    ],\n",
      "                                    \"location\": [\n",
      "                                        2.366263,\n",
      "                                        48.797221\n",
      "                                    ]\n",
      "                                },\n",
      "                                {\n",
      "                                    \"out\": 2,\n",
      "                                    \"in\": 0,\n",
      "                                    \"entry\": [\n",
      "                                        false,\n",
      "                                        true,\n",
      "                                        true\n",
      "                                    ],\n",
      "                                    \"bearings\": [\n",
      "                                        0,\n",
      "                                        75,\n",
      "                                        180\n",
      "                                    ],\n",
      "                                    \"location\": [\n",
      "                                        2.366289,\n",
      "                                        48.796916\n",
      "                                    ]\n",
      "                                },\n",
      "                                {\n",
      "                                    \"out\": 1,\n",
      "                                    \"in\": 0,\n",
      "                                    \"entry\": [\n",
      "                                        false,\n",
      "                                        true,\n",
      "                                        true\n",
      "                                    ],\n",
      "                                    \"bearings\": [\n",
      "                                        0,\n",
      "                                        180,\n",
      "                                        300\n",
      "                                    ],\n",
      "                                    \"location\": [\n",
      "                                        2.366311,\n",
      "                                        48.796487\n",
      "                                    ]\n",
      "                                },\n",
      "                                {\n",
      "                                    \"out\": 2,\n",
      "                                    \"in\": 0,\n",
      "                                    \"entry\": [\n",
      "                                        false,\n",
      "                                        false,\n",
      "                                        true,\n",
      "                                        true\n",
      "                                    ],\n",
      "                                    \"bearings\": [\n",
      "                                        0,\n",
      "                                        75,\n",
      "                                        180,\n",
      "                                        255\n",
      "                                    ],\n",
      "                                    \"location\": [\n",
      "                                        2.366364,\n",
      "                                        48.795533\n",
      "                                    ]\n",
      "                                }\n",
      "                            ],\n",
      "                            \"weight\": 24.7,\n",
      "                            \"duration\": 24.7,\n",
      "                            \"distance\": 253.8\n",
      "                        },\n",
      "                        {\n",
      "                            \"geometry\": \"kgyhHaemM@RHzCB~@@`A@d@HxD@b@\",\n",
      "                            \"maneuver\": {\n",
      "                                \"bearing_after\": 262,\n",
      "                                \"bearing_before\": 177,\n",
      "                                \"location\": [\n",
      "                                    2.366406,\n",
      "                                    48.794941\n",
      "                                ],\n",
      "                                \"modifier\": \"right\",\n",
      "                                \"type\": \"turn\"\n",
      "                            },\n",
      "                            \"mode\": \"driving\",\n",
      "                            \"ref\": \"D 161\",\n",
      "                            \"driving_side\": \"right\",\n",
      "                            \"name\": \"Avenue Paul Vaillant-Couturier\",\n",
      "                            \"intersections\": [\n",
      "                                {\n",
      "                                    \"out\": 3,\n",
      "                                    \"in\": 0,\n",
      "                                    \"entry\": [\n",
      "                                        false,\n",
      "                                        true,\n",
      "                                        true,\n",
      "                                        true\n",
      "                                    ],\n",
      "                                    \"bearings\": [\n",
      "                                        0,\n",
      "                                        60,\n",
      "                                        180,\n",
      "                                        270\n",
      "                                    ],\n",
      "                                    \"location\": [\n",
      "                                        2.366406,\n",
      "                                        48.794941\n",
      "                                    ]\n",
      "                                },\n",
      "                                {\n",
      "                                    \"out\": 1,\n",
      "                                    \"in\": 0,\n",
      "                                    \"entry\": [\n",
      "                                        false,\n",
      "                                        true,\n",
      "                                        true\n",
      "                                    ],\n",
      "                                    \"bearings\": [\n",
      "                                        90,\n",
      "                                        270,\n",
      "                                        345\n",
      "                                    ],\n",
      "                                    \"location\": [\n",
      "                                        2.364688,\n",
      "                                        48.79484\n",
      "                                    ]\n",
      "                                }\n",
      "                            ],\n",
      "                            \"weight\": 20.8,\n",
      "                            \"duration\": 20.8,\n",
      "                            \"distance\": 208.7\n",
      "                        },\n",
      "                        {\n",
      "                            \"geometry\": \"kfyhHkslMM@G@GAGAW@K@\",\n",
      "                            \"maneuver\": {\n",
      "                                \"bearing_after\": 354,\n",
      "                                \"bearing_before\": 264,\n",
      "                                \"location\": [\n",
      "                                    2.363579,\n",
      "                                    48.794777\n",
      "                                ],\n",
      "                                \"modifier\": \"right\",\n",
      "                                \"type\": \"turn\"\n",
      "                            },\n",
      "                            \"mode\": \"driving\",\n",
      "                            \"driving_side\": \"right\",\n",
      "                            \"name\": \"\",\n",
      "                            \"intersections\": [\n",
      "                                {\n",
      "                                    \"out\": 0,\n",
      "                                    \"in\": 1,\n",
      "                                    \"entry\": [\n",
      "                                        true,\n",
      "                                        false,\n",
      "                                        true\n",
      "                                    ],\n",
      "                                    \"bearings\": [\n",
      "                                        0,\n",
      "                                        90,\n",
      "                                        270\n",
      "                                    ],\n",
      "                                    \"location\": [\n",
      "                                        2.363579,\n",
      "                                        48.794777\n",
      "                                    ]\n",
      "                                },\n",
      "                                {\n",
      "                                    \"out\": 0,\n",
      "                                    \"in\": 2,\n",
      "                                    \"entry\": [\n",
      "                                        true,\n",
      "                                        true,\n",
      "                                        false,\n",
      "                                        false\n",
      "                                    ],\n",
      "                                    \"bearings\": [\n",
      "                                        0,\n",
      "                                        90,\n",
      "                                        180,\n",
      "                                        270\n",
      "                                    ],\n",
      "                                    \"location\": [\n",
      "                                        2.363573,\n",
      "                                        48.794931\n",
      "                                    ]\n",
      "                                }\n",
      "                            ],\n",
      "                            \"weight\": 10,\n",
      "                            \"duration\": 10,\n",
      "                            \"distance\": 41.6\n",
      "                        },\n",
      "                        {\n",
      "                            \"geometry\": \"uhyhHgslM\",\n",
      "                            \"maneuver\": {\n",
      "                                \"bearing_after\": 0,\n",
      "                                \"bearing_before\": 353,\n",
      "                                \"location\": [\n",
      "                                    2.36356,\n",
      "                                    48.795149\n",
      "                                ],\n",
      "                                \"modifier\": \"right\",\n",
      "                                \"type\": \"arrive\"\n",
      "                            },\n",
      "                            \"mode\": \"driving\",\n",
      "                            \"driving_side\": \"right\",\n",
      "                            \"name\": \"\",\n",
      "                            \"intersections\": [\n",
      "                                {\n",
      "                                    \"in\": 0,\n",
      "                                    \"entry\": [\n",
      "                                        true\n",
      "                                    ],\n",
      "                                    \"bearings\": [\n",
      "                                        173\n",
      "                                    ],\n",
      "                                    \"location\": [\n",
      "                                        2.36356,\n",
      "                                        48.795149\n",
      "                                    ]\n",
      "                                }\n",
      "                            ],\n",
      "                            \"weight\": 0,\n",
      "                            \"duration\": 0,\n",
      "                            \"distance\": 0\n",
      "                        }\n",
      "                    ],\n",
      "                    \"summary\": \"Boulevard P\\u00e9riph\\u00e9rique Ext\\u00e9rieur, Avenue de Fontainebleau\",\n",
      "                    \"weight\": 620.1,\n",
      "                    \"duration\": 620.1,\n",
      "                    \"distance\": 6865.1\n",
      "                }\n",
      "            ],\n",
      "            \"weight_name\": \"routability\",\n",
      "            \"weight\": 620.1,\n",
      "            \"duration\": 620.1,\n",
      "            \"distance\": 6865.1\n",
      "        }\n",
      "    ],\n",
      "    \"waypoints\": [\n",
      "        {\n",
      "            \"hint\": \"27IqgdyyKoGQAAAAAAAAACgAAAAAAAAAL25wQgAAAADVQYRBAAAAAJAAAAAAAAAAKAAAAAAAAABtIgAAfDkjAGzr6AJfOCMASOvoAgIAnxHkNR0k\",\n",
      "            \"distance\": 21.306420726,\n",
      "            \"name\": \"\",\n",
      "            \"location\": [\n",
      "                2.308476,\n",
      "                48.819052\n",
      "            ]\n",
      "        },\n",
      "        {\n",
      "            \"hint\": \"mioqgf___38PAAAAPwAAACwAAAAAAAAA1_PIQLS5oEETr5BBAAAAAA8AAAA_AAAALAAAAAAAAABtIgAAqBAkAA2O6AIuESQAGY7oAgIADxbkNR0k\",\n",
      "            \"distance\": 9.93910262,\n",
      "            \"name\": \"\",\n",
      "            \"location\": [\n",
      "                2.36356,\n",
      "                48.795149\n",
      "            ]\n",
      "        }\n",
      "    ]\n",
      "}\n"
     ]
    }
   ],
   "execution_count": 58
  },
  {
   "metadata": {
    "ExecuteTime": {
     "end_time": "2025-01-07T13:51:22.193823Z",
     "start_time": "2025-01-07T13:51:22.188430Z"
    }
   },
   "cell_type": "code",
   "source": [
    "distance, duration = parse_route_json(route_between_casd_paul)\n",
    "print(f\"car distance between CASD:{casd_geo} and Paul-Brousse:{pb_geo} is: {distance} meters.\")\n",
    "print(f\"Journey duration between CASD:{casd_geo} and Paul-Brousse:{pb_geo} is: {duration} minutes.\")"
   ],
   "id": "3443cc7bb25ba3d3",
   "outputs": [
    {
     "name": "stdout",
     "output_type": "stream",
     "text": [
      "car distance between CASD:POINT(2.3081911 48.8190155) and Paul-Brousse:POINT(2.3636935981 48.7951606539) is: 6865.1 meters.\n",
      "Journey duration between CASD:POINT(2.3081911 48.8190155) and Paul-Brousse:POINT(2.3636935981 48.7951606539) is: 10.34 minutes.\n"
     ]
    }
   ],
   "execution_count": 59
  },
  {
   "metadata": {},
   "cell_type": "markdown",
   "source": [
    "## 5.2 Register the function in sedona(spark)\n",
    "\n",
    "After registration, this function can be applied on each row of a dataframe."
   ],
   "id": "bcb6ced9b1f34d33"
  },
  {
   "metadata": {
    "ExecuteTime": {
     "end_time": "2025-01-07T13:51:22.282937Z",
     "start_time": "2025-01-07T13:51:22.272463Z"
    }
   },
   "cell_type": "code",
   "source": [
    "def calculate_distance_duration_str(lat_start:str,long_start:str,lat_end:str,long_end:str) -> str:\n",
    "    \"\"\"\n",
    "    This function is a wrapper of calculate_distance_duration, it returns a string \"distance;duration\". With one \n",
    "    withColumn we can have all information, which will limit the osrm api call\n",
    "    :param lat_start: \n",
    "    :type lat_start: \n",
    "    :param long_start: \n",
    "    :type long_start: \n",
    "    :param lat_end: \n",
    "    :type lat_end: \n",
    "    :param long_end: \n",
    "    :type long_end: \n",
    "    :return: \n",
    "    :rtype: \n",
    "    \"\"\"\n",
    "    distance, duration= calculate_distance_duration(lat_start,long_start,lat_end,long_end)\n",
    "    return f\"{distance};{duration}\"\n",
    "\n",
    "from pyspark.sql.types import StringType\n",
    "from pyspark.sql.functions import udf\n",
    "\n",
    "\n",
    "@udf(returnType=StringType()) \n",
    "def get_distance_duration(lat_start:str,long_start:str,lat_end:str,long_end:str):\n",
    "    return calculate_distance_duration_str(lat_start,long_start,lat_end,long_end)"
   ],
   "id": "5e46d50bd14f4cb3",
   "outputs": [],
   "execution_count": 60
  },
  {
   "metadata": {
    "ExecuteTime": {
     "end_time": "2025-01-07T13:51:22.552291Z",
     "start_time": "2025-01-07T13:51:22.338025Z"
    }
   },
   "cell_type": "code",
   "source": "print(f\"Total commune number before cleaning: {target_commune_df.count()}\")",
   "id": "3704380bebeedbaf",
   "outputs": [
    {
     "name": "stdout",
     "output_type": "stream",
     "text": [
      "Total commune number before cleaning: 41\n"
     ]
    },
    {
     "name": "stderr",
     "output_type": "stream",
     "text": [
      "25/01/07 14:51:22 WARN GeoParquetFileFormat: GeoParquet currently does not support vectorized reader. Falling back to parquet-mr\n",
      "25/01/07 14:51:22 WARN GeoParquetFileFormat: GeoParquet currently does not support vectorized reader. Falling back to parquet-mr\n",
      "25/01/07 14:51:22 WARN GeoParquetFileFormat: GeoParquet currently does not support vectorized reader. Falling back to parquet-mr\n",
      "25/01/07 14:51:22 WARN GeoParquetFileFormat: GeoParquet currently does not support vectorized reader. Falling back to parquet-mr\n"
     ]
    }
   ],
   "execution_count": 61
  },
  {
   "metadata": {
    "ExecuteTime": {
     "end_time": "2025-01-07T13:51:59.180654Z",
     "start_time": "2025-01-07T13:51:57.512023Z"
    }
   },
   "cell_type": "code",
   "source": "target_commune_df.orderBy(\"name\").show(50)",
   "id": "7259ff3822fbcce3",
   "outputs": [
    {
     "name": "stderr",
     "output_type": "stream",
     "text": [
      "[Stage 91:=============================>                            (2 + 2) / 4]\r"
     ]
    },
    {
     "name": "stdout",
     "output_type": "stream",
     "text": [
      "+--------------------+-----+--------------------+\n",
      "|            geometry|insee|                name|\n",
      "+--------------------+-----+--------------------+\n",
      "|POLYGON ((2.31787...|94003|             arcueil|\n",
      "|POLYGON ((2.26493...|92004|  asnières-sur-seine|\n",
      "|POLYGON ((2.36560...|93001|       aubervilliers|\n",
      "|POLYGON ((3.26578...|02043|             bagneux|\n",
      "|POLYGON ((1.71683...|36011|             bagneux|\n",
      "|POLYGON ((3.79568...|51032|             bagneux|\n",
      "|POLYGON ((2.29229...|92007|             bagneux|\n",
      "|POLYGON ((5.84683...|54041|             bagneux|\n",
      "|POLYGON ((3.16833...|03015|             bagneux|\n",
      "|POLYGON ((2.41344...|93006|            bagnolet|\n",
      "|POLYGON ((2.22279...|92012|boulogne-billancourt|\n",
      "|POLYGON ((2.31867...|94016|              cachan|\n",
      "|POLYGON ((2.39025...|94018|   charenton-le-pont|\n",
      "|POLYGON ((3.08236...|03069|           châtillon|\n",
      "|POLYGON ((2.27139...|92020|           châtillon|\n",
      "|POLYGON ((5.69078...|39122|           châtillon|\n",
      "|POLYGON ((4.62395...|69050|           châtillon|\n",
      "|POLYGON ((2.28737...|92024|   clichy-la-garenne|\n",
      "|POLYGON ((2.23059...|92026|          courbevoie|\n",
      "|POLYGON ((2.32906...|94037|            gentilly|\n",
      "|POLYGON ((2.23571...|92040| issy-les-moulineaux|\n",
      "|POLYGON ((2.36424...|94041|      ivry-sur-seine|\n",
      "|POLYGON ((2.34379...|94043|  le kremlin-bicêtre|\n",
      "|POLYGON ((2.39891...|93061|le pré-saint-gervais|\n",
      "|POLYGON ((2.41083...|93045|           les lilas|\n",
      "|POLYGON ((2.27102...|92044|    levallois-perret|\n",
      "|POLYGON ((2.27440...|92046|            malakoff|\n",
      "|POLYGON ((1.75451...|62588|           montreuil|\n",
      "|POLYGON ((2.41528...|93048|           montreuil|\n",
      "|POLYGON ((1.35566...|28267|           montreuil|\n",
      "|POLYGON ((-0.8686...|85148|           montreuil|\n",
      "|POLYGON ((2.30001...|92049|           montrouge|\n",
      "|POLYGON ((2.24562...|92051|   neuilly-sur-seine|\n",
      "|POLYGON ((2.38938...|93055|              pantin|\n",
      "|POLYGON ((2.22412...|75056|               paris|\n",
      "|POLYGON ((2.42415...|93063|         romainville|\n",
      "|POLYGON ((2.41122...|94067|         saint-mandé|\n",
      "|POLYGON ((2.31377...|93070|saint-ouen-sur-seine|\n",
      "|POLYGON ((2.27261...|92075|              vanves|\n",
      "|POLYGON ((2.34376...|94076|           villejuif|\n",
      "|POLYGON ((2.41844...|94080|           vincennes|\n",
      "+--------------------+-----+--------------------+\n",
      "\n"
     ]
    },
    {
     "name": "stderr",
     "output_type": "stream",
     "text": [
      "                                                                                \r"
     ]
    }
   ],
   "execution_count": 62
  },
  {
   "metadata": {
    "ExecuteTime": {
     "end_time": "2025-01-07T13:51:59.317719Z",
     "start_time": "2025-01-07T13:51:59.302814Z"
    }
   },
   "cell_type": "code",
   "source": "clean_commune_df = target_commune_df.dropDuplicates([\"name\"])",
   "id": "69b40f992a267fe1",
   "outputs": [],
   "execution_count": 63
  },
  {
   "metadata": {
    "ExecuteTime": {
     "end_time": "2025-01-07T13:52:01.289360Z",
     "start_time": "2025-01-07T13:52:00.776918Z"
    }
   },
   "cell_type": "code",
   "source": "print(f\"Total commune number after cleaning: {clean_commune_df.count()}\")",
   "id": "e2b1d41e64fcc7f4",
   "outputs": [
    {
     "name": "stderr",
     "output_type": "stream",
     "text": [
      "25/01/07 14:52:01 WARN GeoParquetFileFormat: GeoParquet currently does not support vectorized reader. Falling back to parquet-mr\n",
      "25/01/07 14:52:01 WARN GeoParquetFileFormat: GeoParquet currently does not support vectorized reader. Falling back to parquet-mr\n",
      "25/01/07 14:52:01 WARN GeoParquetFileFormat: GeoParquet currently does not support vectorized reader. Falling back to parquet-mr\n",
      "25/01/07 14:52:01 WARN GeoParquetFileFormat: GeoParquet currently does not support vectorized reader. Falling back to parquet-mr\n"
     ]
    },
    {
     "name": "stdout",
     "output_type": "stream",
     "text": [
      "Total commune number after cleaning: 30\n"
     ]
    }
   ],
   "execution_count": 64
  },
  {
   "metadata": {
    "ExecuteTime": {
     "end_time": "2025-01-07T13:52:05.975103Z",
     "start_time": "2025-01-07T13:52:03.564752Z"
    }
   },
   "cell_type": "code",
   "source": [
    "# convert the geometry column to gps coordinates of the commune centroid\n",
    "clean_commune_df = clean_commune_df.withColumn(\"centroid\",ST_Centroid(col(\"geometry\"))).withColumn(\"longitude\",ST_X(col(\"centroid\"))).withColumn(\"latitude\",ST_Y(col(\"centroid\"))).drop(\"geometry\")\n",
    "clean_commune_df.show(2)"
   ],
   "id": "51d7f669aea98780",
   "outputs": [
    {
     "name": "stderr",
     "output_type": "stream",
     "text": [
      "[Stage 98:=============================>                            (2 + 2) / 4]\r"
     ]
    },
    {
     "name": "stdout",
     "output_type": "stream",
     "text": [
      "+-----+------------------+--------------------+------------------+-----------------+\n",
      "|insee|              name|            centroid|         longitude|         latitude|\n",
      "+-----+------------------+--------------------+------------------+-----------------+\n",
      "|94003|           arcueil|POINT (2.33400966...| 2.334009668025032|48.80541926125269|\n",
      "|92004|asnières-sur-seine|POINT (2.28779307...|2.2877930748988335| 48.9159100346966|\n",
      "+-----+------------------+--------------------+------------------+-----------------+\n",
      "only showing top 2 rows\n",
      "\n"
     ]
    },
    {
     "name": "stderr",
     "output_type": "stream",
     "text": [
      "                                                                                \r"
     ]
    }
   ],
   "execution_count": 65
  },
  {
   "metadata": {
    "ExecuteTime": {
     "end_time": "2025-01-07T13:52:07.945502Z",
     "start_time": "2025-01-07T13:52:06.012947Z"
    }
   },
   "cell_type": "code",
   "source": [
    "clean_commune_df = clean_commune_df.withColumn(\"casd_lat\", lit(casd_latitude)).withColumn(\"casd_long\",lit(casd_longitude)).drop(\"centroid\")\n",
    "clean_commune_df.show(2)"
   ],
   "id": "176d05895e3c2b01",
   "outputs": [
    {
     "name": "stderr",
     "output_type": "stream",
     "text": [
      "[Stage 101:============================>                            (2 + 2) / 4]\r"
     ]
    },
    {
     "name": "stdout",
     "output_type": "stream",
     "text": [
      "+-----+------------------+------------------+-----------------+----------+---------+\n",
      "|insee|              name|         longitude|         latitude|  casd_lat|casd_long|\n",
      "+-----+------------------+------------------+-----------------+----------+---------+\n",
      "|94003|           arcueil| 2.334009668025032|48.80541926125269|48.8190155|2.3081911|\n",
      "|92004|asnières-sur-seine|2.2877930748988335| 48.9159100346966|48.8190155|2.3081911|\n",
      "+-----+------------------+------------------+-----------------+----------+---------+\n",
      "only showing top 2 rows\n",
      "\n"
     ]
    },
    {
     "name": "stderr",
     "output_type": "stream",
     "text": [
      "                                                                                \r"
     ]
    }
   ],
   "execution_count": 66
  },
  {
   "metadata": {
    "ExecuteTime": {
     "end_time": "2025-01-07T13:52:11.274677Z",
     "start_time": "2025-01-07T13:52:08.103401Z"
    }
   },
   "cell_type": "code",
   "source": [
    "distance_df = clean_commune_df.withColumn(\"distance_duration\",get_distance_duration(col(\"casd_lat\"),col(\"casd_long\"),col(\"latitude\"),col(\"longitude\")))\n",
    "distance_df.show(2)"
   ],
   "id": "b5364e8ba4489f07",
   "outputs": [
    {
     "name": "stderr",
     "output_type": "stream",
     "text": [
      "[Stage 106:>                                                        (0 + 1) / 1]\r"
     ]
    },
    {
     "name": "stdout",
     "output_type": "stream",
     "text": [
      "+-----+------------------+------------------+-----------------+----------+---------+-----------------+\n",
      "|insee|              name|         longitude|         latitude|  casd_lat|casd_long|distance_duration|\n",
      "+-----+------------------+------------------+-----------------+----------+---------+-----------------+\n",
      "|94003|           arcueil| 2.334009668025032|48.80541926125269|48.8190155|2.3081911|      3091.1;6.56|\n",
      "|92004|asnières-sur-seine|2.2877930748988335| 48.9159100346966|48.8190155|2.3081911|    16913.3;21.55|\n",
      "+-----+------------------+------------------+-----------------+----------+---------+-----------------+\n",
      "only showing top 2 rows\n",
      "\n"
     ]
    },
    {
     "name": "stderr",
     "output_type": "stream",
     "text": [
      "/home/pliu/git/ConstanceDataPlatform/cdp_venv/lib/python3.11/site-packages/urllib3/connectionpool.py:1099: InsecureRequestWarning: Unverified HTTPS request is being made to host 'maps-api.casd.local'. Adding certificate verification is strongly advised. See: https://urllib3.readthedocs.io/en/latest/advanced-usage.html#tls-warnings\n",
      "  warnings.warn(\n",
      "/home/pliu/git/ConstanceDataPlatform/cdp_venv/lib/python3.11/site-packages/urllib3/connectionpool.py:1099: InsecureRequestWarning: Unverified HTTPS request is being made to host 'maps-api.casd.local'. Adding certificate verification is strongly advised. See: https://urllib3.readthedocs.io/en/latest/advanced-usage.html#tls-warnings\n",
      "  warnings.warn(\n",
      "/home/pliu/git/ConstanceDataPlatform/cdp_venv/lib/python3.11/site-packages/urllib3/connectionpool.py:1099: InsecureRequestWarning: Unverified HTTPS request is being made to host 'maps-api.casd.local'. Adding certificate verification is strongly advised. See: https://urllib3.readthedocs.io/en/latest/advanced-usage.html#tls-warnings\n",
      "  warnings.warn(\n",
      "                                                                                \r"
     ]
    }
   ],
   "execution_count": 67
  },
  {
   "metadata": {
    "ExecuteTime": {
     "end_time": "2025-01-07T13:52:15.294552Z",
     "start_time": "2025-01-07T13:52:11.302936Z"
    }
   },
   "cell_type": "code",
   "source": [
    "clean_distance_df = (distance_df\n",
    "                              .withColumn(\"distance(meter)\", split(col(\"distance_duration\"),\";\")[0].cast(\"decimal\"))\n",
    "                              .withColumn(\"duration(minutes)\", split(col(\"distance_duration\"),\";\")[1].cast(\"decimal\"))\n",
    "                              .drop(\"distance_duration\"))\n",
    "\n",
    "clean_distance_df.orderBy(col(\"distance(meter)\")).show(5)"
   ],
   "id": "52696d212af1221e",
   "outputs": [
    {
     "name": "stderr",
     "output_type": "stream",
     "text": [
      "/home/pliu/git/ConstanceDataPlatform/cdp_venv/lib/python3.11/site-packages/urllib3/connectionpool.py:1099: InsecureRequestWarning: Unverified HTTPS request is being made to host 'maps-api.casd.local'. Adding certificate verification is strongly advised. See: https://urllib3.readthedocs.io/en/latest/advanced-usage.html#tls-warnings\n",
      "  warnings.warn(\n",
      "/home/pliu/git/ConstanceDataPlatform/cdp_venv/lib/python3.11/site-packages/urllib3/connectionpool.py:1099: InsecureRequestWarning: Unverified HTTPS request is being made to host 'maps-api.casd.local'. Adding certificate verification is strongly advised. See: https://urllib3.readthedocs.io/en/latest/advanced-usage.html#tls-warnings\n",
      "  warnings.warn(\n",
      "/home/pliu/git/ConstanceDataPlatform/cdp_venv/lib/python3.11/site-packages/urllib3/connectionpool.py:1099: InsecureRequestWarning: Unverified HTTPS request is being made to host 'maps-api.casd.local'. Adding certificate verification is strongly advised. See: https://urllib3.readthedocs.io/en/latest/advanced-usage.html#tls-warnings\n",
      "  warnings.warn(\n",
      "/home/pliu/git/ConstanceDataPlatform/cdp_venv/lib/python3.11/site-packages/urllib3/connectionpool.py:1099: InsecureRequestWarning: Unverified HTTPS request is being made to host 'maps-api.casd.local'. Adding certificate verification is strongly advised. See: https://urllib3.readthedocs.io/en/latest/advanced-usage.html#tls-warnings\n",
      "  warnings.warn(\n",
      "/home/pliu/git/ConstanceDataPlatform/cdp_venv/lib/python3.11/site-packages/urllib3/connectionpool.py:1099: InsecureRequestWarning: Unverified HTTPS request is being made to host 'maps-api.casd.local'. Adding certificate verification is strongly advised. See: https://urllib3.readthedocs.io/en/latest/advanced-usage.html#tls-warnings\n",
      "  warnings.warn(\n",
      "/home/pliu/git/ConstanceDataPlatform/cdp_venv/lib/python3.11/site-packages/urllib3/connectionpool.py:1099: InsecureRequestWarning: Unverified HTTPS request is being made to host 'maps-api.casd.local'. Adding certificate verification is strongly advised. See: https://urllib3.readthedocs.io/en/latest/advanced-usage.html#tls-warnings\n",
      "  warnings.warn(\n",
      "/home/pliu/git/ConstanceDataPlatform/cdp_venv/lib/python3.11/site-packages/urllib3/connectionpool.py:1099: InsecureRequestWarning: Unverified HTTPS request is being made to host 'maps-api.casd.local'. Adding certificate verification is strongly advised. See: https://urllib3.readthedocs.io/en/latest/advanced-usage.html#tls-warnings\n",
      "  warnings.warn(\n",
      "/home/pliu/git/ConstanceDataPlatform/cdp_venv/lib/python3.11/site-packages/urllib3/connectionpool.py:1099: InsecureRequestWarning: Unverified HTTPS request is being made to host 'maps-api.casd.local'. Adding certificate verification is strongly advised. See: https://urllib3.readthedocs.io/en/latest/advanced-usage.html#tls-warnings\n",
      "  warnings.warn(\n",
      "/home/pliu/git/ConstanceDataPlatform/cdp_venv/lib/python3.11/site-packages/urllib3/connectionpool.py:1099: InsecureRequestWarning: Unverified HTTPS request is being made to host 'maps-api.casd.local'. Adding certificate verification is strongly advised. See: https://urllib3.readthedocs.io/en/latest/advanced-usage.html#tls-warnings\n",
      "  warnings.warn(\n",
      "/home/pliu/git/ConstanceDataPlatform/cdp_venv/lib/python3.11/site-packages/urllib3/connectionpool.py:1099: InsecureRequestWarning: Unverified HTTPS request is being made to host 'maps-api.casd.local'. Adding certificate verification is strongly advised. See: https://urllib3.readthedocs.io/en/latest/advanced-usage.html#tls-warnings\n",
      "  warnings.warn(\n",
      "/home/pliu/git/ConstanceDataPlatform/cdp_venv/lib/python3.11/site-packages/urllib3/connectionpool.py:1099: InsecureRequestWarning: Unverified HTTPS request is being made to host 'maps-api.casd.local'. Adding certificate verification is strongly advised. See: https://urllib3.readthedocs.io/en/latest/advanced-usage.html#tls-warnings\n",
      "  warnings.warn(\n",
      "/home/pliu/git/ConstanceDataPlatform/cdp_venv/lib/python3.11/site-packages/urllib3/connectionpool.py:1099: InsecureRequestWarning: Unverified HTTPS request is being made to host 'maps-api.casd.local'. Adding certificate verification is strongly advised. See: https://urllib3.readthedocs.io/en/latest/advanced-usage.html#tls-warnings\n",
      "  warnings.warn(\n",
      "/home/pliu/git/ConstanceDataPlatform/cdp_venv/lib/python3.11/site-packages/urllib3/connectionpool.py:1099: InsecureRequestWarning: Unverified HTTPS request is being made to host 'maps-api.casd.local'. Adding certificate verification is strongly advised. See: https://urllib3.readthedocs.io/en/latest/advanced-usage.html#tls-warnings\n",
      "  warnings.warn(\n",
      "/home/pliu/git/ConstanceDataPlatform/cdp_venv/lib/python3.11/site-packages/urllib3/connectionpool.py:1099: InsecureRequestWarning: Unverified HTTPS request is being made to host 'maps-api.casd.local'. Adding certificate verification is strongly advised. See: https://urllib3.readthedocs.io/en/latest/advanced-usage.html#tls-warnings\n",
      "  warnings.warn(\n",
      "/home/pliu/git/ConstanceDataPlatform/cdp_venv/lib/python3.11/site-packages/urllib3/connectionpool.py:1099: InsecureRequestWarning: Unverified HTTPS request is being made to host 'maps-api.casd.local'. Adding certificate verification is strongly advised. See: https://urllib3.readthedocs.io/en/latest/advanced-usage.html#tls-warnings\n",
      "  warnings.warn(\n",
      "/home/pliu/git/ConstanceDataPlatform/cdp_venv/lib/python3.11/site-packages/urllib3/connectionpool.py:1099: InsecureRequestWarning: Unverified HTTPS request is being made to host 'maps-api.casd.local'. Adding certificate verification is strongly advised. See: https://urllib3.readthedocs.io/en/latest/advanced-usage.html#tls-warnings\n",
      "  warnings.warn(\n",
      "/home/pliu/git/ConstanceDataPlatform/cdp_venv/lib/python3.11/site-packages/urllib3/connectionpool.py:1099: InsecureRequestWarning: Unverified HTTPS request is being made to host 'maps-api.casd.local'. Adding certificate verification is strongly advised. See: https://urllib3.readthedocs.io/en/latest/advanced-usage.html#tls-warnings\n",
      "  warnings.warn(\n",
      "/home/pliu/git/ConstanceDataPlatform/cdp_venv/lib/python3.11/site-packages/urllib3/connectionpool.py:1099: InsecureRequestWarning: Unverified HTTPS request is being made to host 'maps-api.casd.local'. Adding certificate verification is strongly advised. See: https://urllib3.readthedocs.io/en/latest/advanced-usage.html#tls-warnings\n",
      "  warnings.warn(\n",
      "/home/pliu/git/ConstanceDataPlatform/cdp_venv/lib/python3.11/site-packages/urllib3/connectionpool.py:1099: InsecureRequestWarning: Unverified HTTPS request is being made to host 'maps-api.casd.local'. Adding certificate verification is strongly advised. See: https://urllib3.readthedocs.io/en/latest/advanced-usage.html#tls-warnings\n",
      "  warnings.warn(\n",
      "/home/pliu/git/ConstanceDataPlatform/cdp_venv/lib/python3.11/site-packages/urllib3/connectionpool.py:1099: InsecureRequestWarning: Unverified HTTPS request is being made to host 'maps-api.casd.local'. Adding certificate verification is strongly advised. See: https://urllib3.readthedocs.io/en/latest/advanced-usage.html#tls-warnings\n",
      "  warnings.warn(\n",
      "/home/pliu/git/ConstanceDataPlatform/cdp_venv/lib/python3.11/site-packages/urllib3/connectionpool.py:1099: InsecureRequestWarning: Unverified HTTPS request is being made to host 'maps-api.casd.local'. Adding certificate verification is strongly advised. See: https://urllib3.readthedocs.io/en/latest/advanced-usage.html#tls-warnings\n",
      "  warnings.warn(\n",
      "/home/pliu/git/ConstanceDataPlatform/cdp_venv/lib/python3.11/site-packages/urllib3/connectionpool.py:1099: InsecureRequestWarning: Unverified HTTPS request is being made to host 'maps-api.casd.local'. Adding certificate verification is strongly advised. See: https://urllib3.readthedocs.io/en/latest/advanced-usage.html#tls-warnings\n",
      "  warnings.warn(\n",
      "/home/pliu/git/ConstanceDataPlatform/cdp_venv/lib/python3.11/site-packages/urllib3/connectionpool.py:1099: InsecureRequestWarning: Unverified HTTPS request is being made to host 'maps-api.casd.local'. Adding certificate verification is strongly advised. See: https://urllib3.readthedocs.io/en/latest/advanced-usage.html#tls-warnings\n",
      "  warnings.warn(\n",
      "/home/pliu/git/ConstanceDataPlatform/cdp_venv/lib/python3.11/site-packages/urllib3/connectionpool.py:1099: InsecureRequestWarning: Unverified HTTPS request is being made to host 'maps-api.casd.local'. Adding certificate verification is strongly advised. See: https://urllib3.readthedocs.io/en/latest/advanced-usage.html#tls-warnings\n",
      "  warnings.warn(\n",
      "/home/pliu/git/ConstanceDataPlatform/cdp_venv/lib/python3.11/site-packages/urllib3/connectionpool.py:1099: InsecureRequestWarning: Unverified HTTPS request is being made to host 'maps-api.casd.local'. Adding certificate verification is strongly advised. See: https://urllib3.readthedocs.io/en/latest/advanced-usage.html#tls-warnings\n",
      "  warnings.warn(\n",
      "/home/pliu/git/ConstanceDataPlatform/cdp_venv/lib/python3.11/site-packages/urllib3/connectionpool.py:1099: InsecureRequestWarning: Unverified HTTPS request is being made to host 'maps-api.casd.local'. Adding certificate verification is strongly advised. See: https://urllib3.readthedocs.io/en/latest/advanced-usage.html#tls-warnings\n",
      "  warnings.warn(\n",
      "/home/pliu/git/ConstanceDataPlatform/cdp_venv/lib/python3.11/site-packages/urllib3/connectionpool.py:1099: InsecureRequestWarning: Unverified HTTPS request is being made to host 'maps-api.casd.local'. Adding certificate verification is strongly advised. See: https://urllib3.readthedocs.io/en/latest/advanced-usage.html#tls-warnings\n",
      "  warnings.warn(\n",
      "/home/pliu/git/ConstanceDataPlatform/cdp_venv/lib/python3.11/site-packages/urllib3/connectionpool.py:1099: InsecureRequestWarning: Unverified HTTPS request is being made to host 'maps-api.casd.local'. Adding certificate verification is strongly advised. See: https://urllib3.readthedocs.io/en/latest/advanced-usage.html#tls-warnings\n",
      "  warnings.warn(\n"
     ]
    },
    {
     "name": "stdout",
     "output_type": "stream",
     "text": [
      "+-----+---------+------------------+-----------------+----------+---------+---------------+-----------------+\n",
      "|insee|     name|         longitude|         latitude|  casd_lat|casd_long|distance(meter)|duration(minutes)|\n",
      "+-----+---------+------------------+-----------------+----------+---------+---------------+-----------------+\n",
      "|92049|montrouge|2.3171758940549156|48.81520615999795|48.8190155|2.3081911|            990|                2|\n",
      "|92046| malakoff|2.2960333939469506|48.81656028297312|48.8190155|2.3081911|           1842|                4|\n",
      "|92075|   vanves|2.2873917410939963|48.82154081411746|48.8190155|2.3081911|           2010|                4|\n",
      "|94003|  arcueil| 2.334009668025032|48.80541926125269|48.8190155|2.3081911|           3091|                7|\n",
      "|94037| gentilly|2.3442035303717184|48.81328243443601|48.8190155|2.3081911|           3842|                6|\n",
      "+-----+---------+------------------+-----------------+----------+---------+---------------+-----------------+\n",
      "only showing top 5 rows\n",
      "\n"
     ]
    },
    {
     "name": "stderr",
     "output_type": "stream",
     "text": [
      "/home/pliu/git/ConstanceDataPlatform/cdp_venv/lib/python3.11/site-packages/urllib3/connectionpool.py:1099: InsecureRequestWarning: Unverified HTTPS request is being made to host 'maps-api.casd.local'. Adding certificate verification is strongly advised. See: https://urllib3.readthedocs.io/en/latest/advanced-usage.html#tls-warnings\n",
      "  warnings.warn(\n",
      "/home/pliu/git/ConstanceDataPlatform/cdp_venv/lib/python3.11/site-packages/urllib3/connectionpool.py:1099: InsecureRequestWarning: Unverified HTTPS request is being made to host 'maps-api.casd.local'. Adding certificate verification is strongly advised. See: https://urllib3.readthedocs.io/en/latest/advanced-usage.html#tls-warnings\n",
      "  warnings.warn(\n",
      "                                                                                \r"
     ]
    }
   ],
   "execution_count": 68
  },
  {
   "metadata": {
    "ExecuteTime": {
     "end_time": "2025-01-07T13:41:30.217781Z",
     "start_time": "2025-01-07T13:41:30.214448Z"
    }
   },
   "cell_type": "code",
   "source": "",
   "id": "70304c5c08e5b47e",
   "outputs": [],
   "execution_count": null
  },
  {
   "metadata": {},
   "cell_type": "code",
   "outputs": [],
   "execution_count": null,
   "source": "",
   "id": "c407ca65dc0136ac"
  }
 ],
 "metadata": {
  "kernelspec": {
   "display_name": "Python 3",
   "language": "python",
   "name": "python3"
  },
  "language_info": {
   "codemirror_mode": {
    "name": "ipython",
    "version": 2
   },
   "file_extension": ".py",
   "mimetype": "text/x-python",
   "name": "python",
   "nbconvert_exporter": "python",
   "pygments_lexer": "ipython2",
   "version": "2.7.6"
  }
 },
 "nbformat": 4,
 "nbformat_minor": 5
}
