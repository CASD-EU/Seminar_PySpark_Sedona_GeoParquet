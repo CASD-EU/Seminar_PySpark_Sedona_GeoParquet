{
 "cells": [
  {
   "metadata": {},
   "cell_type": "markdown",
   "source": [
    "# 3. Use sedona to solve real world problems\n",
    "\n",
    "Suppose we need to solve the below problems:\n",
    "- Get the nearest communes of a giving location(i.e. Point)\n",
    "- Get a list of hospitals and doctors(with their geometry location) in Île-de-France\n",
    "- Get the nearest hospitals of a giving point.\n",
    "- Count hospitals in each commune in Île-de-France.\n",
    "\n"
   ],
   "id": "590515bfa7aa726e"
  },
  {
   "metadata": {
    "ExecuteTime": {
     "end_time": "2025-08-21T14:01:47.940410Z",
     "start_time": "2025-08-21T14:01:47.143139Z"
    }
   },
   "cell_type": "code",
   "source": [
    "from sedona.spark import *\n",
    "from pathlib import Path\n",
    "from pyspark.sql.functions import col, lower, lit, split, asc, count, desc\n",
    "from pyspark.sql import SparkSession, DataFrame\n"
   ],
   "id": "9d216f32a27943c8",
   "outputs": [],
   "execution_count": 1
  },
  {
   "metadata": {},
   "cell_type": "code",
   "outputs": [],
   "execution_count": null,
   "source": [
    "import os\n",
    "os.environ[\"PYSPARK_PYTHON\"]=\"python\"\n",
    "os.environ[\"PYSPARK_DRIVER_PYTHON\"]=\"python\""
   ],
   "id": "ecd126a99233777b"
  },
  {
   "metadata": {
    "ExecuteTime": {
     "end_time": "2025-08-21T14:01:47.952746Z",
     "start_time": "2025-08-21T14:01:47.948424Z"
    }
   },
   "cell_type": "code",
   "source": [
    "# get the project root dir\n",
    "project_root_dir = Path.cwd().parent\n",
    "# set the data path\n",
    "data_dir = f\"{project_root_dir}/data\"\n",
    "print(project_root_dir)"
   ],
   "id": "457947f17e07379c",
   "outputs": [
    {
     "name": "stdout",
     "output_type": "stream",
     "text": [
      "C:\\Users\\PLIU\\Documents\\git\\Seminar_PySpark_Sedona_GeoParquet\n"
     ]
    }
   ],
   "execution_count": 2
  },
  {
   "metadata": {
    "ExecuteTime": {
     "end_time": "2025-08-21T14:01:47.973180Z",
     "start_time": "2025-08-21T14:01:47.969754Z"
    }
   },
   "cell_type": "code",
   "source": "fr_commune_file_path = f\"{data_dir}/large_ds/communes_fr_geoparquet\"",
   "id": "795cb3bdfd8e2222",
   "outputs": [],
   "execution_count": 3
  },
  {
   "metadata": {
    "ExecuteTime": {
     "end_time": "2025-08-21T14:01:52.693579Z",
     "start_time": "2025-08-21T14:01:48.123067Z"
    }
   },
   "cell_type": "code",
   "source": [
    "# here we choose sedona 1.7.2 for spark 3.5.* build with scala 2.12\n",
    "jar_folder = Path(f\"{project_root_dir}/jars/sedona-35-212-172\")\n",
    "jar_list = [str(jar) for jar in jar_folder.iterdir() if jar.is_file()]\n",
    "jar_path = \",\".join(jar_list)\n",
    "\n",
    "# build a sedona session (sedona = 1.7.2) offline\n",
    "spark = SparkSession.builder \\\n",
    "    .appName(\"sedona_tutorial\") \\\n",
    "    .master(\"local[*]\") \\\n",
    "    .config(\"spark.driver.memory\", \"8g\") \\\n",
    "    .config(\"spark.executor.memoryOverhead\", \"2g\") \\\n",
    "    .config(\"spark.jars\", jar_path) \\\n",
    "    .getOrCreate()"
   ],
   "id": "38f6e9ea4816a222",
   "outputs": [],
   "execution_count": 4
  },
  {
   "metadata": {
    "ExecuteTime": {
     "end_time": "2025-08-21T14:01:58.698981Z",
     "start_time": "2025-08-21T14:01:52.752458Z"
    }
   },
   "cell_type": "code",
   "source": [
    "# create a sedona context\n",
    "sedona = SedonaContext.create(spark)"
   ],
   "id": "d115ca74f0fd4341",
   "outputs": [],
   "execution_count": 5
  },
  {
   "metadata": {
    "ExecuteTime": {
     "end_time": "2025-08-21T14:01:58.721859Z",
     "start_time": "2025-08-21T14:01:58.713018Z"
    }
   },
   "cell_type": "code",
   "source": [
    "# get the spark context\n",
    "sc = spark.sparkContext\n",
    "# use utf as default encoding\n",
    "sc.setSystemProperty(\"sedona.global.charset\", \"utf8\")"
   ],
   "id": "2e29362d97d8b50f",
   "outputs": [],
   "execution_count": 6
  },
  {
   "metadata": {},
   "cell_type": "markdown",
   "source": [
    "## Q1. Get the nearest communes of a location\n",
    "\n",
    "To solve this question, we need to:\n",
    " \n",
    "- With a given gps coordinates(WGS84/EPSG:4326), get the bird-view distances between the given point and all commune in France\n",
    "- Sort the distance in ascending order and show the communes with required numbers\n"
   ],
   "id": "416267c9039f9a39"
  },
  {
   "metadata": {
    "ExecuteTime": {
     "end_time": "2025-08-21T14:07:23.178079Z",
     "start_time": "2025-08-21T14:07:23.087999Z"
    }
   },
   "cell_type": "code",
   "source": "fr_commune_raw = sedona.read.format(\"geoparquet\").load(fr_commune_file_path)",
   "id": "5f2e5fc2b0d14e51",
   "outputs": [],
   "execution_count": 17
  },
  {
   "metadata": {
    "ExecuteTime": {
     "end_time": "2025-08-21T14:07:24.010947Z",
     "start_time": "2025-08-21T14:07:23.751144Z"
    }
   },
   "cell_type": "code",
   "source": [
    "fr_commune_raw.show(5)\n",
    "fr_commune_raw.printSchema()"
   ],
   "id": "46fc51e8be940d94",
   "outputs": [
    {
     "name": "stdout",
     "output_type": "stream",
     "text": [
      "+--------------------+--------------------+--------------------+------------+-----+\n",
      "|            geometry|           wikipedia|             surf_ha|         nom|insee|\n",
      "+--------------------+--------------------+--------------------+------------+-----+\n",
      "|POLYGON ((9.32016...|fr:Pie-d'Orezza  ...|     573.00000000...|Pie-d'Orezza|2B222|\n",
      "|POLYGON ((9.20010...|fr:Lano          ...|     824.00000000...|        Lano|2B137|\n",
      "|POLYGON ((9.27757...|fr:Cambia        ...|     833.00000000...|      Cambia|2B051|\n",
      "|POLYGON ((9.25119...|fr:Érone         ...|     393.00000000...|       Érone|2B106|\n",
      "|POLYGON ((9.28339...|fr:Oletta        ...|    2674.00000000...|      Oletta|2B185|\n",
      "+--------------------+--------------------+--------------------+------------+-----+\n",
      "only showing top 5 rows\n",
      "\n",
      "root\n",
      " |-- geometry: geometry (nullable = true)\n",
      " |-- wikipedia: string (nullable = true)\n",
      " |-- surf_ha: string (nullable = true)\n",
      " |-- nom: string (nullable = true)\n",
      " |-- insee: string (nullable = true)\n",
      "\n"
     ]
    }
   ],
   "execution_count": 18
  },
  {
   "metadata": {
    "ExecuteTime": {
     "end_time": "2025-08-21T14:07:24.328684Z",
     "start_time": "2025-08-21T14:07:24.299721Z"
    }
   },
   "cell_type": "code",
   "source": "fr_commune_df = fr_commune_raw.select(\"geometry\", \"nom\", \"insee\").withColumn(\"name\", lower(col(\"nom\"))).drop(\"nom\")",
   "id": "6368b2fa76c80e4c",
   "outputs": [],
   "execution_count": 19
  },
  {
   "metadata": {
    "ExecuteTime": {
     "end_time": "2025-08-21T14:07:25.024205Z",
     "start_time": "2025-08-21T14:07:24.796467Z"
    }
   },
   "cell_type": "code",
   "source": [
    "fr_commune_df.show(5)\n",
    "fr_commune_df.printSchema()"
   ],
   "id": "68a8069e2001240a",
   "outputs": [
    {
     "name": "stdout",
     "output_type": "stream",
     "text": [
      "+--------------------+-----+------------+\n",
      "|            geometry|insee|        name|\n",
      "+--------------------+-----+------------+\n",
      "|POLYGON ((9.32016...|2B222|pie-d'orezza|\n",
      "|POLYGON ((9.20010...|2B137|        lano|\n",
      "|POLYGON ((9.27757...|2B051|      cambia|\n",
      "|POLYGON ((9.25119...|2B106|       érone|\n",
      "|POLYGON ((9.28339...|2B185|      oletta|\n",
      "+--------------------+-----+------------+\n",
      "only showing top 5 rows\n",
      "\n",
      "root\n",
      " |-- geometry: geometry (nullable = true)\n",
      " |-- insee: string (nullable = true)\n",
      " |-- name: string (nullable = true)\n",
      "\n"
     ]
    }
   ],
   "execution_count": 20
  },
  {
   "metadata": {
    "ExecuteTime": {
     "end_time": "2025-08-21T14:07:25.114214Z",
     "start_time": "2025-08-21T14:07:25.110214Z"
    }
   },
   "cell_type": "code",
   "source": [
    "def get_nearest_commune(in_df: DataFrame, latitude: str, longitude: str, max_commune_number: int):\n",
    "    \"\"\"\n",
    "    This function calculates the nearest commune to the given latitude and longitude.\n",
    "    :param latitude: latitude of the given point\n",
    "    :param longitude: longitude of the given point\n",
    "    :param max_commune_number: Specify the max number of commune in the result\n",
    "    :param in_df: The input french commune data frame\n",
    "    :return: \n",
    "    \"\"\"\n",
    "    # Create reference point\n",
    "    point_col = ST_PointFromText(lit(f\"{longitude},{latitude}\"), lit(\",\"))\n",
    "\n",
    "    # Compute distance + select columns\n",
    "    nearest_commune_df = (in_df\n",
    "                          .withColumn(\"commune_name\", col(\"name\"))\n",
    "                          .withColumn(\"distance\", ST_DistanceSphere(point_col, col(\"geometry\")))\n",
    "                          .select(\"commune_name\", \"insee\", \"distance\")\n",
    "                          .orderBy(asc(\"distance\"))\n",
    "                          .limit(max_commune_number)\n",
    "                          )\n",
    "    return nearest_commune_df"
   ],
   "id": "4b22deaca53617f",
   "outputs": [],
   "execution_count": 21
  },
  {
   "metadata": {
    "ExecuteTime": {
     "end_time": "2025-08-21T14:07:25.379461Z",
     "start_time": "2025-08-21T14:07:25.376175Z"
    }
   },
   "cell_type": "code",
   "source": [
    "# the gps coordinates for casd is 48.8190155° N, 2.3081911° E\n",
    "\n",
    "casd_latitude = \"48.8190155\"\n",
    "casd_longitude = \"2.3081911\"\n",
    "\n",
    "casd_geo = f\"POINT({casd_longitude} {casd_latitude})\""
   ],
   "id": "2ace400f406e2ba3",
   "outputs": [],
   "execution_count": 22
  },
  {
   "metadata": {
    "ExecuteTime": {
     "end_time": "2025-08-21T14:07:25.860484Z",
     "start_time": "2025-08-21T14:07:25.776548Z"
    }
   },
   "cell_type": "code",
   "source": "casd_nearest_shape_df = get_nearest_commune(fr_commune_df, casd_latitude, casd_longitude, 36000)",
   "id": "c810a7a4fe420c76",
   "outputs": [],
   "execution_count": 23
  },
  {
   "metadata": {
    "ExecuteTime": {
     "end_time": "2025-08-21T14:07:28.262347Z",
     "start_time": "2025-08-21T14:07:26.038518Z"
    }
   },
   "cell_type": "code",
   "source": [
    "%%time\n",
    "\n",
    "casd_nearest_shape_df.show(50)\n",
    "casd_nearest_shape_df.count()"
   ],
   "id": "b6fcf58326a2ec48",
   "outputs": [
    {
     "name": "stdout",
     "output_type": "stream",
     "text": [
      "+--------------------+-----+------------------+\n",
      "|        commune_name|insee|          distance|\n",
      "+--------------------+-----+------------------+\n",
      "|           montrouge|92049| 782.4225524838963|\n",
      "|            malakoff|92046| 931.0760610707576|\n",
      "|              vanves|92075|1548.4653721969821|\n",
      "|           châtillon|92020|2244.2297097020064|\n",
      "|             bagneux|92007|2306.6895398469915|\n",
      "|             arcueil|94003|2420.7221725908407|\n",
      "|            gentilly|94037| 2712.776684694567|\n",
      "| issy-les-moulineaux|92040|3212.5435965134634|\n",
      "|              cachan|94016| 3506.334512834338|\n",
      "|  fontenay-aux-roses|92032| 3619.863974489254|\n",
      "|  le kremlin-bicêtre|94043| 3670.315588897698|\n",
      "|      bourg-la-reine|92014| 4337.380330327545|\n",
      "|             clamart|92023| 4677.596275760091|\n",
      "|           villejuif|94076| 4806.259641317598|\n",
      "|              sceaux|92071| 4807.635098158753|\n",
      "|               paris|75056| 4891.894805477514|\n",
      "|     l'haÿ-les-roses|94038| 5227.715047978959|\n",
      "|boulogne-billancourt|92012| 5418.541958378669|\n",
      "| le plessis-robinson|92060| 5581.290054832492|\n",
      "|      ivry-sur-seine|94041| 5871.149709177719|\n",
      "|              meudon|92048| 6149.257640298637|\n",
      "|    châtenay-malabry|92019| 6532.351422622813|\n",
      "|      chevilly-larue|94021| 6657.496101518737|\n",
      "|             fresnes|94034| 7007.565402678437|\n",
      "|     vitry-sur-seine|94081| 7197.208211871978|\n",
      "|   charenton-le-pont|94018| 7219.993387528257|\n",
      "|              sèvres|92072|  7245.92604538392|\n",
      "|              antony|92002| 7704.972572367387|\n",
      "|         saint-cloud|92064| 7739.846745558584|\n",
      "|   neuilly-sur-seine|92051|8011.3515227436155|\n",
      "|              rungis|94065| 8366.051061234635|\n",
      "|         saint-mandé|94067| 8457.899857450757|\n",
      "|            suresnes|92073| 8591.904584097121|\n",
      "|            chaville|92022| 8598.002934884047|\n",
      "|              thiais|94073| 8604.401690275678|\n",
      "|    levallois-perret|92044| 8607.065115579935|\n",
      "|verrières-le-buisson|91645|  8660.86099737349|\n",
      "|         alfortville|94002| 8666.833181630607|\n",
      "|             puteaux|92062| 8799.243056670199|\n",
      "| vélizy-villacoublay|78640| 9010.590841215797|\n",
      "|             garches|92033| 9313.711162654077|\n",
      "|       saint-maurice|94069| 9444.266907811516|\n",
      "|   clichy-la-garenne|92024| 9460.404378020841|\n",
      "|      maisons-alfort|94046| 9615.841667988345|\n",
      "|          courbevoie|92026| 9628.883142003584|\n",
      "|       ville-d'avray|92077| 9655.310261099155|\n",
      "|           vincennes|94080|  9996.13551487524|\n",
      "|       choisy-le-roi|94022|10039.719043424133|\n",
      "|             wissous|91689|10054.601299614145|\n",
      "|            bagnolet|93006|10055.532041653958|\n",
      "+--------------------+-----+------------------+\n",
      "only showing top 50 rows\n",
      "\n",
      "CPU times: total: 0 ns\n",
      "Wall time: 2.22 s\n"
     ]
    },
    {
     "data": {
      "text/plain": [
       "34955"
      ]
     },
     "execution_count": 24,
     "metadata": {},
     "output_type": "execute_result"
    }
   ],
   "execution_count": 24
  },
  {
   "metadata": {
    "ExecuteTime": {
     "end_time": "2025-08-21T14:07:28.288652Z",
     "start_time": "2025-08-21T14:07:28.285381Z"
    }
   },
   "cell_type": "code",
   "source": [
    "# the gps coordinates for Paul-Brousse is 48.7951606539 N, 2.3636935981 E\n",
    "pb_latitude = \"48.7951606539\"\n",
    "pb_longitude = \"2.3636935981\"\n",
    "pb_geo = f\"POINT({pb_longitude} {pb_latitude})\""
   ],
   "id": "54e88d0538ee70bd",
   "outputs": [],
   "execution_count": 25
  },
  {
   "metadata": {
    "ExecuteTime": {
     "end_time": "2025-08-21T14:07:28.417844Z",
     "start_time": "2025-08-21T14:07:28.300663Z"
    }
   },
   "cell_type": "code",
   "source": "pb_nearest_shape_df = get_nearest_commune(fr_commune_df, pb_latitude, pb_longitude, 36000)",
   "id": "1fb9f023e9fd6cd3",
   "outputs": [],
   "execution_count": 26
  },
  {
   "metadata": {
    "ExecuteTime": {
     "end_time": "2025-08-21T14:07:31.211043Z",
     "start_time": "2025-08-21T14:07:28.957252Z"
    }
   },
   "cell_type": "code",
   "source": [
    "%%time\n",
    "\n",
    "pb_nearest_shape_df.show(10)\n",
    "pb_nearest_shape_df.count()"
   ],
   "id": "5065a03e903ae495",
   "outputs": [
    {
     "name": "stdout",
     "output_type": "stream",
     "text": [
      "+------------------+-----+------------------+\n",
      "|      commune_name|insee|          distance|\n",
      "+------------------+-----+------------------+\n",
      "|         villejuif|94076|417.13873642972163|\n",
      "|le kremlin-bicêtre|94043|1616.4950323944458|\n",
      "|            cachan|94016|2350.1367372643913|\n",
      "|   vitry-sur-seine|94081|2391.3950596721934|\n",
      "|           arcueil|94003|2455.2075433323284|\n",
      "|          gentilly|94037|2469.3891101286713|\n",
      "|    ivry-sur-seine|94041|2592.6844198231634|\n",
      "|   l'haÿ-les-roses|94038|2842.8348963659664|\n",
      "|    chevilly-larue|94021|3239.0306951319963|\n",
      "|    bourg-la-reine|92014|3788.6932471326836|\n",
      "+------------------+-----+------------------+\n",
      "only showing top 10 rows\n",
      "\n",
      "CPU times: total: 0 ns\n",
      "Wall time: 2.24 s\n"
     ]
    },
    {
     "data": {
      "text/plain": [
       "34955"
      ]
     },
     "execution_count": 27,
     "metadata": {},
     "output_type": "execute_result"
    }
   ],
   "execution_count": 27
  },
  {
   "metadata": {},
   "cell_type": "markdown",
   "source": [
    "## Q2. Get a list of hospitals and doctors(with their geometry location) in Île-de-France\n",
    "\n",
    "To get the list of hospitals and doctors in Île-de-France, we use the (OSM)Open Street Map sample data.\n",
    "\n",
    "The sample data which I will use in this notebook can be downloaded from this page: \n",
    "https://download.geofabrik.de/europe/france.html. I use the `Ile-de-France` map (`ile-de-france-latest.osm.pbf`)"
   ],
   "id": "b298c86cadfbb837"
  },
  {
   "metadata": {
    "ExecuteTime": {
     "end_time": "2025-08-21T14:07:36.206721Z",
     "start_time": "2025-08-21T14:07:36.052441Z"
    }
   },
   "cell_type": "code",
   "source": [
    "ile_france_pbf_path = f\"{data_dir}/large_ds/ile-de-france-geo-parquet\"\n",
    "osm_ile_france_df = spark.read.parquet(ile_france_pbf_path)"
   ],
   "id": "ad2b99e2b01f61a9",
   "outputs": [],
   "execution_count": 28
  },
  {
   "metadata": {
    "ExecuteTime": {
     "end_time": "2025-08-21T14:07:37.411672Z",
     "start_time": "2025-08-21T14:07:36.777421Z"
    }
   },
   "cell_type": "code",
   "source": "osm_ile_france_df.show(15)",
   "id": "f6b9a2e0e35cf9e0",
   "outputs": [
    {
     "name": "stdout",
     "output_type": "stream",
     "text": [
      "+------+----+------------------+------------------+-----+---------+--------------------+--------------------+\n",
      "|    id|type|          latitude|         longitude|nodes|relations|                tags|                info|\n",
      "+------+----+------------------+------------------+-----+---------+--------------------+--------------------+\n",
      "|122626|   0|49.115966300000004|         2.5549119|   []|       []|                  {}|{3, 2020-05-10 11...|\n",
      "|122627|   0|49.110294100000004|         2.5521725|   []|       []|                  {}|{4, 2009-02-13 19...|\n",
      "|122631|   0|        49.0834393|2.5511375000000003|   []|       []|                  {}|{15, 2021-06-30 1...|\n",
      "|122632|   0|        49.0675225|2.5524679000000003|   []|       []|                  {}|{17, 2019-04-10 1...|\n",
      "|122633|   0|         49.063616|2.5522412000000005|   []|       []|                  {}|{17, 2009-02-13 1...|\n",
      "|122634|   0|        49.0597465|2.5509097000000005|   []|       []|                  {}|{2, 2009-02-13 19...|\n",
      "|122635|   0|        49.0551989|2.5486690000000003|   []|       []|{highway -> emerg...|{20, 2023-03-05 1...|\n",
      "|122637|   0|         49.046553|2.5460228000000003|   []|       []|                  {}|{3, 2012-03-21 19...|\n",
      "|122638|   0|49.042466000000005|2.5435980000000002|   []|       []|                  {}|{24, 2009-02-13 1...|\n",
      "|122639|   0|49.039122400000004|2.5421644000000003|   []|       []|                  {}|{6, 2014-05-31 18...|\n",
      "|122640|   0|49.033757900000005|2.5402285000000004|   []|       []|                  {}|{4, 2019-04-10 11...|\n",
      "|122642|   0|49.006576100000004|2.5269186000000006|   []|       []|                  {}|{8, 2012-09-01 00...|\n",
      "|122922|   0|48.875346400000005|2.4402228000000004|   []|       []|                  {}|{3, 2014-05-07 10...|\n",
      "|122923|   0| 48.87823900000001|2.4462307000000005|   []|       []|                  {}|{3, 2010-10-18 22...|\n",
      "|122924|   0| 48.88325530000001|2.4577488000000005|   []|       []|{source -> data.g...|{4, 2020-06-08 13...|\n",
      "+------+----+------------------+------------------+-----+---------+--------------------+--------------------+\n",
      "only showing top 15 rows\n",
      "\n"
     ]
    }
   ],
   "execution_count": 29
  },
  {
   "metadata": {
    "ExecuteTime": {
     "end_time": "2025-08-21T14:07:37.549192Z",
     "start_time": "2025-08-21T14:07:37.544107Z"
    }
   },
   "cell_type": "code",
   "source": "osm_ile_france_df.printSchema()",
   "id": "5923e8289570dee5",
   "outputs": [
    {
     "name": "stdout",
     "output_type": "stream",
     "text": [
      "root\n",
      " |-- id: long (nullable = true)\n",
      " |-- type: byte (nullable = true)\n",
      " |-- latitude: double (nullable = true)\n",
      " |-- longitude: double (nullable = true)\n",
      " |-- nodes: array (nullable = true)\n",
      " |    |-- element: long (containsNull = true)\n",
      " |-- relations: array (nullable = true)\n",
      " |    |-- element: struct (containsNull = true)\n",
      " |    |    |-- id: long (nullable = true)\n",
      " |    |    |-- relationType: byte (nullable = true)\n",
      " |    |    |-- role: string (nullable = true)\n",
      " |-- tags: map (nullable = true)\n",
      " |    |-- key: string\n",
      " |    |-- value: string (valueContainsNull = true)\n",
      " |-- info: struct (nullable = true)\n",
      " |    |-- version: integer (nullable = true)\n",
      " |    |-- timestamp: timestamp (nullable = true)\n",
      " |    |-- changeset: long (nullable = true)\n",
      " |    |-- userId: integer (nullable = true)\n",
      " |    |-- userName: string (nullable = true)\n",
      " |    |-- visible: boolean (nullable = true)\n",
      "\n"
     ]
    }
   ],
   "execution_count": 30
  },
  {
   "metadata": {
    "ExecuteTime": {
     "end_time": "2025-08-21T14:07:37.736327Z",
     "start_time": "2025-08-21T14:07:37.732200Z"
    }
   },
   "cell_type": "code",
   "source": [
    "def show_row_details(entity_id: int):\n",
    "    sample_row = osm_ile_france_df.filter(osm_ile_france_df.id == entity_id)\n",
    "    sample_row.show(truncate=False, vertical=True)"
   ],
   "id": "b3d00e0540aeb26c",
   "outputs": [],
   "execution_count": 31
  },
  {
   "metadata": {
    "ExecuteTime": {
     "end_time": "2025-08-21T14:07:38.385767Z",
     "start_time": "2025-08-21T14:07:38.269418Z"
    }
   },
   "cell_type": "code",
   "source": [
    "hospital_df = osm_ile_france_df.select(\"id\", \"latitude\", \"longitude\", \"tags\").where(\n",
    "    \"element_at(tags, 'amenity') in ('hospital', 'clinic')\")"
   ],
   "id": "861cf0fb87f959f4",
   "outputs": [],
   "execution_count": 32
  },
  {
   "metadata": {
    "ExecuteTime": {
     "end_time": "2025-08-21T14:07:38.732008Z",
     "start_time": "2025-08-21T14:07:38.683954Z"
    }
   },
   "cell_type": "code",
   "source": [
    "doctor_df = osm_ile_france_df.select(\"id\", \"latitude\", \"longitude\", \"tags\").where(\n",
    "    \"element_at(tags, 'amenity') == 'doctors'\")"
   ],
   "id": "830345a14ae106cd",
   "outputs": [],
   "execution_count": 33
  },
  {
   "metadata": {
    "ExecuteTime": {
     "end_time": "2025-08-21T14:07:40.804578Z",
     "start_time": "2025-08-21T14:07:39.175974Z"
    }
   },
   "cell_type": "code",
   "source": "print(f\"total hosptitals number in ile-de-france: {hospital_df.count()}\")",
   "id": "28806a02f498e28c",
   "outputs": [
    {
     "name": "stdout",
     "output_type": "stream",
     "text": [
      "total hosptitals number in ile-de-france: 564\n"
     ]
    }
   ],
   "execution_count": 34
  },
  {
   "metadata": {
    "ExecuteTime": {
     "end_time": "2025-08-21T14:07:41.939032Z",
     "start_time": "2025-08-21T14:07:40.856875Z"
    }
   },
   "cell_type": "code",
   "source": "hospital_df.show(5)",
   "id": "67e81b32104077a",
   "outputs": [
    {
     "name": "stdout",
     "output_type": "stream",
     "text": [
      "+---------+------------------+------------------+--------------------+\n",
      "|       id|          latitude|         longitude|                tags|\n",
      "+---------+------------------+------------------+--------------------+\n",
      "|452401907| 48.78635369999983| 2.291711499999987|{amenity -> hospi...|\n",
      "|476313165|48.878517699999826| 2.414601899999999|{name -> Maternit...|\n",
      "|483569726| 48.82353579999984|2.2768316999999985|{website -> https...|\n",
      "|670633220|48.722277100000056|2.4525995000000083|{name -> Centre H...|\n",
      "|783760856| 48.83526160000006|         2.2442898|{name -> Centre d...|\n",
      "+---------+------------------+------------------+--------------------+\n",
      "only showing top 5 rows\n",
      "\n"
     ]
    }
   ],
   "execution_count": 35
  },
  {
   "metadata": {
    "ExecuteTime": {
     "end_time": "2025-08-21T14:07:43.113422Z",
     "start_time": "2025-08-21T14:07:42.629296Z"
    }
   },
   "cell_type": "code",
   "source": "show_row_details(670633220)",
   "id": "818e8ddc649380d8",
   "outputs": [
    {
     "name": "stdout",
     "output_type": "stream",
     "text": [
      "-RECORD 0--------------------------------------------------------------------------------------------------------------------------------------------------------------------------------------------------------------------------------------------------------------------------------------------------------------------------------------------------------------------------------------------------------------------------------------------------------------------------------------------------------------------------------------------------------------------------------------------------------------------------------------------------------------------------------------------------------------\n",
      " id        | 670633220                                                                                                                                                                                                                                                                                                                                                                                                                                                                                                                                                                                                                                                                                                 \n",
      " type      | 0                                                                                                                                                                                                                                                                                                                                                                                                                                                                                                                                                                                                                                                                                                         \n",
      " latitude  | 48.722277100000056                                                                                                                                                                                                                                                                                                                                                                                                                                                                                                                                                                                                                                                                                        \n",
      " longitude | 2.4525995000000083                                                                                                                                                                                                                                                                                                                                                                                                                                                                                                                                                                                                                                                                                        \n",
      " nodes     | []                                                                                                                                                                                                                                                                                                                                                                                                                                                                                                                                                                                                                                                                                                        \n",
      " relations | []                                                                                                                                                                                                                                                                                                                                                                                                                                                                                                                                                                                                                                                                                                        \n",
      " tags      | {name -> Centre Hospitalier Intercommunal Lucie et Raymond Aubrac, source -> ©IGN 2010 dans le cadre de la cartographie réglementaire, addr:street -> Allée de la Source, addr:postcode -> 94190, url -> http://geodesie.ign.fr/fiches/index.php?module=e&action=fichepdf&source=carte&sit_no=94078A, description -> Hôpital : Paratonnerre : Base - Point vu en place en 2006, amenity -> hospital, ref -> 94078A - 1, addr:housenumber -> 40, ele -> 107.43, addr:city -> Villeneuve-Saint-Georges, note -> Ne pas déplacer ce point, cf. - Do not move this node, see - http://wiki.openstreetmap.org/wiki/WikiProject_France/Repères_Géodésiques#Permanence_des_rep.C3.A8res, healthcare -> hospital} \n",
      " info      | {3, 2023-02-16 17:56:32, 0, 0, , NULL}                                                                                                                                                                                                                                                                                                                                                                                                                                                                                                                                                                                                                                                                    \n",
      "\n"
     ]
    }
   ],
   "execution_count": 36
  },
  {
   "metadata": {
    "ExecuteTime": {
     "end_time": "2025-08-21T14:07:45.291744Z",
     "start_time": "2025-08-21T14:07:44.220145Z"
    }
   },
   "cell_type": "code",
   "source": "print(f\"total doctors number in ile-de-france: {doctor_df.count()} \")",
   "id": "e47204ce353e313f",
   "outputs": [
    {
     "name": "stdout",
     "output_type": "stream",
     "text": [
      "total doctors number in ile-de-france: 1298 \n"
     ]
    }
   ],
   "execution_count": 37
  },
  {
   "metadata": {
    "ExecuteTime": {
     "end_time": "2025-08-21T14:07:46.174415Z",
     "start_time": "2025-08-21T14:07:45.918057Z"
    }
   },
   "cell_type": "code",
   "source": "doctor_df.show(5)",
   "id": "690f45749cf3b775",
   "outputs": [
    {
     "name": "stdout",
     "output_type": "stream",
     "text": [
      "+---------+------------------+------------------+--------------------+\n",
      "|       id|          latitude|         longitude|                tags|\n",
      "+---------+------------------+------------------+--------------------+\n",
      "|293986528| 48.86378410000007|2.3814177000000036|{amenity -> docto...|\n",
      "|302305751|        48.5833366|2.2414200000000104|{amenity -> docto...|\n",
      "|416708946|48.872033599999774|2.3765707000000202|{website -> https...|\n",
      "|456140610| 48.75835359999986| 3.048538999999998|{amenity -> docto...|\n",
      "|477197148|49.010437500000016|2.0296950999999948|{amenity -> doctors}|\n",
      "+---------+------------------+------------------+--------------------+\n",
      "only showing top 5 rows\n",
      "\n"
     ]
    }
   ],
   "execution_count": 38
  },
  {
   "metadata": {
    "ExecuteTime": {
     "end_time": "2025-08-21T14:07:47.239617Z",
     "start_time": "2025-08-21T14:07:46.981513Z"
    }
   },
   "cell_type": "code",
   "source": "show_row_details(416708946)",
   "id": "69021d65b221aca4",
   "outputs": [
    {
     "name": "stdout",
     "output_type": "stream",
     "text": [
      "-RECORD 0-------------------------------------------------------------------------------------------------------------------------------------------------------------------------------------------------------------------------------------------------------------\n",
      " id        | 416708946                                                                                                                                                                                                                                                \n",
      " type      | 0                                                                                                                                                                                                                                                        \n",
      " latitude  | 48.872033599999774                                                                                                                                                                                                                                       \n",
      " longitude | 2.3765707000000202                                                                                                                                                                                                                                       \n",
      " nodes     | []                                                                                                                                                                                                                                                       \n",
      " relations | []                                                                                                                                                                                                                                                       \n",
      " tags      | {website -> https://dentylis.fr/dentistes-paris-10-belleville/, name -> Centre dentaire et ophtalmologie Paris 10 - Belleville, amenity -> doctors, opening_hours -> Mo-Fr 09:00-19:00, Sa 09:00-18:00, healthcare -> doctor;dentist, wheelchair -> yes} \n",
      " info      | {13, 2023-11-10 21:41:55, 0, 0, , NULL}                                                                                                                                                                                                                  \n",
      "\n"
     ]
    }
   ],
   "execution_count": 39
  },
  {
   "metadata": {},
   "cell_type": "markdown",
   "source": [
    "## Work with different CRS system\n",
    "\n",
    "If your geospatial datasets use different CRS system, apache sedona allows you to convert geometry from one crs to another crs system.\n"
   ],
   "id": "e1a26675e48ee9aa"
  },
  {
   "metadata": {
    "ExecuteTime": {
     "end_time": "2025-08-21T14:07:48.375810Z",
     "start_time": "2025-08-21T14:07:48.369722Z"
    }
   },
   "cell_type": "code",
   "source": [
    "from pyspark.sql import DataFrame\n",
    "\n",
    "\n",
    "def build_osm_geo_df(source_df: DataFrame, lat_col_name: str, long_col_name: str,\n",
    "                     target_geo_col_name: str = \"location\"):\n",
    "    \"\"\"\n",
    "    This function takes a raw osm dataframe, and return a geo dataframe which convert raw lat, long into geo column\n",
    "    \"\"\"\n",
    "    target_df = (\n",
    "        source_df.select(\n",
    "            col(\"id\"),\n",
    "            col(\"tags\"),\n",
    "            ST_Point(\n",
    "                col(long_col_name).cast(\"decimal(24,20)\"),\n",
    "                col(lat_col_name).cast(\"decimal(24,20)\")\n",
    "            ).alias(target_geo_col_name)\n",
    "        )\n",
    "    )\n",
    "    return target_df\n",
    "\n",
    "\n",
    "def build_osm_geo_df_with_custom_crs_code(source_df: DataFrame, lat_col_name: str, long_col_name: str, source_epsg_code: str,\n",
    "                     target_epsg_code: str, target_geo_col_name: str = \"location\"):\n",
    "    \"\"\"\n",
    "    This function takes a dataframe with gps coordinate column(string type), convert the string column to a geometry column. The returned dataframe can be stored as geoparquet.\n",
    "    :param source_df: \n",
    "    :type source_df: \n",
    "    :param long_col_name: longitude column name\n",
    "    :type long_col_name: str\n",
    "    :param lat_col_name: latitude column name\n",
    "    :type lat_col_name: str\n",
    "    :param source_epsg_code: the csr code of the input gps coordinates\n",
    "    :type source_epsg_code: str\n",
    "    :param target_epsg_code: the csr code of the output gps coordinates\n",
    "    :type target_epsg_code: str\n",
    "    :param target_geo_col_name: \n",
    "    :type target_geo_col_name: \n",
    "    :return: \n",
    "    :rtype: \n",
    "    \"\"\"\n",
    "    # create a temp view of the source df, the table name is the name of the data frame\n",
    "    target_df = (\n",
    "        source_df.select(\n",
    "            col(\"id\"),\n",
    "            col(\"tags\"),\n",
    "            ST_Transform(\n",
    "                ST_Point(\n",
    "                    col(long_col_name).cast(\"decimal(24,20)\"),\n",
    "                    col(lat_col_name).cast(\"decimal(24,20)\")\n",
    "                ),\n",
    "                lit(source_epsg_code),\n",
    "                lit(target_epsg_code)\n",
    "            ).alias(target_geo_col_name)\n",
    "        )\n",
    "    )\n",
    "    return target_df\n",
    "\n",
    "\n",
    "def geo_table_convertor(source_table_name: str, lat_col_name: str, long_col_name: str, source_epsg_code: str,\n",
    "                        target_epsg_code: str, target_geo_col_name: str = \"location\"):\n",
    "    \"\"\"\n",
    "    This function takes a spark temp view with gps coordinate column(string type), convert the string column to a geometry column. The returned dataframe can be stored as geoparquet.\n",
    "    :param source_table_name: \n",
    "    :type source_table_name: \n",
    "    :param target_geo_col_name: \n",
    "    :type target_geo_col_name: \n",
    "    :param long_col_name: \n",
    "    :type long_col_name: \n",
    "    :param lat_col_name: \n",
    "    :type lat_col_name: \n",
    "    :param source_epsg_code: \n",
    "    :type source_epsg_code: \n",
    "    :param target_epsg_code: \n",
    "    :type target_epsg_code: \n",
    "    :return: \n",
    "    :rtype: \n",
    "    \"\"\"\n",
    "    # create a temp view of the source df, the table name is the name of the data frame\n",
    "    target_df = sedona.sql(f\"\"\"\n",
    "    SELECT \n",
    "    ST_Transform(ST_Point(CAST({long_col_name} AS Decimal(24,20)), CAST({lat_col_name} AS Decimal(24,20))), '{source_epsg_code}', '{target_epsg_code}') AS {target_geo_col_name} from {source_table_name}\"\"\")\n",
    "    return target_df\n"
   ],
   "id": "3b1f05f53fa9222d",
   "outputs": [],
   "execution_count": 40
  },
  {
   "metadata": {
    "ExecuteTime": {
     "end_time": "2025-08-21T14:07:49.697945Z",
     "start_time": "2025-08-21T14:07:48.825118Z"
    }
   },
   "cell_type": "code",
   "source": [
    "hospital_geo_df = build_osm_geo_df(hospital_df,\"latitude\",\"longitude\")\n",
    "hospital_geo_df.show(5)"
   ],
   "id": "4c3dc80e66cac927",
   "outputs": [
    {
     "name": "stdout",
     "output_type": "stream",
     "text": [
      "+---------+--------------------+--------------------+\n",
      "|       id|                tags|            location|\n",
      "+---------+--------------------+--------------------+\n",
      "|452401907|{amenity -> hospi...|POINT (2.29171149...|\n",
      "|476313165|{name -> Maternit...|POINT (2.41460189...|\n",
      "|483569726|{website -> https...|POINT (2.27683169...|\n",
      "|670633220|{name -> Centre H...|POINT (2.45259950...|\n",
      "|783760856|{name -> Centre d...|POINT (2.2442898 ...|\n",
      "+---------+--------------------+--------------------+\n",
      "only showing top 5 rows\n",
      "\n"
     ]
    }
   ],
   "execution_count": 41
  },
  {
   "metadata": {
    "ExecuteTime": {
     "end_time": "2025-08-21T14:07:49.820443Z",
     "start_time": "2025-08-21T14:07:49.755Z"
    }
   },
   "cell_type": "code",
   "source": [
    "# Set up the epsg code value, osm uses epsg:25832\n",
    "source_epsg_code = \"epsg:4326\"\n",
    "# eu centered epsg code, more information can be found https://epsg.io/25832\n",
    "target_epsg_code = \"epsg:3857\"\n",
    "\n",
    "hospital_new_code_df = build_osm_geo_df_with_custom_crs_code(hospital_df, \"latitude\", \"longitude\", source_epsg_code, target_epsg_code)\n"
   ],
   "id": "45677a43d957272b",
   "outputs": [],
   "execution_count": 42
  },
  {
   "metadata": {
    "ExecuteTime": {
     "end_time": "2025-08-21T14:07:52.080086Z",
     "start_time": "2025-08-21T14:07:50.387429Z"
    }
   },
   "cell_type": "code",
   "source": "hospital_new_code_df.show(5)",
   "id": "7e7d232422dd2192",
   "outputs": [
    {
     "name": "stdout",
     "output_type": "stream",
     "text": [
      "+---------+--------------------+--------------------+\n",
      "|       id|                tags|            location|\n",
      "+---------+--------------------+--------------------+\n",
      "|452401907|{amenity -> hospi...|POINT (255112.157...|\n",
      "|476313165|{name -> Maternit...|POINT (268792.253...|\n",
      "|483569726|{website -> https...|POINT (253455.745...|\n",
      "|670633220|{name -> Centre H...|POINT (273022.127...|\n",
      "|783760856|{name -> Centre d...|POINT (249833.197...|\n",
      "+---------+--------------------+--------------------+\n",
      "only showing top 5 rows\n",
      "\n"
     ]
    }
   ],
   "execution_count": 43
  },
  {
   "metadata": {},
   "cell_type": "markdown",
   "source": [
    "## Q3. Get nearest hospitals of a giving point.\n",
    "\n",
    "The osm sample data does not provide geometry column directly, so the first step is to build a geometry column with the giving gps coordinates."
   ],
   "id": "4c5cc4de8d83ab37"
  },
  {
   "metadata": {
    "ExecuteTime": {
     "end_time": "2025-08-21T14:07:55.141845Z",
     "start_time": "2025-08-21T14:07:53.453734Z"
    }
   },
   "cell_type": "code",
   "source": [
    "hospital_geo_df.cache()\n",
    "hospital_geo_df.show(1,truncate=False,vertical=True)"
   ],
   "id": "e381d03c238a9ced",
   "outputs": [
    {
     "name": "stdout",
     "output_type": "stream",
     "text": [
      "-RECORD 0------------------------------------------------------------------------------------------------------------------------------------------------\n",
      " id       | 452401907                                                                                                                                    \n",
      " tags     | {amenity -> hospital, name -> Clinalliance Fontenay-aux-Roses, ref:FR:FINESS -> 920300381, website -> https://www.clinalliance.fr/fontenay/} \n",
      " location | POINT (2.291711499999987 48.78635369999983)                                                                                                  \n",
      "only showing top 1 row\n",
      "\n"
     ]
    }
   ],
   "execution_count": 44
  },
  {
   "metadata": {
    "ExecuteTime": {
     "end_time": "2025-08-21T14:07:55.155730Z",
     "start_time": "2025-08-21T14:07:55.149858Z"
    }
   },
   "cell_type": "code",
   "source": "hospital_geo_df.printSchema()",
   "id": "b1bcfd5c808ebc4",
   "outputs": [
    {
     "name": "stdout",
     "output_type": "stream",
     "text": [
      "root\n",
      " |-- id: long (nullable = true)\n",
      " |-- tags: map (nullable = true)\n",
      " |    |-- key: string\n",
      " |    |-- value: string (valueContainsNull = true)\n",
      " |-- location: geometry (nullable = true)\n",
      "\n"
     ]
    }
   ],
   "execution_count": 45
  },
  {
   "metadata": {
    "ExecuteTime": {
     "end_time": "2025-08-21T14:07:55.187016Z",
     "start_time": "2025-08-21T14:07:55.180809Z"
    }
   },
   "cell_type": "code",
   "source": [
    "def get_near_hospital_v1(hospitals:DataFrame, patient_loc: str, distance: float):\n",
    "    \"\"\"\n",
    "    This function get the nearest hospital based on distance with a given patient location\n",
    "    :param hospitals: the available hospital geo dataframe\n",
    "    :param patient_loc: gps coordinates in format \"POINT(longitude, latitude)\"\n",
    "    :param distance: the max distance between hospital and patient\n",
    "    :return: \n",
    "    \"\"\"\n",
    "    tmp_df = (\n",
    "    hospitals\n",
    "    .withColumn(\n",
    "        \"distance_meter\",\n",
    "        ST_DistanceSphere(ST_GeomFromWKT(lit(patient_loc)), col(\"location\"))\n",
    "    )\n",
    "    .select(\"id\", \"tags\", \"location\", \"distance_meter\")\n",
    "    .orderBy(asc(\"distance_meter\"))\n",
    ")\n",
    "    near_hospital_df = tmp_df.filter(tmp_df.distance_meter <= distance)\n",
    "    return near_hospital_df"
   ],
   "id": "ca31d1c4b91ca56b",
   "outputs": [],
   "execution_count": 46
  },
  {
   "metadata": {
    "ExecuteTime": {
     "end_time": "2025-08-21T14:07:55.625650Z",
     "start_time": "2025-08-21T14:07:55.621647Z"
    }
   },
   "cell_type": "code",
   "source": [
    "def get_near_hospital_v2(hospitals:DataFrame, patient_loc: str, distance: float):\n",
    "    \"\"\"\n",
    "    This function get the nearest hospital based on distance with a given patient location\n",
    "    :param hospitals: the available hospital geo dataframe\n",
    "    :param patient_loc: gps coordinates in format \"POINT(longitude, latitude)\"\n",
    "    :param distance: the max distance between hospital and patient\n",
    "    :return:\n",
    "    \"\"\"\n",
    "    return hospitals.filter(ST_DWithin(ST_GeomFromWKT(lit(patient_loc)), col(\"location\"), distance))\n"
   ],
   "id": "a2a05eeff5518dc7",
   "outputs": [],
   "execution_count": 47
  },
  {
   "metadata": {},
   "cell_type": "markdown",
   "source": [
    "To better understand the query, we use this [website](https://www.keene.edu/campus/maps/tool/) \n",
    "to show gps coordinates on a map.\n",
    "\n",
    "CASD coordinates:\n",
    "```text\n",
    "2.3081911,48.8190155\n",
    "```\n",
    "\n",
    "Paul-Brousse coordinates:\n",
    "```text\n",
    "2.3636935981,48.7951606539\n",
    "```\n",
    "\n"
   ],
   "id": "a2c4d38d69823240"
  },
  {
   "metadata": {
    "ExecuteTime": {
     "end_time": "2025-08-21T14:07:56.799290Z",
     "start_time": "2025-08-21T14:07:56.794419Z"
    }
   },
   "cell_type": "code",
   "source": [
    "print(f\"CASD coordinates: {casd_geo}\")\n",
    "print(f\"Paul-Brousse coordinates: {pb_geo}\")"
   ],
   "id": "88f5527f3ee0f98b",
   "outputs": [
    {
     "name": "stdout",
     "output_type": "stream",
     "text": [
      "CASD coordinates: POINT(2.3081911 48.8190155)\n",
      "Paul-Brousse coordinates: POINT(2.3636935981 48.7951606539)\n"
     ]
    }
   ],
   "execution_count": 48
  },
  {
   "metadata": {},
   "cell_type": "markdown",
   "source": "### Below codes returns the nearest hospital of CASD",
   "id": "18d0f5d36a7efbfc"
  },
  {
   "metadata": {
    "ExecuteTime": {
     "end_time": "2025-08-21T14:07:58.060773Z",
     "start_time": "2025-08-21T14:07:57.772638Z"
    }
   },
   "cell_type": "code",
   "source": [
    "# get all hospital within 5000 meter of CASD\n",
    "casd_near_hos_df = get_near_hospital_v1(hospital_geo_df,casd_geo, 5000)\n",
    "casd_near_hos_df.show(5)"
   ],
   "id": "350ac3f7b65b3b42",
   "outputs": [
    {
     "name": "stdout",
     "output_type": "stream",
     "text": [
      "+-----------+--------------------+--------------------+------------------+\n",
      "|         id|                tags|            location|    distance_meter|\n",
      "+-----------+--------------------+--------------------+------------------+\n",
      "| 2506232459|{website -> http:...|POINT (2.31573960...| 999.4514393892221|\n",
      "| 4936398378|{amenity -> clini...|POINT (2.31413310...|1043.5714649372987|\n",
      "| 9073838043|{healthcare:speci...|POINT (2.3119306 ...|1365.4667383528551|\n",
      "|10883369653|{name -> Clinique...|POINT (2.32937819...|1746.0477473786032|\n",
      "|  483569726|{website -> https...|POINT (2.27683169...|2350.2594029700895|\n",
      "+-----------+--------------------+--------------------+------------------+\n",
      "only showing top 5 rows\n",
      "\n"
     ]
    }
   ],
   "execution_count": 49
  },
  {
   "metadata": {
    "ExecuteTime": {
     "end_time": "2025-08-21T14:07:58.595545Z",
     "start_time": "2025-08-21T14:07:58.392817Z"
    }
   },
   "cell_type": "code",
   "source": "casd_near_hos_df.count()",
   "id": "8b0b08aa41f17892",
   "outputs": [
    {
     "data": {
      "text/plain": [
       "38"
      ]
     },
     "execution_count": 50,
     "metadata": {},
     "output_type": "execute_result"
    }
   ],
   "execution_count": 50
  },
  {
   "metadata": {
    "ExecuteTime": {
     "end_time": "2025-08-21T14:07:59.386242Z",
     "start_time": "2025-08-21T14:07:59.254218Z"
    }
   },
   "cell_type": "code",
   "source": "print(f\"Hospital count within 5km radius of CASD: {casd_near_hos_df.count()} \")",
   "id": "8a3d2bfa2fd9c3b5",
   "outputs": [
    {
     "name": "stdout",
     "output_type": "stream",
     "text": [
      "Hospital count within 5km radius of CASD: 38 \n"
     ]
    }
   ],
   "execution_count": 51
  },
  {
   "metadata": {
    "ExecuteTime": {
     "end_time": "2025-08-21T14:08:00.130080Z",
     "start_time": "2025-08-21T14:07:59.894233Z"
    }
   },
   "cell_type": "code",
   "source": "show_row_details(2506232459)",
   "id": "e028316f6608d4d2",
   "outputs": [
    {
     "name": "stdout",
     "output_type": "stream",
     "text": [
      "-RECORD 0------------------------------------------------------------------------------------------------------------------------------------------------------------------------------------\n",
      " id        | 2506232459                                                                                                                                                                      \n",
      " type      | 0                                                                                                                                                                               \n",
      " latitude  | 48.81152669999993                                                                                                                                                               \n",
      " longitude | 2.3157396000000015                                                                                                                                                              \n",
      " nodes     | []                                                                                                                                                                              \n",
      " relations | []                                                                                                                                                                              \n",
      " tags      | {website -> http://www.centrelafontaine.fr/index.php, name -> Centre médical Lafontaine, source -> survey, amenity -> clinic, healthcare -> clinic, phone -> +33 1 46 55 07 65} \n",
      " info      | {3, 2022-08-25 19:32:36, 0, 0, , NULL}                                                                                                                                          \n",
      "\n"
     ]
    }
   ],
   "execution_count": 52
  },
  {
   "metadata": {
    "ExecuteTime": {
     "end_time": "2025-08-21T14:08:00.450886Z",
     "start_time": "2025-08-21T14:08:00.442313Z"
    }
   },
   "cell_type": "code",
   "source": "casd_near_hos_df.printSchema()",
   "id": "b2c211a51cb34b5",
   "outputs": [
    {
     "name": "stdout",
     "output_type": "stream",
     "text": [
      "root\n",
      " |-- id: long (nullable = true)\n",
      " |-- tags: map (nullable = true)\n",
      " |    |-- key: string\n",
      " |    |-- value: string (valueContainsNull = true)\n",
      " |-- location: geometry (nullable = true)\n",
      " |-- distance_meter: double (nullable = true)\n",
      "\n"
     ]
    }
   ],
   "execution_count": 53
  },
  {
   "metadata": {
    "ExecuteTime": {
     "end_time": "2025-08-21T14:08:02.114282Z",
     "start_time": "2025-08-21T14:08:01.966782Z"
    }
   },
   "cell_type": "code",
   "source": [
    "# get all hospital within 5000 meter of Paul-Brousse\n",
    "pb_near_hos_df = get_near_hospital_v2(hospital_geo_df, pb_geo, 5000.0)\n",
    "pb_near_hos_df.show(5)"
   ],
   "id": "d377252e2c6263c8",
   "outputs": [
    {
     "name": "stdout",
     "output_type": "stream",
     "text": [
      "+---------+--------------------+--------------------+\n",
      "|       id|                tags|            location|\n",
      "+---------+--------------------+--------------------+\n",
      "|452401907|{amenity -> hospi...|POINT (2.29171149...|\n",
      "|476313165|{name -> Maternit...|POINT (2.41460189...|\n",
      "|483569726|{website -> https...|POINT (2.27683169...|\n",
      "|670633220|{name -> Centre H...|POINT (2.45259950...|\n",
      "|783760856|{name -> Centre d...|POINT (2.2442898 ...|\n",
      "+---------+--------------------+--------------------+\n",
      "only showing top 5 rows\n",
      "\n"
     ]
    }
   ],
   "execution_count": 55
  },
  {
   "metadata": {
    "ExecuteTime": {
     "end_time": "2025-08-21T14:08:02.333779Z",
     "start_time": "2025-08-21T14:08:02.153057Z"
    }
   },
   "cell_type": "code",
   "source": "print(f\"Hospital count within 5km radius of Paul-Brousse: {pb_near_hos_df.count()} \")",
   "id": "f3d3caf08529434c",
   "outputs": [
    {
     "name": "stdout",
     "output_type": "stream",
     "text": [
      "Hospital count within 5km radius of Paul-Brousse: 213 \n"
     ]
    }
   ],
   "execution_count": 56
  },
  {
   "metadata": {
    "ExecuteTime": {
     "end_time": "2025-08-21T14:08:02.642859Z",
     "start_time": "2025-08-21T14:08:02.420601Z"
    }
   },
   "cell_type": "code",
   "source": "show_row_details(10926295628)",
   "id": "9652488fe56866a1",
   "outputs": [
    {
     "name": "stdout",
     "output_type": "stream",
     "text": [
      "-RECORD 0-----------------------------------------------------------------------------\n",
      " id        | 10926295628                                                              \n",
      " type      | 0                                                                        \n",
      " latitude  | 48.78587790000029                                                        \n",
      " longitude | 2.366615800000005                                                        \n",
      " nodes     | []                                                                       \n",
      " relations | []                                                                       \n",
      " tags      | {amenity -> clinic, healthcare -> clinic, name -> Centre médical Aragon} \n",
      " info      | {1, 2023-05-25 15:06:07, 0, 0, , NULL}                                   \n",
      "\n"
     ]
    }
   ],
   "execution_count": 57
  },
  {
   "metadata": {},
   "cell_type": "markdown",
   "source": [
    "## Q4. Count hospitals in each commune in Île-de-France\n",
    "\n",
    "For the sake of simplicity, here we only choose the districts(communes) in a radius of 8000 meters of the paris center.\n",
    "\n",
    "1. Get the centroid of Paris\n",
    "2. Get all commune in a Radius of 8000 meters from the centroid of Paris\n",
    "3. Spatial Join(ST_Contains) the hospital data frame with the commune data frame\n",
    "4. Group by the commune and count the hospital numbers\n",
    "5. Generate a map to visualize the results"
   ],
   "id": "83c905200168f214"
  },
  {
   "metadata": {
    "ExecuteTime": {
     "end_time": "2025-08-21T14:08:04.805087Z",
     "start_time": "2025-08-21T14:08:03.591790Z"
    }
   },
   "cell_type": "code",
   "source": [
    "from sedona.spark import *\n",
    "\n",
    "paris_polygon_df = fr_commune_df.filter(col(\"name\") == \"paris\").withColumn(\"centroid\", ST_Centroid(col(\"geometry\")))\n",
    "paris_polygon_df.show()\n",
    "paris_polygon_df.createOrReplaceTempView(\"paris_polygon\")\n"
   ],
   "id": "615d805a59970494",
   "outputs": [
    {
     "name": "stdout",
     "output_type": "stream",
     "text": [
      "+--------------------+-----+-----+--------------------+\n",
      "|            geometry|insee| name|            centroid|\n",
      "+--------------------+-----+-----+--------------------+\n",
      "|POLYGON ((2.22412...|75056|paris|POINT (2.34287643...|\n",
      "+--------------------+-----+-----+--------------------+\n",
      "\n"
     ]
    }
   ],
   "execution_count": 59
  },
  {
   "metadata": {
    "ExecuteTime": {
     "end_time": "2025-08-21T14:08:05.975693Z",
     "start_time": "2025-08-21T14:08:04.891545Z"
    }
   },
   "cell_type": "code",
   "source": [
    "# 2.3428764301940275,48.85662219553845\n",
    "paris_polygon_df.select(\"centroid\").show(truncate=False)"
   ],
   "id": "6bb30cd4813512ed",
   "outputs": [
    {
     "name": "stdout",
     "output_type": "stream",
     "text": [
      "+--------------------------------------------+\n",
      "|centroid                                    |\n",
      "+--------------------------------------------+\n",
      "|POINT (2.3428764301940275 48.85662219553845)|\n",
      "+--------------------------------------------+\n",
      "\n"
     ]
    }
   ],
   "execution_count": 60
  },
  {
   "metadata": {
    "ExecuteTime": {
     "end_time": "2025-08-21T14:08:06.153203Z",
     "start_time": "2025-08-21T14:08:06.031848Z"
    }
   },
   "cell_type": "code",
   "source": [
    "distance = 8000.0\n",
    "filtered_commune_df = (\n",
    "    paris_polygon_df.alias(\"p\")\n",
    "    .join(fr_commune_df.alias(\"fr\"),\n",
    "          ST_DWithin(col(\"p.centroid\"), col(\"fr.geometry\"), lit(distance), lit(True)))\n",
    "    .select(col(\"fr.name\"))\n",
    ")"
   ],
   "id": "d004776f3c76b3f4",
   "outputs": [],
   "execution_count": 61
  },
  {
   "metadata": {
    "ExecuteTime": {
     "end_time": "2025-08-21T14:08:11.825524Z",
     "start_time": "2025-08-21T14:08:06.179209Z"
    }
   },
   "cell_type": "code",
   "source": [
    "# We get 30 communes in the radius of 8000 meters\n",
    "print(f\"total commune count: {filtered_commune_df.count()}\")\n",
    "filtered_commune_df.show()"
   ],
   "id": "91f25752bc98619",
   "outputs": [
    {
     "name": "stdout",
     "output_type": "stream",
     "text": [
      "total commune count: 30\n",
      "+--------------------+\n",
      "|                name|\n",
      "+--------------------+\n",
      "|boulogne-billancourt|\n",
      "|           châtillon|\n",
      "|    levallois-perret|\n",
      "|              vanves|\n",
      "|               paris|\n",
      "|           vincennes|\n",
      "|            bagnolet|\n",
      "|         romainville|\n",
      "|   neuilly-sur-seine|\n",
      "|           les lilas|\n",
      "|         saint-mandé|\n",
      "|le pré-saint-gervais|\n",
      "| issy-les-moulineaux|\n",
      "|          courbevoie|\n",
      "|           montreuil|\n",
      "|       aubervilliers|\n",
      "|saint-ouen-sur-seine|\n",
      "|   charenton-le-pont|\n",
      "|              pantin|\n",
      "|      ivry-sur-seine|\n",
      "+--------------------+\n",
      "only showing top 20 rows\n",
      "\n"
     ]
    }
   ],
   "execution_count": 62
  },
  {
   "metadata": {
    "ExecuteTime": {
     "end_time": "2025-08-21T14:08:14.448169Z",
     "start_time": "2025-08-21T14:08:11.897138Z"
    }
   },
   "cell_type": "code",
   "source": [
    "target_commune = [row[\"name\"] for row in filtered_commune_df.select(\"name\").collect()]\n",
    "\n",
    "print(target_commune)"
   ],
   "id": "35afcaa110dcaeb7",
   "outputs": [
    {
     "name": "stdout",
     "output_type": "stream",
     "text": [
      "['boulogne-billancourt', 'châtillon', 'levallois-perret', 'vanves', 'paris', 'vincennes', 'bagnolet', 'romainville', 'neuilly-sur-seine', 'les lilas', 'saint-mandé', 'le pré-saint-gervais', 'issy-les-moulineaux', 'courbevoie', 'montreuil', 'aubervilliers', 'saint-ouen-sur-seine', 'charenton-le-pont', 'pantin', 'ivry-sur-seine', 'asnières-sur-seine', 'gentilly', 'le kremlin-bicêtre', 'arcueil', 'villejuif', 'cachan', 'malakoff', 'montrouge', 'clichy-la-garenne', 'bagneux']\n"
     ]
    }
   ],
   "execution_count": 63
  },
  {
   "metadata": {
    "ExecuteTime": {
     "end_time": "2025-08-21T14:08:14.547621Z",
     "start_time": "2025-08-21T14:08:14.491314Z"
    }
   },
   "cell_type": "code",
   "source": "target_commune_df = fr_commune_df.filter(col(\"name\").isin(target_commune))\n",
   "id": "51e724419d2b08ea",
   "outputs": [],
   "execution_count": 64
  },
  {
   "metadata": {
    "ExecuteTime": {
     "end_time": "2025-08-21T14:08:15.783938Z",
     "start_time": "2025-08-21T14:08:14.555337Z"
    }
   },
   "cell_type": "code",
   "source": [
    "commune_hospital_df = (\n",
    "    target_commune_df.alias(\"c\")\n",
    "    .join(\n",
    "        hospital_geo_df.alias(\"h\"),\n",
    "        ST_Contains(col(\"c.geometry\"), col(\"h.location\"))\n",
    "    )\n",
    "    .select(\n",
    "        col(\"c.name\").alias(\"commune_name\"),\n",
    "        col(\"c.geometry\").alias(\"commune_geometry\"),\n",
    "        col(\"h.id\").alias(\"hospital_id\")\n",
    "    )\n",
    ")\n",
    "\n",
    "commune_hospital_df.show()\n"
   ],
   "id": "79f42adc5b7d5ab7",
   "outputs": [
    {
     "name": "stdout",
     "output_type": "stream",
     "text": [
      "+--------------------+--------------------+-----------+\n",
      "|        commune_name|    commune_geometry|hospital_id|\n",
      "+--------------------+--------------------+-----------+\n",
      "|boulogne-billancourt|POLYGON ((2.22279...| 3189803775|\n",
      "|boulogne-billancourt|POLYGON ((2.22279...|  783760856|\n",
      "|boulogne-billancourt|POLYGON ((2.22279...| 1224158095|\n",
      "|    levallois-perret|POLYGON ((2.27102...| 5719766166|\n",
      "|               paris|POLYGON ((2.22412...|10883369653|\n",
      "|               paris|POLYGON ((2.22412...| 4936398378|\n",
      "|               paris|POLYGON ((2.22412...| 7923610571|\n",
      "|               paris|POLYGON ((2.22412...| 9073838043|\n",
      "|               paris|POLYGON ((2.22412...|10061970658|\n",
      "|               paris|POLYGON ((2.22412...| 8269359942|\n",
      "|               paris|POLYGON ((2.22412...| 1362787029|\n",
      "|               paris|POLYGON ((2.22412...| 9247842736|\n",
      "|               paris|POLYGON ((2.22412...| 4657177274|\n",
      "|               paris|POLYGON ((2.22412...| 3624753425|\n",
      "|               paris|POLYGON ((2.22412...| 7568123336|\n",
      "|               paris|POLYGON ((2.22412...| 8354199443|\n",
      "|               paris|POLYGON ((2.22412...| 6987051305|\n",
      "|               paris|POLYGON ((2.22412...| 8236688539|\n",
      "|               paris|POLYGON ((2.22412...| 9667186287|\n",
      "|               paris|POLYGON ((2.22412...| 8269359960|\n",
      "+--------------------+--------------------+-----------+\n",
      "only showing top 20 rows\n",
      "\n"
     ]
    }
   ],
   "execution_count": 65
  },
  {
   "metadata": {
    "ExecuteTime": {
     "end_time": "2025-08-21T14:08:15.937624Z",
     "start_time": "2025-08-21T14:08:15.897227Z"
    }
   },
   "cell_type": "code",
   "source": [
    "commune_hospital_count_df = (\n",
    "    commune_hospital_df\n",
    "    .groupBy(col(\"commune_name\"), col(\"commune_geometry\"))\n",
    "    .agg(count(\"*\").alias(\"hospital_count\"))\n",
    "    .orderBy(desc(\"hospital_count\"))\n",
    ")"
   ],
   "id": "5070bcd3df0525b",
   "outputs": [],
   "execution_count": 66
  },
  {
   "metadata": {
    "ExecuteTime": {
     "end_time": "2025-08-21T14:08:16.925786Z",
     "start_time": "2025-08-21T14:08:15.945631Z"
    }
   },
   "cell_type": "code",
   "source": "commune_hospital_count_df.show(5)",
   "id": "37163f2658081592",
   "outputs": [
    {
     "name": "stdout",
     "output_type": "stream",
     "text": [
      "+--------------------+--------------------+--------------+\n",
      "|        commune_name|    commune_geometry|hospital_count|\n",
      "+--------------------+--------------------+--------------+\n",
      "|               paris|POLYGON ((2.22412...|            87|\n",
      "|   neuilly-sur-seine|POLYGON ((2.24562...|             4|\n",
      "|          courbevoie|POLYGON ((2.23059...|             3|\n",
      "|boulogne-billancourt|POLYGON ((2.22279...|             3|\n",
      "|   clichy-la-garenne|POLYGON ((2.28737...|             3|\n",
      "+--------------------+--------------------+--------------+\n",
      "only showing top 5 rows\n",
      "\n"
     ]
    }
   ],
   "execution_count": 67
  },
  {
   "metadata": {
    "ExecuteTime": {
     "end_time": "2025-08-21T14:08:17.033130Z",
     "start_time": "2025-08-21T14:08:17.029099Z"
    }
   },
   "cell_type": "code",
   "source": [
    "map_config = {\n",
    "    \"visState\": {\n",
    "        \"layers\": [\n",
    "            {\n",
    "                \"type\": \"polygone\",\n",
    "                \"config\": {\n",
    "                    \"dataId\": \"Ile-de-France hospital counts\",\n",
    "                    \"label\": \"Transactions\",\n",
    "                    \"color\": [255, 0, 0],\n",
    "                    \"isVisible\": True,\n",
    "                },\n",
    "                \"visualChannels\": {\n",
    "                    \"colorField\": {\"name\": \"hospital_count\", \"type\": \"real\"},\n",
    "                    \"colorScale\": \"quantile\"\n",
    "                }\n",
    "            }\n",
    "        ]\n",
    "    },\n",
    "    \"mapState\": {\n",
    "        \"bearing\": 0,\n",
    "        \"latitude\": 48.816,      # Starting center latitude\n",
    "        \"longitude\": 2.313,      # Starting center longitude\n",
    "        \"pitch\": 0,\n",
    "        \"zoom\": 13                # Starting zoom level\n",
    "    }\n",
    "}"
   ],
   "id": "fc3ff86f10188927",
   "outputs": [],
   "execution_count": 68
  },
  {
   "metadata": {
    "ExecuteTime": {
     "end_time": "2025-08-21T14:08:18.169787Z",
     "start_time": "2025-08-21T14:08:17.074659Z"
    }
   },
   "cell_type": "code",
   "source": [
    "kepler_map_path = kepler_map_path = f\"{data_dir}/tmp/commune_hospital_count_map.html\"\n",
    "commune_hospital_count_map = SedonaKepler.create_map(df=commune_hospital_count_df, name=\"commune_hospital_count\", config=map_config)\n",
    "commune_hospital_count_map.save_to_html(file_name=kepler_map_path)"
   ],
   "id": "38ae287df5540bb4",
   "outputs": [
    {
     "name": "stdout",
     "output_type": "stream",
     "text": [
      "User Guide: https://docs.kepler.gl/docs/keplergl-jupyter\n",
      "Map saved to C:\\Users\\PLIU\\Documents\\git\\Seminar_PySpark_Sedona_GeoParquet/data/tmp/commune_hospital_count_map.html!\n"
     ]
    }
   ],
   "execution_count": 69
  },
  {
   "metadata": {},
   "cell_type": "markdown",
   "source": [
    "## User define function(UDF)\n",
    "\n",
    "If you want to transform your data with a specific logic, and you can not implement it with existing spark or sedona functions. You can define your own function. We call it UDF (User Defined Function). To do so, you need to two steps:\n",
    "- create a simple python function\n",
    "- register the function as pyspark UDF\n",
    "\n",
    "Imagine the below dataframe which shows all hospitals near CASD."
   ],
   "id": "92e30f14c900a4ef"
  },
  {
   "metadata": {
    "ExecuteTime": {
     "end_time": "2025-08-21T14:16:19.817854Z",
     "start_time": "2025-08-21T14:16:19.738598Z"
    }
   },
   "cell_type": "code",
   "source": "casd_near_hos_df.show(5)",
   "id": "c407ca65dc0136ac",
   "outputs": [
    {
     "name": "stdout",
     "output_type": "stream",
     "text": [
      "+-----------+--------------------+--------------------+------------------+\n",
      "|         id|                tags|            location|    distance_meter|\n",
      "+-----------+--------------------+--------------------+------------------+\n",
      "| 2506232459|{website -> http:...|POINT (2.31573960...| 999.4514393892221|\n",
      "| 4936398378|{amenity -> clini...|POINT (2.31413310...|1043.5714649372987|\n",
      "| 9073838043|{healthcare:speci...|POINT (2.3119306 ...|1365.4667383528551|\n",
      "|10883369653|{name -> Clinique...|POINT (2.32937819...|1746.0477473786032|\n",
      "|  483569726|{website -> https...|POINT (2.27683169...|2350.2594029700895|\n",
      "+-----------+--------------------+--------------------+------------------+\n",
      "only showing top 5 rows\n",
      "\n"
     ]
    }
   ],
   "execution_count": 70
  },
  {
   "metadata": {},
   "cell_type": "markdown",
   "source": [
    "We want to classify the distance of these hospitals by\n",
    "- near\n",
    "- ok\n",
    "- far"
   ],
   "id": "ed22973419d8c8cb"
  },
  {
   "metadata": {
    "ExecuteTime": {
     "end_time": "2025-08-21T14:20:05.257524Z",
     "start_time": "2025-08-21T14:20:05.252580Z"
    }
   },
   "cell_type": "code",
   "source": [
    "# step1: define the function\n",
    "def classify_distance(distance:float)->str:\n",
    "    if distance<1000:\n",
    "        return \"near\"\n",
    "    elif 1000<=distance<2000:\n",
    "        return \"ok\"\n",
    "    else:\n",
    "        return \"far\"\n"
   ],
   "id": "7ae04c563f8484de",
   "outputs": [],
   "execution_count": 71
  },
  {
   "metadata": {
    "ExecuteTime": {
     "end_time": "2025-08-21T14:20:05.702355Z",
     "start_time": "2025-08-21T14:20:05.692966Z"
    }
   },
   "cell_type": "code",
   "source": [
    "from pyspark.sql.functions import udf\n",
    "from pyspark.sql.types import StringType\n",
    "\n",
    "# step2: Register the function as PySpark UDF\n",
    "classify_distance_udf = udf(classify_distance, StringType())"
   ],
   "id": "95b7531e88680bf8",
   "outputs": [],
   "execution_count": 72
  },
  {
   "metadata": {
    "ExecuteTime": {
     "end_time": "2025-08-21T14:21:11.264809Z",
     "start_time": "2025-08-21T14:21:11.208528Z"
    }
   },
   "cell_type": "code",
   "source": "casd_near_hos_df_with_tags =  casd_near_hos_df.withColumn(\"distance_category\", classify_distance_udf(casd_near_hos_df[\"distance_meter\"]))",
   "id": "a436c11cf224cac0",
   "outputs": [],
   "execution_count": 73
  },
  {
   "metadata": {
    "ExecuteTime": {
     "end_time": "2025-08-21T14:21:20.549419Z",
     "start_time": "2025-08-21T14:21:19.182761Z"
    }
   },
   "cell_type": "code",
   "source": "casd_near_hos_df_with_tags.show(10)",
   "id": "91588cfc087d51c9",
   "outputs": [
    {
     "name": "stdout",
     "output_type": "stream",
     "text": [
      "+-----------+--------------------+--------------------+------------------+-----------------+\n",
      "|         id|                tags|            location|    distance_meter|distance_category|\n",
      "+-----------+--------------------+--------------------+------------------+-----------------+\n",
      "| 2506232459|{website -> http:...|POINT (2.31573960...| 999.4514393892221|             near|\n",
      "| 4936398378|{amenity -> clini...|POINT (2.31413310...|1043.5714649372987|               ok|\n",
      "| 9073838043|{healthcare:speci...|POINT (2.3119306 ...|1365.4667383528551|               ok|\n",
      "|10883369653|{name -> Clinique...|POINT (2.32937819...|1746.0477473786032|               ok|\n",
      "|  483569726|{website -> https...|POINT (2.27683169...|2350.2594029700895|              far|\n",
      "|11573359157|{addr:housenumber...|POINT (2.30365849...|2398.5738245396683|              far|\n",
      "| 4751279276|{amenity -> clini...|POINT (2.31791039...| 2414.454825817918|              far|\n",
      "|10061970658|{healthcare:speci...|POINT (2.33467680...|2551.2402271081874|              far|\n",
      "|10736464005|{website -> https...|POINT (2.30964510...|2556.5004913368452|              far|\n",
      "| 7923610571|{amenity -> clini...|POINT (2.34180059...|2685.6248123082305|              far|\n",
      "+-----------+--------------------+--------------------+------------------+-----------------+\n",
      "only showing top 10 rows\n",
      "\n"
     ]
    }
   ],
   "execution_count": 74
  },
  {
   "metadata": {},
   "cell_type": "code",
   "outputs": [],
   "execution_count": null,
   "source": [
    "# stop spark session\n",
    "spark.stop()"
   ],
   "id": "63a6a1e6bed9922d"
  }
 ],
 "metadata": {
  "kernelspec": {
   "display_name": "Python 3",
   "language": "python",
   "name": "python3"
  },
  "language_info": {
   "codemirror_mode": {
    "name": "ipython",
    "version": 2
   },
   "file_extension": ".py",
   "mimetype": "text/x-python",
   "name": "python",
   "nbconvert_exporter": "python",
   "pygments_lexer": "ipython2",
   "version": "2.7.6"
  }
 },
 "nbformat": 4,
 "nbformat_minor": 5
}
